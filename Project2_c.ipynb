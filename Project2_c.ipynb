{
 "cells": [
  {
   "cell_type": "markdown",
   "metadata": {},
   "source": [
    "# Project 2 : Two dimentional Ising model"
   ]
  },
  {
   "cell_type": "code",
   "execution_count": 1,
   "metadata": {},
   "outputs": [],
   "source": [
    "%load_ext autoreload\n",
    "%autoreload 2"
   ]
  },
  {
   "cell_type": "code",
   "execution_count": 2,
   "metadata": {
    "collapsed": true
   },
   "outputs": [],
   "source": [
    "%reload_ext autoreload"
   ]
  },
  {
   "cell_type": "code",
   "execution_count": 11,
   "metadata": {
    "scrolled": false
   },
   "outputs": [],
   "source": [
    "import pickle\n",
    "import os\n",
    "import glob\n",
    "import numpy as np\n",
    "import pandas as pd\n",
    "import matplotlib.pyplot as plt\n",
    "import seaborn as sns\n",
    "import sklearn.model_selection as skms\n",
    "import sklearn.linear_model as skl\n",
    "import sklearn.metrics as skm\n",
    "import tqdm\n",
    "import copy\n",
    "import time\n",
    "from IPython.display import display\n",
    "\n",
    "%matplotlib inline\n",
    "\n",
    "sns.set(color_codes=True)\n",
    "\n",
    "import algorithms\n",
    "from classification import LogisticRegression"
   ]
  },
  {
   "cell_type": "code",
   "execution_count": 12,
   "metadata": {
    "collapsed": true
   },
   "outputs": [],
   "source": [
    "cwd = os.getcwd()\n",
    "filenames = glob.glob(os.path.join(cwd, 'files*'))"
   ]
  },
  {
   "cell_type": "code",
   "execution_count": 13,
   "metadata": {},
   "outputs": [],
   "source": [
    "label_filename = \"/home/hanna/project2/files/Ising2DFM_reSample_L40_T=All_labels.pkl\"\n",
    "\n",
    "# Read in the labels\n",
    "with open(label_filename, \"rb\") as f:\n",
    "    labels = pickle.load(f)\n",
    "\n",
    "dat_filename = \"/home/hanna/project2/files/Ising2DFM_reSample_L40_T=All.pkl\"\n",
    "    \n",
    "# Read in the corresponding configurations\n",
    "with open(dat_filename, \"rb\") as f:\n",
    "    data = np.unpackbits(pickle.load(f)).reshape(-1, 1600).astype(\"int\")\n",
    "\n",
    "# Set spin-down to -1\n",
    "data[data == 0] = -1"
   ]
  },
  {
   "cell_type": "code",
   "execution_count": 14,
   "metadata": {},
   "outputs": [
    {
     "data": {
      "text/plain": [
       "(160000, 1600)"
      ]
     },
     "execution_count": 14,
     "metadata": {},
     "output_type": "execute_result"
    }
   ],
   "source": [
    "data.shape"
   ]
  },
  {
   "cell_type": "code",
   "execution_count": 7,
   "metadata": {
    "collapsed": true
   },
   "outputs": [],
   "source": [
    "# Set up slices of the dataset\n",
    "ordered = slice(0, 70000)\n",
    "critical = slice(70000, 100000)\n",
    "disordered = slice(100000, 160000)\n",
    "\n",
    "X = np.concatenate((data[ordered], data[disordered]))\n",
    "Y = np.concatenate((labels[ordered], labels[disordered]))"
   ]
  },
  {
   "cell_type": "code",
   "execution_count": 8,
   "metadata": {},
   "outputs": [
    {
     "data": {
      "text/plain": [
       "((70000,), (60000,))"
      ]
     },
     "execution_count": 8,
     "metadata": {},
     "output_type": "execute_result"
    }
   ],
   "source": [
    "labels[ordered].shape, labels[disordered].shape"
   ]
  },
  {
   "cell_type": "code",
   "execution_count": 15,
   "metadata": {},
   "outputs": [
    {
     "data": {
      "text/plain": [
       "((70000, 1600), (60000, 1600))"
      ]
     },
     "execution_count": 15,
     "metadata": {},
     "output_type": "execute_result"
    }
   ],
   "source": [
    "data[ordered].shape, data[disordered].shape"
   ]
  },
  {
   "cell_type": "code",
   "execution_count": 16,
   "metadata": {
    "scrolled": true
   },
   "outputs": [
    {
     "data": {
      "text/plain": [
       "(130000,)"
      ]
     },
     "execution_count": 16,
     "metadata": {},
     "output_type": "execute_result"
    }
   ],
   "source": [
    "Y.shape"
   ]
  },
  {
   "cell_type": "code",
   "execution_count": 17,
   "metadata": {},
   "outputs": [
    {
     "data": {
      "text/plain": [
       "array([[ 1,  1, -1, ..., -1,  1,  1],\n",
       "       [ 1,  1, -1, ...,  1,  1,  1],\n",
       "       [-1, -1, -1, ..., -1, -1, -1],\n",
       "       ..., \n",
       "       [ 1,  1,  1, ...,  1,  1, -1],\n",
       "       [ 1,  1,  1, ...,  1, -1, -1],\n",
       "       [ 1,  1,  1, ...,  1, -1, -1]])"
      ]
     },
     "execution_count": 17,
     "metadata": {},
     "output_type": "execute_result"
    }
   ],
   "source": [
    "data[disordered]"
   ]
  },
  {
   "cell_type": "code",
   "execution_count": 18,
   "metadata": {
    "scrolled": true
   },
   "outputs": [
    {
     "data": {
      "text/plain": [
       "(130000, 1600)"
      ]
     },
     "execution_count": 18,
     "metadata": {},
     "output_type": "execute_result"
    }
   ],
   "source": [
    "X.shape"
   ]
  },
  {
   "cell_type": "code",
   "execution_count": 19,
   "metadata": {
    "collapsed": true
   },
   "outputs": [],
   "source": [
    "X_train, X_test, y_train, y_test = skms.train_test_split(X,Y, test_size = 0.333)"
   ]
  },
  {
   "cell_type": "code",
   "execution_count": 14,
   "metadata": {
    "collapsed": true
   },
   "outputs": [],
   "source": [
    "#from utils import train_test_split\n",
    "#X_train, X_test, y_train, y_test = train_test_split(X, Y, split_size=0.3, random_state=0)"
   ]
  },
  {
   "cell_type": "code",
   "execution_count": 15,
   "metadata": {},
   "outputs": [
    {
     "data": {
      "text/plain": [
       "(array([0, 1, 1, ..., 0, 0, 0]), array([0, 0, 0, ..., 1, 1, 0]))"
      ]
     },
     "execution_count": 15,
     "metadata": {},
     "output_type": "execute_result"
    }
   ],
   "source": [
    "# Testing that y_test and train contain both label \n",
    "y_train, y_test"
   ]
  },
  {
   "cell_type": "markdown",
   "metadata": {},
   "source": [
    "# Running different cases of Logistic Regression"
   ]
  },
  {
   "cell_type": "markdown",
   "metadata": {},
   "source": [
    "# sjekker om koden funker, kjør for 50 når du går hjem"
   ]
  },
  {
   "cell_type": "code",
   "execution_count": null,
   "metadata": {
    "scrolled": false
   },
   "outputs": [
    {
     "name": "stdout",
     "output_type": "stream",
     "text": [
      " For eta 0.0001  and lmd = 0.0001 the accuracy is 0.646 \n",
      " For eta 0.0001  and lmd = 0.0010 the accuracy is 0.642 \n",
      " For eta 0.0001  and lmd = 0.0100 the accuracy is 0.437 \n",
      " For eta 0.0001  and lmd = 0.1000 the accuracy is 0.281 \n",
      " For eta 0.0001  and lmd = 1.0000 the accuracy is 0.538 \n",
      " For eta 0.0001  and lmd = 10.0000 the accuracy is 0.538 \n",
      "----------------------------\n",
      " For eta 0.0010  and lmd = 0.0001 the accuracy is 0.481 \n",
      " For eta 0.0010  and lmd = 0.0010 the accuracy is 0.480 \n",
      " For eta 0.0010  and lmd = 0.0100 the accuracy is 0.469 \n",
      " For eta 0.0010  and lmd = 0.1000 the accuracy is 0.398 \n",
      " For eta 0.0010  and lmd = 1.0000 the accuracy is 0.275 \n",
      " For eta 0.0010  and lmd = 10.0000 the accuracy is 0.349 \n",
      "----------------------------\n",
      " For eta 0.0100  and lmd = 0.0001 the accuracy is 0.469 \n",
      " For eta 0.0100  and lmd = 0.0010 the accuracy is 0.469 \n"
     ]
    }
   ],
   "source": [
    "eta = [0.0001, 0.001, 0.01, 0.1]\n",
    "lmd = [0.0001, 0.001, 0.01, 0.1, 1.0, 10]\n",
    "\n",
    "results = []\n",
    "epoch_costs = []\n",
    "\n",
    "for e in eta:\n",
    "    for l in lmd:\n",
    "        a = LogisticRegression(eta = e,\n",
    "                               random_state = 0, \n",
    "                               shuffle = True,\n",
    "                               batch_size = 10, \n",
    "                               epochs=10, \n",
    "                               penalty = \"l1\",\n",
    "                               lmd = l, \n",
    "                               key = \"sigmoid\")\n",
    "                            \n",
    "        log = a.fit(X_train, y_train, X_train, y_train)\n",
    "        epoch_costs.append(log.epochCost)\n",
    "        score = log.predict(X_test)\n",
    "        acc = np.sum(score == y_test)/len(score)\n",
    "        results.append(acc)\n",
    "        print(\" For eta %.4f  and lmd = %.4f the accuracy is %.3f \" %(e, l, acc))\n",
    "    print(\"----------------------------\")"
   ]
  },
  {
   "cell_type": "code",
   "execution_count": null,
   "metadata": {},
   "outputs": [],
   "source": [
    "m = np.array(results).reshape((len(eta), len(lmd)))\n",
    "\n",
    "plt.figure(figsize=(12,6))\n",
    "ax = sns.heatmap(m, annot = True, xticklabels=lmd, yticklabels=eta)\n",
    "ax.set_title(\"Logistic regression Lasso using Sigmoid, 10 epochs\", fontsize = 20)\n",
    "ax.set_xlabel(\"Lambda value\", fontsize = 15)\n",
    "ax.set_ylabel(\"Eta value\", fontsize = 15) #\n",
    "plt.savefig(\"./results/figures/Logisticregression_Lasso_sigmoid_10.png\")"
   ]
  },
  {
   "cell_type": "code",
   "execution_count": null,
   "metadata": {
    "collapsed": true
   },
   "outputs": [],
   "source": [
    "np.shape(epoch_costs[0])"
   ]
  },
  {
   "cell_type": "code",
   "execution_count": null,
   "metadata": {
    "collapsed": true
   },
   "outputs": [],
   "source": [
    "\n",
    "best_fit = epoch_costs[0]\n",
    "epochs = np.arange(10)\n",
    "\n",
    "plt.figure(figsize = (10,6))\n",
    "plt.title(\"Costfunction for LASSO\" ,fontsize = 20)\n",
    "\n",
    "plt.plot(epochs, best_fit, label = \"lmd = 0.0001, eta = 0.0001\")\n",
    "plt.xlabel(\"Epoch\", fontsize = 15)\n",
    "plt.ylabel(\"Cost\", fontsize = 15)\n",
    "plt.legend()\n",
    "plt.savefig(\"costfunc_lasso_sigmoid_epochs10.png\")\"\"\""
   ]
  },
  {
   "cell_type": "markdown",
   "metadata": {},
   "source": [
    "# Plotting the most accuracte case pr epoch"
   ]
  },
  {
   "cell_type": "code",
   "execution_count": 20,
   "metadata": {},
   "outputs": [],
   "source": [
    "results = []\n",
    "epoch_costs = []\n",
    "\n",
    "test_m = []\n",
    "train_m = []\n",
    "\n",
    "a = LogisticRegression(eta = 0.0001,\n",
    "                       random_state = 0, \n",
    "                       shuffle = True,\n",
    "                       batch_size = 10, \n",
    "                       epochs=50, \n",
    "                       penalty = \"l1\",\n",
    "                       lmd = 0.0001, \n",
    "                       key = \"sigmoid\")\n",
    "\n",
    "log = a.fit(X_train, y_train, X_test, y_test)\n",
    "epoch_costs.append(log.epochCost)\n",
    "\n",
    "train_m.append(log.eval_[\"train_preform\"])\n",
    "test_m.append(log.eval_[\"valid_preform\"])"
   ]
  },
  {
   "cell_type": "code",
   "execution_count": 22,
   "metadata": {},
   "outputs": [
    {
     "data": {
      "image/png": "[encoded data removed]",
      "text/plain": [
       "<matplotlib.figure.Figure at 0x7fcca8a38a20>"
      ]
     },
     "metadata": {},
     "output_type": "display_data"
    }
   ],
   "source": [
    "plt.figure(figsize = (10,8))\n",
    "plt.title(\"Accuracy of Logistic regression with lmd = 0.0001 and eta = 0.0001\", fontsize = 20)\n",
    "plt.plot(np.arange(50), test_m[0], label = \"test\")\n",
    "plt.plot(np.arange(50), train_m[0], label = \"train\")\n",
    "plt.xlabel(\"Epoch\", fontsize = 15)\n",
    "plt.ylabel(\"Accuracy\", fontsize = 15)\n",
    "plt.legend()\n",
    "plt.savefig(\"./results/figures/logreg_accuracy_50epochs.png\")"
   ]
  },
  {
   "cell_type": "code",
   "execution_count": 26,
   "metadata": {},
   "outputs": [],
   "source": [
    "#train_m"
   ]
  },
  {
   "cell_type": "markdown",
   "metadata": {},
   "source": [
    "# Various activation functions;  leaky relu and elu"
   ]
  },
  {
   "cell_type": "code",
   "execution_count": 53,
   "metadata": {},
   "outputs": [
    {
     "name": "stderr",
     "output_type": "stream",
     "text": [
      "/home/hanna/project2/classificationNew.py:109: RuntimeWarning: invalid value encountered in log\n",
      "  cost = -batchY.dot(np.log(output + 1e-8)) - ((1 - batchY).dot(np.log(1 - output + 1e-8) )) + cterm\n"
     ]
    },
    {
     "name": "stdout",
     "output_type": "stream",
     "text": [
      "lmd: 0.0001  eta: 0.0001 accuracy  0.538577038577\n",
      "lmd: 0.001  eta: 0.0001 accuracy  0.538577038577\n",
      "lmd: 0.01  eta: 0.0001 accuracy  0.538369138369\n",
      "lmd: 0.1  eta: 0.0001 accuracy  0.538369138369\n",
      "lmd: 1.0  eta: 0.0001 accuracy  0.538369138369\n",
      "lmd: 10  eta: 0.0001 accuracy  0.538369138369\n"
     ]
    },
    {
     "name": "stderr",
     "output_type": "stream",
     "text": [
      "/home/hanna/project2/classificationNew.py:118: RuntimeWarning: invalid value encountered in greater_equal\n",
      "  score = np.sum(np.where(test >= 0.5, 1, 0) == batchY)/len(output)\n",
      "/home/hanna/project2/classificationNew.py:145: RuntimeWarning: invalid value encountered in less_equal\n",
      "  Z_out[np.where(Xw <= 0)] = self.alpha * Xw[np.where(Xw <= 0)]\n",
      "/home/hanna/project2/classificationNew.py:164: RuntimeWarning: invalid value encountered in greater_equal\n",
      "  return np.where(new >= 0.5, 1, 0)\n"
     ]
    },
    {
     "name": "stdout",
     "output_type": "stream",
     "text": [
      "lmd: 0.0001  eta: 0.001 accuracy  0.461630861631\n",
      "lmd: 0.001  eta: 0.001 accuracy  0.461630861631\n",
      "lmd: 0.01  eta: 0.001 accuracy  0.461630861631\n"
     ]
    },
    {
     "name": "stderr",
     "output_type": "stream",
     "text": [
      "/home/hanna/project2/classificationNew.py:116: RuntimeWarning: invalid value encountered in add\n",
      "  net_input = np.dot(batchX, self.w_) + self.b_\n"
     ]
    },
    {
     "name": "stdout",
     "output_type": "stream",
     "text": [
      "lmd: 0.1  eta: 0.001 accuracy  0.461630861631\n",
      "lmd: 1.0  eta: 0.001 accuracy  0.461630861631\n",
      "lmd: 10  eta: 0.001 accuracy  0.461630861631\n",
      "lmd: 0.0001  eta: 0.01 accuracy  0.461630861631\n",
      "lmd: 0.001  eta: 0.01 accuracy  0.461630861631\n",
      "lmd: 0.01  eta: 0.01 accuracy  0.461630861631\n",
      "lmd: 0.1  eta: 0.01 accuracy  0.461630861631\n",
      "lmd: 1.0  eta: 0.01 accuracy  0.461630861631\n",
      "lmd: 10  eta: 0.01 accuracy  0.461630861631\n",
      "lmd: 0.0001  eta: 0.1 accuracy  0.461630861631\n",
      "lmd: 0.001  eta: 0.1 accuracy  0.461630861631\n"
     ]
    },
    {
     "name": "stderr",
     "output_type": "stream",
     "text": [
      "/home/hanna/project2/classificationNew.py:93: RuntimeWarning: invalid value encountered in add\n",
      "  net_input = np.dot(batchX, self.w_) + self.b_\n"
     ]
    },
    {
     "name": "stdout",
     "output_type": "stream",
     "text": [
      "lmd: 0.01  eta: 0.1 accuracy  0.461630861631\n",
      "lmd: 0.1  eta: 0.1 accuracy  0.461630861631\n",
      "lmd: 1.0  eta: 0.1 accuracy  0.461630861631\n",
      "lmd: 10  eta: 0.1 accuracy  0.461630861631\n"
     ]
    }
   ],
   "source": [
    "eta = [0.0001, 0.001, 0.01, 0.1]\n",
    "lmd = [0.0001, 0.001, 0.01, 0.1, 1.0, 10]\n",
    "\n",
    "results = []\n",
    "epoch_costs = []\n",
    "# windows + l\n",
    "\n",
    "for e in eta:\n",
    "    for l in lmd:\n",
    "        a = LogisticRegression(eta = e,\n",
    "                               random_state = 0, \n",
    "                               shuffle = True,\n",
    "                               batch_size = 10, \n",
    "                               epochs=50, \n",
    "                               penalty = \"l1\",\n",
    "                               lmd = l, \n",
    "                               key = \"LReLu\",\n",
    "                               alpha = 0.0001)\n",
    "                            \n",
    "        log = a.fit(X_train, y_train, X_train, y_train)\n",
    "        epoch_costs.append(log.epochCost)\n",
    "        score = log.predict(X_test)\n",
    "        acc = np.sum(score == y_test)/len(score)\n",
    "        print(\"lmd: \" + str(l) + \"  eta: \" + str(e) + \" accuracy  \" + str(acc))\n",
    "        results.append(acc)"
   ]
  },
  {
   "cell_type": "code",
   "execution_count": 55,
   "metadata": {},
   "outputs": [
    {
     "data": {
      "image/png": "[encoded data removed]",
      "text/plain": [
       "<matplotlib.figure.Figure at 0x7fa588375748>"
      ]
     },
     "metadata": {},
     "output_type": "display_data"
    }
   ],
   "source": [
    "m = np.array(results).reshape((len(eta), len(lmd)))\n",
    "\n",
    "plt.figure(figsize=(12,6))\n",
    "ax = sns.heatmap(m, annot = True, xticklabels=lmd, yticklabels=eta)\n",
    "ax.set_title(\"Logistic regression Lasso using leaky ReLu, 50 epochs\", fontsize = 20)\n",
    "ax.set_xlabel(\"Lambda value\", fontsize = 15)\n",
    "ax.set_ylabel(\"Eta value\", fontsize = 15) #\n",
    "plt.savefig(\"./results/figures/Logisticregression_Lasso_LRELU_50.png\")"
   ]
  },
  {
   "cell_type": "code",
   "execution_count": null,
   "metadata": {},
   "outputs": [],
   "source": [
    "eta = [0.0001, 0.001, 0.01, 0.1]\n",
    "lmd = [0.0001, 0.001, 0.01, 0.1, 1.0, 10]\n",
    "\n",
    "results = []\n",
    "epoch_costs = []\n",
    "\n",
    "for e in eta:\n",
    "    for l in lmd:\n",
    "        a = LogisticRegression(eta = e,\n",
    "                               random_state = 0, \n",
    "                               shuffle = True,\n",
    "                               batch_size = 10, \n",
    "                               epochs=50, \n",
    "                               penalty = \"l1\",\n",
    "                               lmd = l, \n",
    "                               key = \"elu\", \n",
    "                               alpha = 0.0001)\n",
    "                            \n",
    "        log = a.fit(X_train, y_train, X_test, y_test)\n",
    "        epoch_costs.append(log.epochCost)\n",
    "        score = log.predict(X_test)\n",
    "        acc = np.sum(score == y_test)/len(score)\n",
    "        print(\"lmd: \" + str(l) + \"  eta: \" + str(e) + \" accuracy  \" + str(acc))\n",
    "        results.append(acc)"
   ]
  },
  {
   "cell_type": "code",
   "execution_count": 57,
   "metadata": {},
   "outputs": [
    {
     "data": {
      "text/plain": [
       "[0.53857703857703854,\n",
       " 0.53857703857703854,\n",
       " 0.53836913836913836,\n",
       " 0.53836913836913836,\n",
       " 0.53836913836913836,\n",
       " 0.53836913836913836,\n",
       " 0.46163086163086164,\n",
       " 0.46163086163086164,\n",
       " 0.46163086163086164,\n",
       " 0.46163086163086164,\n",
       " 0.46163086163086164,\n",
       " 0.46163086163086164,\n",
       " 0.46163086163086164,\n",
       " 0.46163086163086164,\n",
       " 0.46163086163086164,\n",
       " 0.46163086163086164,\n",
       " 0.46163086163086164,\n",
       " 0.46163086163086164,\n",
       " 0.46163086163086164,\n",
       " 0.46163086163086164]"
      ]
     },
     "execution_count": 57,
     "metadata": {},
     "output_type": "execute_result"
    }
   ],
   "source": [
    "a = LogisticRegression(eta = 0.0001,\n",
    "                       random_state = 0, \n",
    "                       shuffle = True,\n",
    "                       batch_size = 10, \n",
    "                       epochs=50, \n",
    "                       penalty = \"l1\",\n",
    "                       lmd = 0.001, \n",
    "                       key = \"sigmoid\", \n",
    "                       alpha = 0.0001)\n",
    "\n",
    "log = a.fit(X_train, y_train)\n",
    "epoch_costs.append(log.epochCost)\n",
    "score = log.predict(X_test)\n",
    "acc = np.sum(score == y_test)/len(score)\n",
    "print(\"lmd: \" + str(l) + \"  eta: \" + str(e) + \" accuracy  \" + str(acc))"
   ]
  },
  {
   "cell_type": "code",
   "execution_count": null,
   "metadata": {
    "collapsed": true
   },
   "outputs": [],
   "source": [
    "m = np.array(results).reshape((len(eta), len(lmd)))\n",
    "\n",
    "plt.figure(figsize=(12,6))\n",
    "ax = sns.heatmap(m, annot = True, xticklabels=lmd, yticklabels=eta)\n",
    "ax.set_title(\"Logistic regression Lasso using elu, 50 epoch\", fontsize = 20)\n",
    "ax.set_xlabel(\"Lambda value\", fontsize = 15)\n",
    "ax.set_ylabel(\"Eta value\", fontsize = 15)\n",
    "plt.savefig(\"./results/figures/Logisticregression_Lasso_ELU_50.png\")"
   ]
  },
  {
   "cell_type": "markdown",
   "metadata": {},
   "source": [
    "# Generated plots for the Appendix of  epochs = 1, 10"
   ]
  },
  {
   "cell_type": "code",
   "execution_count": null,
   "metadata": {
    "collapsed": true
   },
   "outputs": [],
   "source": [
    "eta = [0.0001, 0.001, 0.01, 0.1]\n",
    "lmd = [0.0001, 0.001, 0.01, 0.1, 1.0, 10]\n",
    "\n",
    "results = []\n",
    "epoch_costs = []\n",
    "# windows + l\n",
    "\n",
    "for e in eta:\n",
    "    for l in lmd:\n",
    "        a = LogisticRegression(eta = e,\n",
    "                               random_state = 0, \n",
    "                               shuffle = True,\n",
    "                               batch_size = 10, \n",
    "                               epochs=1, \n",
    "                               penalty = \"l1\",\n",
    "                               lmd = l, \n",
    "                               key = \"sigmoid\")\n",
    "                            \n",
    "        log = a.fit(X_train, y_train)\n",
    "        epoch_costs.append(log.epochCost)\n",
    "        score = log.predict(X_test)\n",
    "        acc = np.sum(score == y_test)/len(score)\n",
    "        print(\"lmd: \" + str(l) + \"  eta: \" + str(e) + \" accuracy  \" + str(acc))\n",
    "        results.append(acc)"
   ]
  },
  {
   "cell_type": "code",
   "execution_count": null,
   "metadata": {
    "collapsed": true
   },
   "outputs": [],
   "source": [
    "m = np.array(results).reshape((len(eta), len(lmd)))\n",
    "\n",
    "plt.figure(figsize=(12,6))\n",
    "ax = sns.heatmap(m, annot = True, xticklabels=lmd, yticklabels=eta)\n",
    "ax.set_title(\"Logistic regression Lasso using Sigmoid, 1 epoch\", fontsize = 20)\n",
    "ax.set_xlabel(\"Lambda value\", fontsize = 15)\n",
    "ax.set_ylabel(\"Eta value\", fontsize = 15)\n",
    "plt.savefig(\"./results/figures/Logisticregression_Lasso_sigmoid_1.png\")"
   ]
  },
  {
   "cell_type": "markdown",
   "metadata": {},
   "source": [
    "# Ridge regression, 50 epochs, sigmoid "
   ]
  },
  {
   "cell_type": "code",
   "execution_count": null,
   "metadata": {
    "collapsed": true
   },
   "outputs": [],
   "source": [
    "eta = [0.0001, 0.001, 0.01, 0.1]\n",
    "lmd = [0.0001, 0.001, 0.01, 0.1, 1.0, 10]\n",
    "\n",
    "results = []\n",
    "\n",
    "# windows + l\n",
    "\n",
    "for e in eta:\n",
    "    for l in lmd:\n",
    "        a = LogisticRegression(eta = e,\n",
    "                               random_state = 0, \n",
    "                               shuffle = True,\n",
    "                               batch_size = 10, \n",
    "                               epochs=50, \n",
    "                               penalty = \"l2\",\n",
    "                               lmd = l, \n",
    "                               tolerance=1e-14, \n",
    "                               key = \"sigmoid\", \n",
    "                               alpha = 0.01)\n",
    "                            \n",
    "        log = a.fit(X_train, y_train)\n",
    "        score = log.predict(X_test)\n",
    "        acc = np.sum(score == y_test)/len(score)\n",
    "        print(\"lmd: \" + str(l) + \"  eta: \" + str(e) + \" accuracy  \" + str(acc))\n",
    "        results.append(acc)"
   ]
  },
  {
   "cell_type": "code",
   "execution_count": null,
   "metadata": {
    "collapsed": true
   },
   "outputs": [],
   "source": [
    "m = np.array(results).reshape((len(eta), len(lmd)))\n",
    "\n",
    "plt.figure(figsize=(12,6))\n",
    "ax = sns.heatmap(m, annot = True, xticklabels=lmd, yticklabels=eta)\n",
    "ax.set_title(\"Logistic regression Ridge using Sigmoid\", fontsize = 20)\n",
    "ax.set_xlabel(\"Lambda value\", fontsize = 15)\n",
    "ax.set_ylabel(\"Eta value\", fontsize = 15) #\n",
    "plt.savefig(\"./results/figures/Logisticregression_Ridge_sigmoid_50.png\")"
   ]
  },
  {
   "cell_type": "code",
   "execution_count": null,
   "metadata": {
    "collapsed": true
   },
   "outputs": [],
   "source": []
  },
  {
   "cell_type": "code",
   "execution_count": null,
   "metadata": {
    "collapsed": true
   },
   "outputs": [],
   "source": []
  },
  {
   "cell_type": "code",
   "execution_count": null,
   "metadata": {
    "collapsed": true
   },
   "outputs": [],
   "source": []
  },
  {
   "cell_type": "code",
   "execution_count": null,
   "metadata": {
    "collapsed": true
   },
   "outputs": [],
   "source": []
  },
  {
   "cell_type": "code",
   "execution_count": null,
   "metadata": {
    "collapsed": true
   },
   "outputs": [],
   "source": []
  },
  {
   "cell_type": "markdown",
   "metadata": {
    "collapsed": true
   },
   "source": [
    "# Comparing this to sci-kit learn"
   ]
  },
  {
   "cell_type": "code",
   "execution_count": null,
   "metadata": {
    "collapsed": true
   },
   "outputs": [],
   "source": [
    "# Case ridge for the best? optimizer.\n",
    "clf = skl.LogisticRegression(penalty='l2')\n",
    "clf.fit(X_train, y_train)\n",
    "clf.predict(X_test)\n",
    "clf.score(X_test, y_test)"
   ]
  },
  {
   "cell_type": "code",
   "execution_count": null,
   "metadata": {
    "collapsed": true
   },
   "outputs": [],
   "source": [
    "# Should be similar to lasso with the best optimizer.\n",
    "clf = skl.LogisticRegression(penalty='l1')\n",
    "clf.fit(X_train, y_train)\n",
    "clf.predict(X_test)\n",
    "clf.score(X_test, y_test)"
   ]
  },
  {
   "cell_type": "code",
   "execution_count": null,
   "metadata": {
    "collapsed": true
   },
   "outputs": [],
   "source": []
  },
  {
   "cell_type": "markdown",
   "metadata": {
    "collapsed": true
   },
   "source": []
  },
  {
   "cell_type": "code",
   "execution_count": null,
   "metadata": {
    "collapsed": true
   },
   "outputs": [],
   "source": []
  },
  {
   "cell_type": "code",
   "execution_count": null,
   "metadata": {
    "collapsed": true
   },
   "outputs": [],
   "source": []
  }
 ],
 "metadata": {
  "anaconda-cloud": {},
  "kernelspec": {
   "display_name": "Python 3",
   "language": "python",
   "name": "python3"
  },
  "language_info": {
   "codemirror_mode": {
    "name": "ipython",
    "version": 3
   },
   "file_extension": ".py",
   "mimetype": "text/x-python",
   "name": "python",
   "nbconvert_exporter": "python",
   "pygments_lexer": "ipython3",
   "version": "3.6.6"
  }
 },
 "nbformat": 4,
 "nbformat_minor": 2
}
