{
 "cells": [
  {
   "cell_type": "markdown",
   "metadata": {},
   "source": [
    "# Project 2 : Two dimentional Ising model"
   ]
  },
  {
   "cell_type": "code",
   "execution_count": 1,
   "metadata": {
    "collapsed": true
   },
   "outputs": [],
   "source": [
    "%load_ext autoreload\n",
    "%autoreload 2"
   ]
  },
  {
   "cell_type": "code",
   "execution_count": 2,
   "metadata": {
    "collapsed": true
   },
   "outputs": [],
   "source": [
    "import pickle\n",
    "import os\n",
    "import glob\n",
    "import numpy as np\n",
    "import pandas as pd\n",
    "import matplotlib.pyplot as plt\n",
    "import seaborn as sns\n",
    "import sklearn.model_selection as skms\n",
    "import sklearn.linear_model as skl\n",
    "import sklearn.metrics as skm\n",
    "import tqdm\n",
    "import copy\n",
    "import time\n",
    "from IPython.display import display\n",
    "\n",
    "%matplotlib inline\n",
    "\n",
    "sns.set(color_codes=True)\n",
    "\n",
    "import algorithms\n",
    "from classification import LogisticRegression"
   ]
  },
  {
   "cell_type": "code",
   "execution_count": 3,
   "metadata": {
    "collapsed": true
   },
   "outputs": [],
   "source": [
    "cwd = os.getcwd()\n",
    "filenames = glob.glob(os.path.join(cwd, 'files*'))"
   ]
  },
  {
   "cell_type": "code",
   "execution_count": 4,
   "metadata": {
    "collapsed": true
   },
   "outputs": [],
   "source": [
    "label_filename = \"/home/hanna/project2/files/Ising2DFM_reSample_L40_T=All_labels.pkl\"\n",
    "\n",
    "# Read in the labels\n",
    "with open(label_filename, \"rb\") as f:\n",
    "    labels = pickle.load(f)\n",
    "\n",
    "dat_filename = \"/home/hanna/project2/files/Ising2DFM_reSample_L40_T=All.pkl\"\n",
    "    \n",
    "# Read in the corresponding configurations\n",
    "with open(dat_filename, \"rb\") as f:\n",
    "    data = np.unpackbits(pickle.load(f)).reshape(-1, 1600).astype(\"int\")\n",
    "\n",
    "# Set spin-down to -1\n",
    "data[data == 0] = -1"
   ]
  },
  {
   "cell_type": "code",
   "execution_count": 5,
   "metadata": {},
   "outputs": [
    {
     "data": {
      "text/plain": [
       "(160000, 1600)"
      ]
     },
     "execution_count": 5,
     "metadata": {},
     "output_type": "execute_result"
    }
   ],
   "source": [
    "data.shape"
   ]
  },
  {
   "cell_type": "code",
   "execution_count": 6,
   "metadata": {
    "collapsed": true
   },
   "outputs": [],
   "source": [
    "# Set up slices of the dataset\n",
    "ordered = slice(0, 70000)\n",
    "critical = slice(70000, 100000)\n",
    "disordered = slice(100000, 160000)\n",
    "\n",
    "X = np.concatenate((data[ordered], data[disordered]))\n",
    "Y = np.concatenate((labels[ordered], labels[disordered]))"
   ]
  },
  {
   "cell_type": "code",
   "execution_count": 7,
   "metadata": {},
   "outputs": [
    {
     "data": {
      "text/plain": [
       "((70000,), (60000,))"
      ]
     },
     "execution_count": 7,
     "metadata": {},
     "output_type": "execute_result"
    }
   ],
   "source": [
    "labels[ordered].shape, labels[disordered].shape"
   ]
  },
  {
   "cell_type": "code",
   "execution_count": 8,
   "metadata": {},
   "outputs": [
    {
     "data": {
      "text/plain": [
       "((70000, 1600), (60000, 1600))"
      ]
     },
     "execution_count": 8,
     "metadata": {},
     "output_type": "execute_result"
    }
   ],
   "source": [
    "data[ordered].shape, data[disordered].shape"
   ]
  },
  {
   "cell_type": "code",
   "execution_count": 9,
   "metadata": {
    "scrolled": true
   },
   "outputs": [
    {
     "data": {
      "text/plain": [
       "(130000,)"
      ]
     },
     "execution_count": 9,
     "metadata": {},
     "output_type": "execute_result"
    }
   ],
   "source": [
    "Y.shape"
   ]
  },
  {
   "cell_type": "code",
   "execution_count": 10,
   "metadata": {},
   "outputs": [
    {
     "data": {
      "text/plain": [
       "array([[ 1,  1, -1, ..., -1,  1,  1],\n",
       "       [ 1,  1, -1, ...,  1,  1,  1],\n",
       "       [-1, -1, -1, ..., -1, -1, -1],\n",
       "       ..., \n",
       "       [ 1,  1,  1, ...,  1,  1, -1],\n",
       "       [ 1,  1,  1, ...,  1, -1, -1],\n",
       "       [ 1,  1,  1, ...,  1, -1, -1]])"
      ]
     },
     "execution_count": 10,
     "metadata": {},
     "output_type": "execute_result"
    }
   ],
   "source": [
    "data[disordered]"
   ]
  },
  {
   "cell_type": "code",
   "execution_count": 11,
   "metadata": {
    "scrolled": true
   },
   "outputs": [
    {
     "data": {
      "text/plain": [
       "(130000, 1600)"
      ]
     },
     "execution_count": 11,
     "metadata": {},
     "output_type": "execute_result"
    }
   ],
   "source": [
    "X.shape"
   ]
  },
  {
   "cell_type": "code",
   "execution_count": 12,
   "metadata": {
    "collapsed": true
   },
   "outputs": [],
   "source": [
    "X_train, X_test, y_train, y_test = skms.train_test_split(X,Y, test_size = 0.333)"
   ]
  },
  {
   "cell_type": "code",
   "execution_count": 13,
   "metadata": {
    "collapsed": true
   },
   "outputs": [],
   "source": [
    "#from utils import train_test_split\n",
    "#X_train, X_test, y_train, y_test = train_test_split(X, Y, split_size=0.3, random_state=0)"
   ]
  },
  {
   "cell_type": "code",
   "execution_count": 14,
   "metadata": {},
   "outputs": [
    {
     "data": {
      "text/plain": [
       "(array([0, 0, 0, ..., 1, 0, 1]), array([0, 0, 1, ..., 1, 0, 0]))"
      ]
     },
     "execution_count": 14,
     "metadata": {},
     "output_type": "execute_result"
    }
   ],
   "source": [
    "# Testing that y_test and train contain both label \n",
    "y_train, y_test"
   ]
  },
  {
   "cell_type": "markdown",
   "metadata": {},
   "source": [
    "# Lasso + sigmoid + batchsize = 10 + epochs = 100"
   ]
  },
  {
   "cell_type": "code",
   "execution_count": 15,
   "metadata": {},
   "outputs": [],
   "source": [
    "from classificationNew import LogisticRegression"
   ]
  },
  {
   "cell_type": "code",
   "execution_count": 25,
   "metadata": {
    "scrolled": false
   },
   "outputs": [],
   "source": [
    "eta = [0.0001, 0.001, 0.01, 0.1]\n",
    "lmd = [0.0001, 0.001, 0.01, 0.1, 1.0, 10]\n",
    "\n",
    "results = []\n",
    "epoch_costs = []\n",
    "\n",
    "for e in eta:\n",
    "    for l in lmd:\n",
    "        a = LogisticRegression(eta = e,\n",
    "                               random_state = 0, \n",
    "                               shuffle = True,\n",
    "                               batch_size = 10, \n",
    "                               epochs=50, \n",
    "                               penalty = \"l1\",\n",
    "                               lmd = l, \n",
    "                               tolerance=1e-14, \n",
    "                               key = \"sigmoid\",\n",
    "                               alpha = 0.01)\n",
    "                            \n",
    "        log = a.fit(X_train, y_train)\n",
    "        epoch_costs.append(log.epochCost)\n",
    "        score = log.predict(X_test)\n",
    "        acc = np.sum(score == y_test)/len(score)\n",
    "        results.append(acc)"
   ]
  },
  {
   "cell_type": "code",
   "execution_count": 26,
   "metadata": {},
   "outputs": [
    {
     "data": {
      "image/png": "[encoded data removed]",
      "text/plain": [
       "<matplotlib.figure.Figure at 0x7f0928513dd8>"
      ]
     },
     "metadata": {},
     "output_type": "display_data"
    }
   ],
   "source": [
    "m = np.array(results).reshape((len(eta), len(lmd)))\n",
    "\n",
    "plt.figure(figsize=(12,6))\n",
    "ax = sns.heatmap(m, annot = True, xticklabels=lmd, yticklabels=eta)\n",
    "ax.set_title(\"Logistic regression Lasso using Sigmoid\", fontsize = 20)\n",
    "ax.set_xlabel(\"Lambda value\", fontsize = 15)\n",
    "ax.set_ylabel(\"Eta value\", fontsize = 15) #\n",
    "plt.savefig(\"./results/figures/Logisticregression_Lasso_sigmoid.png\")"
   ]
  },
  {
   "cell_type": "code",
   "execution_count": 27,
   "metadata": {},
   "outputs": [
    {
     "data": {
      "text/plain": [
       "[[11.377043614036786,\n",
       "  10.78733465445967,\n",
       "  10.410463540211373,\n",
       "  10.092869300482148,\n",
       "  9.8156691229111903,\n",
       "  9.5693690859094769,\n",
       "  9.347597071998953,\n",
       "  9.145993500220559,\n",
       "  8.9625149896136271,\n",
       "  8.7933061602369538],\n",
       " [11.662375586111768,\n",
       "  10.985795806069028,\n",
       "  10.567503943065347,\n",
       "  10.205513926055236,\n",
       "  9.8848912601766639,\n",
       "  9.5971771989008179,\n",
       "  9.3373002253899156,\n",
       "  9.1013469953786537,\n",
       "  8.8871530851664104,\n",
       "  8.6906573291283014],\n",
       " [11.35615535786776,\n",
       "  10.352083454532545,\n",
       "  9.6488783260330475,\n",
       "  9.0636822828112802,\n",
       "  8.5738965347139349,\n",
       "  8.1654918595937964,\n",
       "  7.8361005626282676,\n",
       "  7.5702868035908839,\n",
       "  7.361405335964359,\n",
       "  7.2058986197776056],\n",
       " [9.93598599333043,\n",
       "  7.4147294687085266,\n",
       "  6.9317575160306175,\n",
       "  6.9007590135278596,\n",
       "  6.9003716001344104,\n",
       "  6.9004451920145247,\n",
       "  6.9004926985683674,\n",
       "  6.9004209804620622,\n",
       "  6.9007963686875762,\n",
       "  6.9002735211233652],\n",
       " [7.5362978305429129,\n",
       "  6.9038026186448924,\n",
       "  6.9001062257448895,\n",
       "  6.9003915169664101,\n",
       "  6.9001834231056014,\n",
       "  6.9001738943388338,\n",
       "  6.9002938878502631,\n",
       "  6.9002442347850925,\n",
       "  6.9004613744385761,\n",
       "  6.9000907994538645],\n",
       " [7.226620114683616,\n",
       "  6.904357922579452,\n",
       "  6.9004739317427815,\n",
       "  6.9009453322664287,\n",
       "  6.9001285664421088,\n",
       "  6.9012437617507061,\n",
       "  6.9008646354329626,\n",
       "  6.9007794016840416,\n",
       "  6.901661742144233,\n",
       "  6.9008417877749482],\n",
       " [10.259573444854484,\n",
       "  8.3326273306251135,\n",
       "  7.4998205578633206,\n",
       "  7.1454334367095829,\n",
       "  7.0075999095225523,\n",
       "  6.9571764586144305,\n",
       "  6.9368385093985143,\n",
       "  6.9280332854281728,\n",
       "  6.9273382997135391,\n",
       "  6.9226412613025214],\n",
       " [10.019939636042125,\n",
       "  7.9821280112522484,\n",
       "  7.2250097829913695,\n",
       "  6.9889486571973221,\n",
       "  6.9410374241367139,\n",
       "  6.9397070444070152,\n",
       "  6.9412110213708607,\n",
       "  6.9414642378273284,\n",
       "  6.9459905074501611,\n",
       "  6.9427529562184462],\n",
       " [8.9078912923041109,\n",
       "  7.00894267272579,\n",
       "  6.9508772296750871,\n",
       "  6.9497983690102441,\n",
       "  6.9487405622083385,\n",
       "  6.9517938807720094,\n",
       "  6.952512801684068,\n",
       "  6.9513955713371578,\n",
       "  6.9536969706060621,\n",
       "  6.9505118250739972],\n",
       " [7.2877112337258048,\n",
       "  6.9222643585222565,\n",
       "  6.921815568004158,\n",
       "  6.9234408003068237,\n",
       "  6.9219979460799133,\n",
       "  6.9235201999150648,\n",
       "  6.9237586537081883,\n",
       "  6.9230801624448324,\n",
       "  6.9256730531823774,\n",
       "  6.9218703718996109],\n",
       " [6.9779923785267943,\n",
       "  6.9194430753504372,\n",
       "  6.9195271763545074,\n",
       "  6.9235677753522946,\n",
       "  6.9196541382803378,\n",
       "  6.9217577646858262,\n",
       "  6.9209790121563222,\n",
       "  6.9203527401148355,\n",
       "  6.9229765955696037,\n",
       "  6.9202548119495599],\n",
       " [7.0158257350005018,\n",
       "  6.9790772085786195,\n",
       "  6.9909499391086287,\n",
       "  6.9847635078760915,\n",
       "  6.9801074056747847,\n",
       "  7.0049270492119016,\n",
       "  6.9750674855600208,\n",
       "  6.9737629304368127,\n",
       "  6.997326138173193,\n",
       "  7.0216623859613474],\n",
       " [10.265213993083055,\n",
       "  9.7374018991053362,\n",
       "  9.6689105849870494,\n",
       "  9.769104146136641,\n",
       "  9.6413247282951726,\n",
       "  9.7210583447726044,\n",
       "  9.7090708476498744,\n",
       "  9.7088080708764704,\n",
       "  9.7332064633092674,\n",
       "  9.6935359992253414],\n",
       " [10.035128099896596,\n",
       "  9.5869492644869503,\n",
       "  9.5182375670511092,\n",
       "  9.6157940931022683,\n",
       "  9.4850450600917586,\n",
       "  9.5730560724668159,\n",
       "  9.5607764282384693,\n",
       "  9.5565277980197507,\n",
       "  9.5813126444415584,\n",
       "  9.5396640041746128],\n",
       " [9.3595179336175125,\n",
       "  9.2038152317856117,\n",
       "  9.1404800888417892,\n",
       "  9.2354153981153893,\n",
       "  9.1036364287010407,\n",
       "  9.206114089571857,\n",
       "  9.1831015995551404,\n",
       "  9.1755678248696437,\n",
       "  9.1973095741151489,\n",
       "  9.1572302166599098],\n",
       " [9.6537583619346776,\n",
       "  9.6924095973898581,\n",
       "  9.6529422849491624,\n",
       "  9.7520452482430873,\n",
       "  9.6613413495320817,\n",
       "  9.7409567999330182,\n",
       "  9.6699468862948983,\n",
       "  9.6930132634338513,\n",
       "  9.7165545191246618,\n",
       "  9.6551380050556563],\n",
       " [13.464938180832279,\n",
       "  13.678609445074137,\n",
       "  13.509078141556557,\n",
       "  13.703017152790791,\n",
       "  13.519802199525788,\n",
       "  13.521771247441398,\n",
       "  13.48483326017505,\n",
       "  13.557581818331478,\n",
       "  13.505137882313575,\n",
       "  13.543111515939435],\n",
       " [21.852461253473461,\n",
       "  19.014264973758205,\n",
       "  21.196925801197686,\n",
       "  22.160955869051858,\n",
       "  22.875903737354143,\n",
       "  20.476325827543651,\n",
       "  24.621866975424378,\n",
       "  24.211211169551774,\n",
       "  25.437959254236869,\n",
       "  22.386353695992675],\n",
       " [59.934334856119122,\n",
       "  59.701690088386052,\n",
       "  59.966177496280352,\n",
       "  60.161123579320197,\n",
       "  60.321283673075534,\n",
       "  59.473727471323159,\n",
       "  60.333539410961308,\n",
       "  60.146609824170099,\n",
       "  60.155172691224593,\n",
       "  60.169922886394026],\n",
       " [57.783750879573965,\n",
       "  58.292661621079226,\n",
       "  57.990448907060518,\n",
       "  58.355225531403313,\n",
       "  58.610390900345585,\n",
       "  57.979236500463145,\n",
       "  58.044836161652128,\n",
       "  58.375206931306913,\n",
       "  58.98326445158947,\n",
       "  58.828989585569772],\n",
       " [50.707112580385306,\n",
       "  50.729184467328452,\n",
       "  50.41805614062239,\n",
       "  50.266609153550078,\n",
       "  50.333516489961376,\n",
       "  49.985954167169012,\n",
       "  50.261231841014585,\n",
       "  51.022309204564806,\n",
       "  50.803237033229124,\n",
       "  51.135570337592675],\n",
       " [46.573890057124437,\n",
       "  47.069469822459141,\n",
       "  47.119826120711409,\n",
       "  47.416168530242672,\n",
       "  47.242871021147884,\n",
       "  46.587655668316522,\n",
       "  46.772145433003239,\n",
       "  46.321601900681678,\n",
       "  47.381147923778386,\n",
       "  46.902519909937787],\n",
       " [57.900630710324378,\n",
       "  57.426081266283624,\n",
       "  57.472302613580538,\n",
       "  57.533875747550745,\n",
       "  57.681517696758981,\n",
       "  57.482087167452534,\n",
       "  57.18320145601259,\n",
       "  57.921875859841492,\n",
       "  57.151432292738484,\n",
       "  57.716981968636318],\n",
       " [85.62443023292623,\n",
       "  82.328906574813544,\n",
       "  81.630970390491029,\n",
       "  83.328029681251437,\n",
       "  80.308606404021347,\n",
       "  83.788950877869596,\n",
       "  84.650124757875787,\n",
       "  80.565521743851022,\n",
       "  81.37771857410057,\n",
       "  81.656027925831424]]"
      ]
     },
     "execution_count": 27,
     "metadata": {},
     "output_type": "execute_result"
    }
   ],
   "source": [
    "epoch_costs"
   ]
  },
  {
   "cell_type": "code",
   "execution_count": 33,
   "metadata": {},
   "outputs": [
    {
     "data": {
      "image/png": "[encoded data removed]",
      "text/plain": [
       "<matplotlib.figure.Figure at 0x7f0923e0deb8>"
      ]
     },
     "metadata": {},
     "output_type": "display_data"
    }
   ],
   "source": [
    "best_fit = epoch_costs\n",
    "epochs = np.arange(10)\n",
    "\n",
    "plt.figure(figsize = (10,6))\n",
    "plt.title(\"Costfunction for LASSO\" ,fontsize = 20)\n",
    "\n",
    "#for i in range(len(best_fit)):\n",
    "plt.plot(epochs, best_fit[2], label = str(i))\n",
    "plt.xlabel(\"Epoch\", fontsize = 15)\n",
    "plt.ylabel(\"Cost\", fontsize = 15)\n",
    "plt.legend()\n",
    "plt.savefig(\"costfunc.png\")"
   ]
  },
  {
   "cell_type": "markdown",
   "metadata": {},
   "source": [
    "# Trying different output functions"
   ]
  },
  {
   "cell_type": "code",
   "execution_count": null,
   "metadata": {
    "collapsed": true
   },
   "outputs": [],
   "source": [
    "eta = [0.0001, 0.001, 0.01, 0.1]\n",
    "lmd = [0.0001, 0.001, 0.01, 0.1, 1.0, 10]\n",
    "\n",
    "results = []\n",
    "epoch_costs = []\n",
    "# windows + l\n",
    "\n",
    "for e in eta:\n",
    "    for l in lmd:\n",
    "        a = LogisticRegression(eta = e,\n",
    "                               random_state = 0, \n",
    "                               shuffle = True,\n",
    "                               batch_size = 10, \n",
    "                               epochs=100, \n",
    "                               penalty = \"l1\",\n",
    "                               lmd = l, \n",
    "                               tolerance=1e-14, \n",
    "                               key = \"LReLu\",\n",
    "                               alpha = 0.01)\n",
    "                            \n",
    "        log = a.fit(X_train, y_train)\n",
    "        epoch_costs.append(log.epochCost)\n",
    "        score = log.predict(X_test)\n",
    "        acc = np.sum(score == y_test)/len(score)\n",
    "        #print(\"lmd: \" + str(l) + \"  eta: \" + str(e) + \" accuracy  \" + str(acc))\n",
    "        results.append(acc)"
   ]
  },
  {
   "cell_type": "code",
   "execution_count": null,
   "metadata": {},
   "outputs": [],
   "source": [
    "m = np.array(results).reshape((len(eta), len(lmd)))\n",
    "\n",
    "plt.figure(figsize=(12,6))\n",
    "ax = sns.heatmap(m, annot = True, xticklabels=lmd, yticklabels=eta)\n",
    "ax.set_title(\"Logistic regression Lasso using leaky ReLu\", fontsize = 20)\n",
    "ax.set_xlabel(\"Lambda value\", fontsize = 15)\n",
    "ax.set_ylabel(\"Eta value\", fontsize = 15) #\n",
    "plt.savefig(\"./results/figures/Logisticregression_Lasso_LRELU.png\")"
   ]
  },
  {
   "cell_type": "code",
   "execution_count": null,
   "metadata": {},
   "outputs": [],
   "source": [
    "n_iter = 50\n",
    "random_state = 1\n",
    "descent_method= \"sgd\"\n",
    "\n",
    "eta = [0.0001, 0.001, 0.01, 0.1]\n",
    "lmd = [0.0001, 0.001, 0.01, 0.1, 1.0, 10]\n",
    "\n",
    "results = []\n",
    "epoch_costs = []\n",
    "# windows + l\n",
    "\n",
    "for e in eta:\n",
    "    for l in lmd:\n",
    "        a = LogisticRegression(eta = e,\n",
    "                               random_state = 0, \n",
    "                               shuffle = True,\n",
    "                               batch_size = 10, \n",
    "                               epochs=100, \n",
    "                               penalty = \"l1\",\n",
    "                               lmd = l, \n",
    "                               tolerance=1e-14, \n",
    "                               key = \"ELU\", \n",
    "                               alpha = 0.01)\n",
    "                            \n",
    "        log = a.fit(X_train, y_train)\n",
    "        epoch_costs.append(log.epochCost)\n",
    "        score = log.predict(X_test)\n",
    "        acc = np.sum(score == y_test)/len(score)\n",
    "        #print(\"lmd: \" + str(l) + \"  eta: \" + str(e) + \" accuracy  \" + str(acc))\n",
    "        results.append(acc)"
   ]
  },
  {
   "cell_type": "code",
   "execution_count": null,
   "metadata": {},
   "outputs": [],
   "source": [
    "m = np.array(results).reshape((len(eta), len(lmd)))\n",
    "\n",
    "plt.figure(figsize=(12,6))\n",
    "ax = sns.heatmap(m, annot = True, xticklabels=lmd, yticklabels=eta)\n",
    "ax.set_title(\"Logistic regression Lasso using ELU\", fontsize = 20)\n",
    "ax.set_xlabel(\"Lambda value\", fontsize = 15)\n",
    "ax.set_ylabel(\"Eta value\", fontsize = 15) #\n",
    "plt.savefig(\"./results/figures/Logisticregression_Lasso_ELU.png\")"
   ]
  },
  {
   "cell_type": "code",
   "execution_count": null,
   "metadata": {
    "collapsed": true
   },
   "outputs": [],
   "source": []
  },
  {
   "cell_type": "markdown",
   "metadata": {},
   "source": [
    "# Ridge regression"
   ]
  },
  {
   "cell_type": "code",
   "execution_count": null,
   "metadata": {
    "collapsed": true
   },
   "outputs": [],
   "source": [
    "n_iter = 50\n",
    "random_state = 1\n",
    "key = \"ridge\" \n",
    "\n",
    "eta = [0.0001, 0.001, 0.01, 0.1]\n",
    "lmd = [0.0001, 0.001, 0.01, 0.1, 1.0, 10]\n",
    "\n",
    "results = []\n",
    "\n",
    "# windows + l\n",
    "\n",
    "for e in eta:\n",
    "    for l in lmd:\n",
    "        a = LogisticRegression(eta = e,\n",
    "                               random_state = 0, \n",
    "                               shuffle = True,\n",
    "                               batch_size = 10, \n",
    "                               epochs=100, \n",
    "                               penalty = \"l2\",\n",
    "                               lmd = l, \n",
    "                               tolerance=1e-14, \n",
    "                               key = \"sigmoid\", \n",
    "                               alpha = 0.01)\n",
    "                            \n",
    "        log = a.fit(X_train, y_train)\n",
    "        score = log.predict(X_test)\n",
    "        acc = np.sum(score == y_test)/len(score)\n",
    "        #print(\"lmd: \" + str(l) + \"  eta: \" + str(e) + \" accuracy  \" + str(acc))\n",
    "        results.append(acc)"
   ]
  },
  {
   "cell_type": "code",
   "execution_count": null,
   "metadata": {},
   "outputs": [],
   "source": [
    "m = np.array(results).reshape((len(eta), len(lmd)))\n",
    "\n",
    "plt.figure(figsize=(12,6))\n",
    "ax = sns.heatmap(m, annot = True, xticklabels=lmd, yticklabels=eta)\n",
    "ax.set_title(\"Logistic regression Ridge using Sigmoid\", fontsize = 20)\n",
    "ax.set_xlabel(\"Lambda value\", fontsize = 15)\n",
    "ax.set_ylabel(\"Eta value\", fontsize = 15) #\n",
    "plt.savefig(\"./results/figures/Logisticregression_Ridge_sigmoid.png\")"
   ]
  },
  {
   "cell_type": "markdown",
   "metadata": {
    "collapsed": true
   },
   "source": [
    "Accuracy of one can be reffered to as a perfect classyfier.\n",
    "# OBS! Sammenlign dette med scikitlearn"
   ]
  },
  {
   "cell_type": "code",
   "execution_count": null,
   "metadata": {},
   "outputs": [],
   "source": [
    "# Case ridge for the best? optimizer.\n",
    "clf = skl.LogisticRegression(penalty='l2')\n",
    "clf.fit(X_train, y_train)\n",
    "clf.predict(X_test)\n",
    "clf.score(X_test, y_test)"
   ]
  },
  {
   "cell_type": "code",
   "execution_count": null,
   "metadata": {},
   "outputs": [],
   "source": [
    "# Should be similar to lasso with the best optimizer.\n",
    "clf = skl.LogisticRegression(penalty='l1')\n",
    "clf.fit(X_train, y_train)\n",
    "clf.predict(X_test)\n",
    "clf.score(X_test, y_test)"
   ]
  },
  {
   "cell_type": "code",
   "execution_count": null,
   "metadata": {
    "collapsed": true
   },
   "outputs": [],
   "source": []
  },
  {
   "cell_type": "markdown",
   "metadata": {
    "collapsed": true
   },
   "source": []
  },
  {
   "cell_type": "code",
   "execution_count": null,
   "metadata": {
    "collapsed": true
   },
   "outputs": [],
   "source": []
  },
  {
   "cell_type": "code",
   "execution_count": null,
   "metadata": {
    "collapsed": true
   },
   "outputs": [],
   "source": []
  }
 ],
 "metadata": {
  "anaconda-cloud": {},
  "kernelspec": {
   "display_name": "Python 3",
   "language": "python",
   "name": "python3"
  },
  "language_info": {
   "codemirror_mode": {
    "name": "ipython",
    "version": 3
   },
   "file_extension": ".py",
   "mimetype": "text/x-python",
   "name": "python",
   "nbconvert_exporter": "python",
   "pygments_lexer": "ipython3",
   "version": "3.6.6"
  }
 },
 "nbformat": 4,
 "nbformat_minor": 2
}
