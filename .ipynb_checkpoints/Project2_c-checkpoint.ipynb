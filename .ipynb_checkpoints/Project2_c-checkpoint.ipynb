{
 "cells": [
  {
   "cell_type": "markdown",
   "metadata": {},
   "source": [
    "# Project 2 : Two dimentional Ising model"
   ]
  },
  {
   "cell_type": "code",
   "execution_count": 2,
   "metadata": {
    "collapsed": true
   },
   "outputs": [],
   "source": [
    "%load_ext autoreload\n",
    "%autoreload 2"
   ]
  },
  {
   "cell_type": "code",
   "execution_count": 3,
   "metadata": {
    "collapsed": true
   },
   "outputs": [],
   "source": [
    "import pickle\n",
    "import os\n",
    "import glob\n",
    "import numpy as np\n",
    "import pandas as pd\n",
    "import matplotlib.pyplot as plt\n",
    "import seaborn as sns\n",
    "import sklearn.model_selection as skms\n",
    "import sklearn.linear_model as skl\n",
    "import sklearn.metrics as skm\n",
    "import tqdm\n",
    "import copy\n",
    "import time\n",
    "from IPython.display import display\n",
    "\n",
    "%matplotlib inline\n",
    "\n",
    "sns.set(color_codes=True)\n",
    "\n",
    "import algorithms\n",
    "from classification import LogisticRegression"
   ]
  },
  {
   "cell_type": "code",
   "execution_count": 4,
   "metadata": {
    "collapsed": true
   },
   "outputs": [],
   "source": [
    "cwd = os.getcwd()\n",
    "filenames = glob.glob(os.path.join(cwd, 'files*'))"
   ]
  },
  {
   "cell_type": "code",
   "execution_count": 5,
   "metadata": {
    "collapsed": true
   },
   "outputs": [],
   "source": [
    "label_filename = \"/home/hanna/project2/files/Ising2DFM_reSample_L40_T=All_labels.pkl\"\n",
    "\n",
    "# Read in the labels\n",
    "with open(label_filename, \"rb\") as f:\n",
    "    labels = pickle.load(f)\n",
    "\n",
    "dat_filename = \"/home/hanna/project2/files/Ising2DFM_reSample_L40_T=All.pkl\"\n",
    "    \n",
    "# Read in the corresponding configurations\n",
    "with open(dat_filename, \"rb\") as f:\n",
    "    data = np.unpackbits(pickle.load(f)).reshape(-1, 1600).astype(\"int\")\n",
    "\n",
    "# Set spin-down to -1\n",
    "data[data == 0] = -1"
   ]
  },
  {
   "cell_type": "code",
   "execution_count": 6,
   "metadata": {},
   "outputs": [
    {
     "data": {
      "text/plain": [
       "(160000, 1600)"
      ]
     },
     "execution_count": 6,
     "metadata": {},
     "output_type": "execute_result"
    }
   ],
   "source": [
    "data.shape"
   ]
  },
  {
   "cell_type": "code",
   "execution_count": 7,
   "metadata": {
    "collapsed": true
   },
   "outputs": [],
   "source": [
    "# Set up slices of the dataset\n",
    "ordered = slice(0, 70000)\n",
    "critical = slice(70000, 100000)\n",
    "disordered = slice(100000, 160000)\n",
    "\n",
    "X = np.concatenate((data[ordered], data[disordered]))\n",
    "Y = np.concatenate((labels[ordered], labels[disordered]))"
   ]
  },
  {
   "cell_type": "code",
   "execution_count": 8,
   "metadata": {},
   "outputs": [
    {
     "data": {
      "text/plain": [
       "((70000,), (60000,))"
      ]
     },
     "execution_count": 8,
     "metadata": {},
     "output_type": "execute_result"
    }
   ],
   "source": [
    "labels[ordered].shape, labels[disordered].shape"
   ]
  },
  {
   "cell_type": "code",
   "execution_count": 9,
   "metadata": {},
   "outputs": [
    {
     "data": {
      "text/plain": [
       "((70000, 1600), (60000, 1600))"
      ]
     },
     "execution_count": 9,
     "metadata": {},
     "output_type": "execute_result"
    }
   ],
   "source": [
    "data[ordered].shape, data[disordered].shape"
   ]
  },
  {
   "cell_type": "code",
   "execution_count": 10,
   "metadata": {
    "scrolled": true
   },
   "outputs": [
    {
     "data": {
      "text/plain": [
       "(130000,)"
      ]
     },
     "execution_count": 10,
     "metadata": {},
     "output_type": "execute_result"
    }
   ],
   "source": [
    "Y.shape"
   ]
  },
  {
   "cell_type": "code",
   "execution_count": 11,
   "metadata": {},
   "outputs": [
    {
     "data": {
      "text/plain": [
       "array([[ 1,  1, -1, ..., -1,  1,  1],\n",
       "       [ 1,  1, -1, ...,  1,  1,  1],\n",
       "       [-1, -1, -1, ..., -1, -1, -1],\n",
       "       ..., \n",
       "       [ 1,  1,  1, ...,  1,  1, -1],\n",
       "       [ 1,  1,  1, ...,  1, -1, -1],\n",
       "       [ 1,  1,  1, ...,  1, -1, -1]])"
      ]
     },
     "execution_count": 11,
     "metadata": {},
     "output_type": "execute_result"
    }
   ],
   "source": [
    "data[disordered]"
   ]
  },
  {
   "cell_type": "code",
   "execution_count": 12,
   "metadata": {
    "scrolled": true
   },
   "outputs": [
    {
     "data": {
      "text/plain": [
       "(130000, 1600)"
      ]
     },
     "execution_count": 12,
     "metadata": {},
     "output_type": "execute_result"
    }
   ],
   "source": [
    "X.shape"
   ]
  },
  {
   "cell_type": "code",
   "execution_count": 13,
   "metadata": {
    "collapsed": true
   },
   "outputs": [],
   "source": [
    "X_train, X_test, y_train, y_test = skms.train_test_split(X,Y, test_size = 0.333)"
   ]
  },
  {
   "cell_type": "code",
   "execution_count": 14,
   "metadata": {
    "collapsed": true
   },
   "outputs": [],
   "source": [
    "#from utils import train_test_split\n",
    "#X_train, X_test, y_train, y_test = train_test_split(X, Y, split_size=0.3, random_state=0)"
   ]
  },
  {
   "cell_type": "code",
   "execution_count": 15,
   "metadata": {},
   "outputs": [
    {
     "data": {
      "text/plain": [
       "(array([1, 0, 0, ..., 0, 0, 1]), array([1, 0, 0, ..., 1, 0, 0]))"
      ]
     },
     "execution_count": 15,
     "metadata": {},
     "output_type": "execute_result"
    }
   ],
   "source": [
    "# Testing that y_test and train contain both label \n",
    "y_train, y_test"
   ]
  },
  {
   "cell_type": "markdown",
   "metadata": {},
   "source": [
    "# Lasso + sigmoid + batchsize = 10 + epochs = 100"
   ]
  },
  {
   "cell_type": "code",
   "execution_count": 16,
   "metadata": {
    "collapsed": true
   },
   "outputs": [],
   "source": [
    "from classificationNew import LogisticRegression"
   ]
  },
  {
   "cell_type": "code",
   "execution_count": 38,
   "metadata": {
    "collapsed": true,
    "scrolled": false
   },
   "outputs": [],
   "source": [
    "eta = [0.0001, 0.001, 0.01, 0.1]\n",
    "lmd = [0.0001, 0.001, 0.01, 0.1, 1.0, 10]\n",
    "\n",
    "results = []\n",
    "epoch_costs = []\n",
    "\n",
    "for e in eta:\n",
    "    for l in lmd:\n",
    "        a = LogisticRegression(eta = e,\n",
    "                               random_state = 0, \n",
    "                               shuffle = True,\n",
    "                               batch_size = 10, \n",
    "                               epochs=1, \n",
    "                               penalty = \"l1\",\n",
    "                               lmd = l, \n",
    "                               tolerance=1e-14, \n",
    "                               key = \"sigmoid\",\n",
    "                               alpha = 0.01)\n",
    "                            \n",
    "        log = a.fit(X_train, y_train)\n",
    "        epoch_costs.append(log.epochCost)\n",
    "        score = log.predict(X_test)\n",
    "        acc = np.sum(score == y_test)/len(score)\n",
    "        results.append(acc)"
   ]
  },
  {
   "cell_type": "code",
   "execution_count": 39,
   "metadata": {},
   "outputs": [
    {
     "data": {
      "image/png": "[encoded data removed]",
      "text/plain": [
       "<matplotlib.figure.Figure at 0x7fec6bb18828>"
      ]
     },
     "metadata": {},
     "output_type": "display_data"
    }
   ],
   "source": [
    "m = np.array(results).reshape((len(eta), len(lmd)))\n",
    "\n",
    "plt.figure(figsize=(12,6))\n",
    "ax = sns.heatmap(m, annot = True, xticklabels=lmd, yticklabels=eta)\n",
    "ax.set_title(\"Logistic regression Lasso using Sigmoid\", fontsize = 20)\n",
    "ax.set_xlabel(\"Lambda value\", fontsize = 15)\n",
    "ax.set_ylabel(\"Eta value\", fontsize = 15) #\n",
    "plt.savefig(\"./results/figures/Logisticregression_Lasso_sigmoid_1.png\")"
   ]
  },
  {
   "cell_type": "code",
   "execution_count": null,
   "metadata": {
    "collapsed": true
   },
   "outputs": [],
   "source": [
    "np.shape(epoch_costs[0])"
   ]
  },
  {
   "cell_type": "code",
   "execution_count": null,
   "metadata": {
    "collapsed": true
   },
   "outputs": [],
   "source": [
    "best_fit = epoch_costs\n",
    "epochs = np.arange(100)\n",
    "\n",
    "plt.figure(figsize = (10,6))\n",
    "plt.title(\"Costfunction for LASSO\" ,fontsize = 20)\n",
    "\n",
    "for i in range(len(best_fit)):\n",
    "    plt.plot(epochs, best_fit[i], label = str(i))\n",
    "\n",
    "plt.xlabel(\"Epoch\", fontsize = 15)\n",
    "plt.ylabel(\"Cost\", fontsize = 15)\n",
    "plt.legend()\n",
    "plt.savefig(\"costfunc_all_lasso_sigmoid_50.png\")"
   ]
  },
  {
   "cell_type": "code",
   "execution_count": 1,
   "metadata": {},
   "outputs": [
    {
     "data": {
      "text/plain": [
       "'\\nbest_fit = epoch_costs[0]\\nepochs = np.arange(100)\\n\\nplt.figure(figsize = (10,6))\\nplt.title(\"Costfunction for LASSO\" ,fontsize = 20)\\n\\nplt.plot(epochs, best_fit, label = \"lmd = 0.0001, eta = 0.0001\")\\nplt.xlabel(\"Epoch\", fontsize = 15)\\nplt.ylabel(\"Cost\", fontsize = 15)\\nplt.legend()\\nplt.savefig(\"costfunc_lasso_sigmoid_epochs100.png\")'"
      ]
     },
     "execution_count": 1,
     "metadata": {},
     "output_type": "execute_result"
    }
   ],
   "source": [
    "\"\"\"\n",
    "best_fit = epoch_costs[0]\n",
    "epochs = np.arange(100)\n",
    "\n",
    "plt.figure(figsize = (10,6))\n",
    "plt.title(\"Costfunction for LASSO\" ,fontsize = 20)\n",
    "\n",
    "plt.plot(epochs, best_fit, label = \"lmd = 0.0001, eta = 0.0001\")\n",
    "plt.xlabel(\"Epoch\", fontsize = 15)\n",
    "plt.ylabel(\"Cost\", fontsize = 15)\n",
    "plt.legend()\n",
    "plt.savefig(\"costfunc_lasso_sigmoid_epochs100.png\")\"\"\""
   ]
  },
  {
   "cell_type": "markdown",
   "metadata": {},
   "source": [
    "# Trying different output functions"
   ]
  },
  {
   "cell_type": "code",
   "execution_count": null,
   "metadata": {
    "collapsed": true
   },
   "outputs": [],
   "source": [
    "eta = [0.0001, 0.001, 0.01, 0.1]\n",
    "lmd = [0.0001, 0.001, 0.01, 0.1, 1.0, 10]\n",
    "\n",
    "results = []\n",
    "epoch_costs = []\n",
    "# windows + l\n",
    "\n",
    "for e in eta:\n",
    "    for l in lmd:\n",
    "        a = LogisticRegression(eta = e,\n",
    "                               random_state = 0, \n",
    "                               shuffle = True,\n",
    "                               batch_size = 10, \n",
    "                               epochs=100, \n",
    "                               penalty = \"l1\",\n",
    "                               lmd = l, \n",
    "                               tolerance=1e-14, \n",
    "                               key = \"LReLu\",\n",
    "                               alpha = 0.0001)\n",
    "                            \n",
    "        log = a.fit(X_train, y_train)\n",
    "        epoch_costs.append(log.epochCost)\n",
    "        score = log.predict(X_test)\n",
    "        acc = np.sum(score == y_test)/len(score)\n",
    "        #print(\"lmd: \" + str(l) + \"  eta: \" + str(e) + \" accuracy  \" + str(acc))\n",
    "        results.append(acc)"
   ]
  },
  {
   "cell_type": "code",
   "execution_count": null,
   "metadata": {
    "collapsed": true
   },
   "outputs": [],
   "source": [
    "m = np.array(results).reshape((len(eta), len(lmd)))\n",
    "\n",
    "plt.figure(figsize=(12,6))\n",
    "ax = sns.heatmap(m, annot = True, xticklabels=lmd, yticklabels=eta)\n",
    "ax.set_title(\"Logistic regression Lasso using leaky ReLu\", fontsize = 20)\n",
    "ax.set_xlabel(\"Lambda value\", fontsize = 15)\n",
    "ax.set_ylabel(\"Eta value\", fontsize = 15) #\n",
    "plt.savefig(\"./results/figures/Logisticregression_Lasso_LRELU.png\")"
   ]
  },
  {
   "cell_type": "code",
   "execution_count": null,
   "metadata": {
    "collapsed": true
   },
   "outputs": [],
   "source": [
    "n_iter = 50\n",
    "random_state = 1\n",
    "descent_method= \"sgd\"\n",
    "\n",
    "eta = [0.0001, 0.001, 0.01, 0.1]\n",
    "lmd = [0.0001, 0.001, 0.01, 0.1, 1.0, 10]\n",
    "\n",
    "results = []\n",
    "epoch_costs = []\n",
    "# windows + l\n",
    "\n",
    "for e in eta:\n",
    "    for l in lmd:\n",
    "        a = LogisticRegression(eta = e,\n",
    "                               random_state = 0, \n",
    "                               shuffle = True,\n",
    "                               batch_size = 10, \n",
    "                               epochs=1, \n",
    "                               penalty = \"l1\",\n",
    "                               lmd = l, \n",
    "                               tolerance=1e-14, \n",
    "                               key = \"ELU\", \n",
    "                               alpha = 0.0001)\n",
    "                            \n",
    "        log = a.fit(X_train, y_train)\n",
    "        epoch_costs.append(log.epochCost)\n",
    "        score = log.predict(X_test)\n",
    "        acc = np.sum(score == y_test)/len(score)\n",
    "        #print(\"lmd: \" + str(l) + \"  eta: \" + str(e) + \" accuracy  \" + str(acc))\n",
    "        results.append(acc)"
   ]
  },
  {
   "cell_type": "code",
   "execution_count": null,
   "metadata": {
    "collapsed": true
   },
   "outputs": [],
   "source": [
    "m = np.array(results).reshape((len(eta), len(lmd)))\n",
    "\n",
    "plt.figure(figsize=(12,6))\n",
    "ax = sns.heatmap(m, annot = True, xticklabels=lmd, yticklabels=eta)\n",
    "ax.set_title(\"Logistic regression Lasso using ELU\", fontsize = 20)\n",
    "ax.set_xlabel(\"Lambda value\", fontsize = 15)\n",
    "ax.set_ylabel(\"Eta value\", fontsize = 15) #\n",
    "plt.savefig(\"./results/figures/Logisticregression_Lasso_ELU_1.png\")"
   ]
  },
  {
   "cell_type": "code",
   "execution_count": null,
   "metadata": {
    "collapsed": true
   },
   "outputs": [],
   "source": []
  },
  {
   "cell_type": "markdown",
   "metadata": {},
   "source": [
    "# Ridge regression"
   ]
  },
  {
   "cell_type": "code",
   "execution_count": null,
   "metadata": {
    "collapsed": true
   },
   "outputs": [],
   "source": [
    "eta = [0.0001, 0.001, 0.01, 0.1]\n",
    "lmd = [0.0001, 0.001, 0.01, 0.1, 1.0, 10]\n",
    "\n",
    "results = []\n",
    "\n",
    "# windows + l\n",
    "\n",
    "for e in eta:\n",
    "    for l in lmd:\n",
    "        a = LogisticRegression(eta = e,\n",
    "                               random_state = 0, \n",
    "                               shuffle = True,\n",
    "                               batch_size = 10, \n",
    "                               epochs=1, \n",
    "                               penalty = \"l2\",\n",
    "                               lmd = l, \n",
    "                               tolerance=1e-14, \n",
    "                               key = \"sigmoid\", \n",
    "                               alpha = 0.01)\n",
    "                            \n",
    "        log = a.fit(X_train, y_train)\n",
    "        score = log.predict(X_test)\n",
    "        acc = np.sum(score == y_test)/len(score)\n",
    "        #print(\"lmd: \" + str(l) + \"  eta: \" + str(e) + \" accuracy  \" + str(acc))\n",
    "        results.append(acc)"
   ]
  },
  {
   "cell_type": "code",
   "execution_count": null,
   "metadata": {
    "collapsed": true
   },
   "outputs": [],
   "source": [
    "m = np.array(results).reshape((len(eta), len(lmd)))\n",
    "\n",
    "plt.figure(figsize=(12,6))\n",
    "ax = sns.heatmap(m, annot = True, xticklabels=lmd, yticklabels=eta)\n",
    "ax.set_title(\"Logistic regression Ridge using Sigmoid\", fontsize = 20)\n",
    "ax.set_xlabel(\"Lambda value\", fontsize = 15)\n",
    "ax.set_ylabel(\"Eta value\", fontsize = 15) #\n",
    "plt.savefig(\"./results/figures/Logisticregression_Ridge_sigmoid_1.png\")"
   ]
  },
  {
   "cell_type": "markdown",
   "metadata": {
    "collapsed": true
   },
   "source": [
    "Accuracy of one can be reffered to as a perfect classyfier.\n",
    "# OBS! Sammenlign dette med scikitlearn"
   ]
  },
  {
   "cell_type": "code",
   "execution_count": null,
   "metadata": {
    "collapsed": true
   },
   "outputs": [],
   "source": [
    "# Case ridge for the best? optimizer.\n",
    "clf = skl.LogisticRegression(penalty='l2')\n",
    "clf.fit(X_train, y_train)\n",
    "clf.predict(X_test)\n",
    "clf.score(X_test, y_test)"
   ]
  },
  {
   "cell_type": "code",
   "execution_count": null,
   "metadata": {
    "collapsed": true
   },
   "outputs": [],
   "source": [
    "# Should be similar to lasso with the best optimizer.\n",
    "clf = skl.LogisticRegression(penalty='l1')\n",
    "clf.fit(X_train, y_train)\n",
    "clf.predict(X_test)\n",
    "clf.score(X_test, y_test)"
   ]
  },
  {
   "cell_type": "code",
   "execution_count": null,
   "metadata": {
    "collapsed": true
   },
   "outputs": [],
   "source": []
  },
  {
   "cell_type": "markdown",
   "metadata": {
    "collapsed": true
   },
   "source": []
  },
  {
   "cell_type": "code",
   "execution_count": null,
   "metadata": {
    "collapsed": true
   },
   "outputs": [],
   "source": []
  },
  {
   "cell_type": "code",
   "execution_count": null,
   "metadata": {
    "collapsed": true
   },
   "outputs": [],
   "source": []
  }
 ],
 "metadata": {
  "anaconda-cloud": {},
  "kernelspec": {
   "display_name": "Python 3",
   "language": "python",
   "name": "python3"
  },
  "language_info": {
   "codemirror_mode": {
    "name": "ipython",
    "version": 3
   },
   "file_extension": ".py",
   "mimetype": "text/x-python",
   "name": "python",
   "nbconvert_exporter": "python",
   "pygments_lexer": "ipython3",
   "version": "3.6.6"
  }
 },
 "nbformat": 4,
 "nbformat_minor": 2
}
