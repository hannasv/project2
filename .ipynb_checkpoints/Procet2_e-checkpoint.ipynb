{
 "cells": [
  {
   "cell_type": "markdown",
   "metadata": {},
   "source": [
    "# Logitic regression using a MLP"
   ]
  },
  {
   "cell_type": "code",
   "execution_count": 1,
   "metadata": {},
   "outputs": [],
   "source": [
    "import pickle\n",
    "import os\n",
    "import glob\n",
    "import numpy as np\n",
    "import pandas as pd\n",
    "import matplotlib.pyplot as plt\n",
    "import seaborn as sns\n",
    "import sklearn.model_selection as skms\n",
    "import sklearn.linear_model as skl\n",
    "import sklearn.metrics as skm\n",
    "import tqdm\n",
    "import copy\n",
    "import time\n",
    "from IPython.display import display\n",
    "\n",
    "%matplotlib inline\n",
    "\n",
    "from annCopy import NeuralNetMLP"
   ]
  },
  {
   "cell_type": "code",
   "execution_count": 2,
   "metadata": {
    "collapsed": true
   },
   "outputs": [],
   "source": [
    "cwd = os.getcwd()\n",
    "filenames = glob.glob(os.path.join(cwd, 'files*'))"
   ]
  },
  {
   "cell_type": "code",
   "execution_count": 3,
   "metadata": {
    "collapsed": true
   },
   "outputs": [],
   "source": [
    "label_filename = \"/home/hanna/project2/files/Ising2DFM_reSample_L40_T=All_labels.pkl\"\n",
    "\n",
    "# Read in the labels\n",
    "with open(label_filename, \"rb\") as f:\n",
    "    labels = pickle.load(f)\n",
    "\n",
    "dat_filename = \"/home/hanna/project2/files/Ising2DFM_reSample_L40_T=All.pkl\"\n",
    "    \n",
    "# Read in the corresponding configurations\n",
    "with open(dat_filename, \"rb\") as f:\n",
    "    data = np.unpackbits(pickle.load(f)).reshape(-1, 1600).astype(\"int\")\n",
    "\n",
    "# Set spin-down to -1\n",
    "data[data == 0] = -1"
   ]
  },
  {
   "cell_type": "code",
   "execution_count": 4,
   "metadata": {
    "collapsed": true
   },
   "outputs": [],
   "source": [
    "# Set up slices of the dataset\n",
    "ordered = slice(0, 70000)\n",
    "critical = slice(70000, 100000)\n",
    "disordered = slice(100000, 160000)\n",
    "\n",
    "X = np.concatenate((data[ordered], data[disordered]))\n",
    "Y = np.concatenate((labels[ordered], labels[disordered]))"
   ]
  },
  {
   "cell_type": "code",
   "execution_count": 5,
   "metadata": {
    "collapsed": true
   },
   "outputs": [],
   "source": [
    "#X_train, X_test, y_train, y_test = skms.train_test_split(X,Y, test_size = 0.333)"
   ]
  },
  {
   "cell_type": "code",
   "execution_count": 6,
   "metadata": {
    "collapsed": true
   },
   "outputs": [],
   "source": [
    "from utils import train_test_split\n",
    "X_train, X_test, y_train, y_test = train_test_split(X, Y, split_size=0.3, random_state=0)"
   ]
  },
  {
   "cell_type": "markdown",
   "metadata": {},
   "source": [
    "# Neural net MLP"
   ]
  },
  {
   "cell_type": "code",
   "execution_count": 19,
   "metadata": {},
   "outputs": [
    {
     "name": "stdout",
     "output_type": "stream",
     "text": [
      " for lmd 0.001 and eta: 0.001   accuracy is 0.575743589744\n"
     ]
    }
   ],
   "source": [
    "# Experimental setup\n",
    "metric = []\n",
    "\n",
    "eta = [0.0001, 0.001, 0.01, 0.1]\n",
    "lmd = [0.0001, 0.001, 0.01, 0.1, 1.0, 10]\n",
    "#e = 0.001\n",
    "l = 0.001\n",
    "for e in eta:\n",
    " #   for l in lmd:\n",
    "    ann = NeuralNetMLP(l2 = l, \n",
    "                       batch_size=10, \n",
    "                       epochs=50, \n",
    "                       n_hidden=30,\n",
    "                       eta = e,\n",
    "                        tpe=\"logistic\")\n",
    "\n",
    "    ann.fit(X_train, y_train, X_test, y_test)\n",
    "    score = ann.predict(X_test)\n",
    "    # returns a list of the mean mse score for different epochs or batches\n",
    "    acc = np.sum(score.T[0] == y_test)/len(y_test)\n",
    "    metric.append(acc)\n",
    "    print(\" for lmd \"+str(l) + \" and eta: \" + str(e) + \"   accuracy is \" + str(acc))"
   ]
  },
  {
   "cell_type": "code",
   "execution_count": 8,
   "metadata": {},
   "outputs": [
    {
     "data": {
      "text/plain": [
       "array([ True,  True,  True, ...,  True,  True,  True], dtype=bool)"
      ]
     },
     "execution_count": 8,
     "metadata": {},
     "output_type": "execute_result"
    }
   ],
   "source": [
    "score.all(1)"
   ]
  },
  {
   "cell_type": "code",
   "execution_count": 9,
   "metadata": {},
   "outputs": [
    {
     "data": {
      "text/plain": [
       "20290.076307692307"
      ]
     },
     "execution_count": 9,
     "metadata": {},
     "output_type": "execute_result"
    }
   ],
   "source": [
    "np.sum(score == y_test)/39000"
   ]
  },
  {
   "cell_type": "code",
   "execution_count": 10,
   "metadata": {},
   "outputs": [
    {
     "data": {
      "text/plain": [
       "(39000, 1)"
      ]
     },
     "execution_count": 10,
     "metadata": {},
     "output_type": "execute_result"
    }
   ],
   "source": [
    "score.shape"
   ]
  },
  {
   "cell_type": "code",
   "execution_count": 11,
   "metadata": {},
   "outputs": [
    {
     "data": {
      "text/plain": [
       "0.70733333333333337"
      ]
     },
     "execution_count": 11,
     "metadata": {},
     "output_type": "execute_result"
    }
   ],
   "source": [
    "np.sum(score.T[0]==y_test)/len(y_test)"
   ]
  },
  {
   "cell_type": "code",
   "execution_count": 12,
   "metadata": {},
   "outputs": [
    {
     "data": {
      "text/plain": [
       "(39000,)"
      ]
     },
     "execution_count": 12,
     "metadata": {},
     "output_type": "execute_result"
    }
   ],
   "source": [
    "y_test.shape"
   ]
  },
  {
   "cell_type": "code",
   "execution_count": 13,
   "metadata": {},
   "outputs": [
    {
     "data": {
      "text/plain": [
       "(39000, 1600)"
      ]
     },
     "execution_count": 13,
     "metadata": {},
     "output_type": "execute_result"
    }
   ],
   "source": [
    "X_test.shape"
   ]
  },
  {
   "cell_type": "code",
   "execution_count": 14,
   "metadata": {},
   "outputs": [
    {
     "data": {
      "text/plain": [
       "39000"
      ]
     },
     "execution_count": 14,
     "metadata": {},
     "output_type": "execute_result"
    }
   ],
   "source": [
    "len(score)"
   ]
  },
  {
   "cell_type": "code",
   "execution_count": 15,
   "metadata": {},
   "outputs": [
    {
     "data": {
      "text/plain": [
       "39000"
      ]
     },
     "execution_count": 15,
     "metadata": {},
     "output_type": "execute_result"
    }
   ],
   "source": [
    "len(y_test)"
   ]
  },
  {
   "cell_type": "code",
   "execution_count": 16,
   "metadata": {},
   "outputs": [
    {
     "data": {
      "text/plain": [
       "[0.70707692307692305,\n",
       " 0.70712820512820518,\n",
       " 0.70712820512820518,\n",
       " 0.7071794871794872,\n",
       " 0.70715384615384613,\n",
       " 0.7071794871794872,\n",
       " 0.7071794871794872,\n",
       " 0.70720512820512815,\n",
       " 0.7071794871794872,\n",
       " 0.7071794871794872,\n",
       " 0.7071794871794872,\n",
       " 0.7071794871794872,\n",
       " 0.70715384615384613,\n",
       " 0.70715384615384613,\n",
       " 0.7071794871794872,\n",
       " 0.7071794871794872,\n",
       " 0.70720512820512815,\n",
       " 0.70720512820512815,\n",
       " 0.70720512820512815,\n",
       " 0.70725641025641028,\n",
       " 0.70728205128205124,\n",
       " 0.7073076923076923,\n",
       " 0.7073076923076923,\n",
       " 0.70728205128205124,\n",
       " 0.70728205128205124,\n",
       " 0.70728205128205124,\n",
       " 0.70728205128205124,\n",
       " 0.70725641025641028,\n",
       " 0.70725641025641028,\n",
       " 0.70725641025641028,\n",
       " 0.70725641025641028,\n",
       " 0.70728205128205124,\n",
       " 0.7073076923076923,\n",
       " 0.70728205128205124,\n",
       " 0.70725641025641028,\n",
       " 0.70725641025641028,\n",
       " 0.70723076923076922,\n",
       " 0.70723076923076922,\n",
       " 0.70720512820512815,\n",
       " 0.70720512820512815,\n",
       " 0.70720512820512815,\n",
       " 0.70723076923076922,\n",
       " 0.70720512820512815,\n",
       " 0.70728205128205124,\n",
       " 0.70728205128205124,\n",
       " 0.7073076923076923,\n",
       " 0.7073076923076923,\n",
       " 0.70733333333333337,\n",
       " 0.70733333333333337,\n",
       " 0.70733333333333337]"
      ]
     },
     "execution_count": 16,
     "metadata": {},
     "output_type": "execute_result"
    }
   ],
   "source": [
    "ann.eval_[\"valid_preform\"]"
   ]
  },
  {
   "cell_type": "code",
   "execution_count": null,
   "metadata": {
    "collapsed": true
   },
   "outputs": [],
   "source": []
  }
 ],
 "metadata": {
  "kernelspec": {
   "display_name": "Python 3",
   "language": "python",
   "name": "python3"
  },
  "language_info": {
   "codemirror_mode": {
    "name": "ipython",
    "version": 3
   },
   "file_extension": ".py",
   "mimetype": "text/x-python",
   "name": "python",
   "nbconvert_exporter": "python",
   "pygments_lexer": "ipython3",
   "version": "3.6.6"
  }
 },
 "nbformat": 4,
 "nbformat_minor": 2
}
