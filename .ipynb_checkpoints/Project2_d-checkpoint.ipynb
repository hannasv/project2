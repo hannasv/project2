{
 "cells": [
  {
   "cell_type": "markdown",
   "metadata": {},
   "source": [
    "# Part d: regression on 1Dim ising modellusing a multilayer perceptron (neural network)"
   ]
  },
  {
   "cell_type": "code",
   "execution_count": 1,
   "metadata": {
    "collapsed": true
   },
   "outputs": [],
   "source": [
    "import numpy as np\n",
    "import scipy.sparse as sp\n",
    "np.random.seed(12)\n",
    "\n",
    "import warnings\n",
    "#Comment this to turn on warnings\n",
    "warnings.filterwarnings('ignore')\n",
    "\n",
    "from model_comparison import model_comparison\n",
    "from resample import resample\n",
    "import algorithms\n",
    "import matplotlib.pyplot as plt\n",
    "\n",
    "from sklearn.linear_model import LinearRegression\n",
    "\n",
    "from mpl_toolkits.axes_grid1 import make_axes_locatable\n",
    "import seaborn as sns\n",
    "\n",
    "\n",
    "from annCopy import NeuralNetMLP\n",
    "from ann import NeuralNetMLPdeep\n",
    "from utils import train_test_split\n",
    "%matplotlib inline"
   ]
  },
  {
   "cell_type": "code",
   "execution_count": 2,
   "metadata": {},
   "outputs": [
    {
     "data": {
      "text/plain": [
       "'\\nComparing to project 1 - x = states, z = energies... \\nCurrently no y since we are in one dimension. \\n\\n'"
      ]
     },
     "execution_count": 2,
     "metadata": {},
     "output_type": "execute_result"
    }
   ],
   "source": [
    "### define Ising model aprams\n",
    "# system size\n",
    "L=40\n",
    "\n",
    "# create 10000 random Ising states\n",
    "states=np.random.choice([-1, 1], size=(10000,L))\n",
    "\n",
    "def ising_energies(states,L):\n",
    "    \"\"\"\n",
    "    This function calculates the energies of the states in the nn Ising Hamiltonian\n",
    "    \"\"\"\n",
    "    J=np.zeros((L,L),)\n",
    "    for i in range(L):\n",
    "        J[i,(i+1)%L]-=1.0\n",
    "    # compute energies\n",
    "    E = np.einsum('...i,ij,...j->...',states,J,states)\n",
    "\n",
    "    return E\n",
    "# calculate Ising energies\n",
    "energies=ising_energies(states,L)\n",
    "\n",
    "\"\"\"\n",
    "Comparing to project 1 - x = states, z = energies... \n",
    "Currently no y since we are in one dimension. \n",
    "\n",
    "\"\"\""
   ]
  },
  {
   "cell_type": "code",
   "execution_count": 3,
   "metadata": {
    "collapsed": true
   },
   "outputs": [],
   "source": [
    "# reshape Ising states into RL samples: S_iS_j --> X_p\n",
    "states=np.einsum('...i,...j->...ij', states, states)\n",
    "shape=states.shape\n",
    "states=states.reshape((shape[0],shape[1]*shape[2])) \n",
    "# build final data set\n",
    "Data=[states,energies]\n",
    "\n",
    "# define number of samples\n",
    "n_samples=600\n",
    "# define train and test data sets\n"
   ]
  },
  {
   "cell_type": "code",
   "execution_count": 4,
   "metadata": {
    "collapsed": true
   },
   "outputs": [],
   "source": [
    "X=Data[0]\n",
    "Y=Data[1]"
   ]
  },
  {
   "cell_type": "code",
   "execution_count": 5,
   "metadata": {},
   "outputs": [
    {
     "data": {
      "text/plain": [
       "((5000, 1600), (5000,), (5000, 1600), (5000,))"
      ]
     },
     "execution_count": 5,
     "metadata": {},
     "output_type": "execute_result"
    }
   ],
   "source": [
    "X_train, X_valid, y_train, y_valid = train_test_split(X, Y, split_size=0.5)\n",
    "X_train.shape, y_train.shape, X_valid.shape, y_valid.shape"
   ]
  },
  {
   "cell_type": "code",
   "execution_count": 6,
   "metadata": {},
   "outputs": [
    {
     "data": {
      "text/plain": [
       "'\\nann = NeuralNetMLPdeep(l2 = 0.0001, \\n                   batch_size=10, \\n                   epochs=50, \\n                   n_hidden=30,\\n                   eta = 0.01,\\n                    tpe = \"regression\")\\n\\nann.fit(X_train, y_train, X_valid, y_valid)\\nann.predict(X_valid)\\n# returns a list of the mean mse score for different epochs or batches\\nmetric.append(ann.eval_[\"valid_preform\"])\\nprint(\" for lmd \"+str(l) + \" and eta: \" + str(e) + \"   performance is \" + str(np.mean(ann.eval_[\"valid_preform\"])))\\n'"
      ]
     },
     "execution_count": 6,
     "metadata": {},
     "output_type": "execute_result"
    }
   ],
   "source": [
    "\"\"\"\n",
    "ann = NeuralNetMLPdeep(l2 = 0.0001, \n",
    "                   batch_size=10, \n",
    "                   epochs=50, \n",
    "                   n_hidden=30,\n",
    "                   eta = 0.01,\n",
    "                    tpe = \"regression\")\n",
    "\n",
    "ann.fit(X_train, y_train, X_valid, y_valid)\n",
    "ann.predict(X_valid)\n",
    "# returns a list of the mean mse score for different epochs or batches\n",
    "metric.append(ann.eval_[\"valid_preform\"])\n",
    "print(\" for lmd \"+str(l) + \" and eta: \" + str(e) + \"   performance is \" + str(np.mean(ann.eval_[\"valid_preform\"])))\n",
    "\"\"\""
   ]
  },
  {
   "cell_type": "markdown",
   "metadata": {},
   "source": [
    "# Two layer MLP (Neural network )"
   ]
  },
  {
   "cell_type": "code",
   "execution_count": null,
   "metadata": {
    "scrolled": false
   },
   "outputs": [
    {
     "name": "stdout",
     "output_type": "stream",
     "text": [
      "Sigmoid for nr of epochs 1 and eta: 0.0001  batchsize = 1   performance is 39.7633092633\n",
      "Sigmoid for nr of epochs 1 and eta: 0.0001  batchsize = 10   performance is 39.6922316605\n",
      "Sigmoid for nr of epochs 1 and eta: 0.0001  batchsize = 50   performance is 39.6845015344\n",
      "---------------------------\n",
      "Sigmoid for nr of epochs 1 and eta: 0.001  batchsize = 1   performance is 61.2573946839\n",
      "Sigmoid for nr of epochs 1 and eta: 0.001  batchsize = 10   performance is 58.8163622974\n",
      "Sigmoid for nr of epochs 1 and eta: 0.001  batchsize = 50   performance is 64.1477964457\n",
      "---------------------------\n",
      "Sigmoid for nr of epochs 1 and eta: 0.01  batchsize = 1   performance is 76.9666724988\n",
      "Sigmoid for nr of epochs 1 and eta: 0.01  batchsize = 10   performance is 78.9835898254\n",
      "Sigmoid for nr of epochs 1 and eta: 0.01  batchsize = 50   performance is 62.6651419344\n",
      "---------------------------\n",
      "Sigmoid for nr of epochs 1 and eta: 0.1  batchsize = 1   performance is 61.8856865519\n",
      "Sigmoid for nr of epochs 1 and eta: 0.1  batchsize = 10   performance is 43.5520491191\n",
      "Sigmoid for nr of epochs 1 and eta: 0.1  batchsize = 50   performance is nan\n",
      "---------------------------\n",
      "Sigmoid for nr of epochs 1 and eta: 1.0  batchsize = 1   performance is nan\n",
      "Sigmoid for nr of epochs 1 and eta: 1.0  batchsize = 10   performance is nan\n",
      "Sigmoid for nr of epochs 1 and eta: 1.0  batchsize = 50   performance is nan\n",
      "---------------------------\n",
      "Sigmoid for nr of epochs 10 and eta: 0.0001  batchsize = 1   performance is 47.6646788833\n",
      "Sigmoid for nr of epochs 10 and eta: 0.0001  batchsize = 10   performance is 46.7158152629\n",
      "Sigmoid for nr of epochs 10 and eta: 0.0001  batchsize = 50   performance is 46.8889635854\n",
      "---------------------------\n",
      "Sigmoid for nr of epochs 10 and eta: 0.001  batchsize = 1   performance is 74.8819732134\n",
      "Sigmoid for nr of epochs 10 and eta: 0.001  batchsize = 10   performance is 74.5855484668\n",
      "Sigmoid for nr of epochs 10 and eta: 0.001  batchsize = 50   performance is 74.9870886994\n",
      "---------------------------\n",
      "Sigmoid for nr of epochs 10 and eta: 0.01  batchsize = 1   performance is 78.3223021422\n",
      "Sigmoid for nr of epochs 10 and eta: 0.01  batchsize = 10   performance is 77.1063757864\n",
      "Sigmoid for nr of epochs 10 and eta: 0.01  batchsize = 50   performance is 69.3045053208\n",
      "---------------------------\n",
      "Sigmoid for nr of epochs 10 and eta: 0.1  batchsize = 1   performance is 66.8747325307\n",
      "Sigmoid for nr of epochs 10 and eta: 0.1  batchsize = 10   performance is 57.0318587584\n",
      "Sigmoid for nr of epochs 10 and eta: 0.1  batchsize = 50   performance is nan\n",
      "---------------------------\n",
      "Sigmoid for nr of epochs 10 and eta: 1.0  batchsize = 1   performance is nan\n",
      "Sigmoid for nr of epochs 10 and eta: 1.0  batchsize = 10   performance is nan\n",
      "Sigmoid for nr of epochs 10 and eta: 1.0  batchsize = 50   performance is nan\n",
      "---------------------------\n",
      "Sigmoid for nr of epochs 50 and eta: 0.0001  batchsize = 1   performance is 68.3385952564\n",
      "Sigmoid for nr of epochs 50 and eta: 0.0001  batchsize = 10   performance is 67.9670700678\n",
      "Sigmoid for nr of epochs 50 and eta: 0.0001  batchsize = 50   performance is 68.4546397625\n",
      "---------------------------\n",
      "Sigmoid for nr of epochs 50 and eta: 0.001  batchsize = 1   performance is 76.0636552391\n",
      "Sigmoid for nr of epochs 50 and eta: 0.001  batchsize = 10   performance is 77.4849732234\n",
      "Sigmoid for nr of epochs 50 and eta: 0.001  batchsize = 50   performance is 76.7519581474\n",
      "---------------------------\n",
      "Sigmoid for nr of epochs 50 and eta: 0.01  batchsize = 1   performance is 79.0424331629\n",
      "Sigmoid for nr of epochs 50 and eta: 0.01  batchsize = 10   performance is 79.8103787524\n",
      "Sigmoid for nr of epochs 50 and eta: 0.01  batchsize = 50   performance is 70.1797169771\n",
      "---------------------------\n",
      "Sigmoid for nr of epochs 50 and eta: 0.1  batchsize = 1   performance is 74.1450768198\n",
      "Sigmoid for nr of epochs 50 and eta: 0.1  batchsize = 10   performance is 1955.42982247\n",
      "Sigmoid for nr of epochs 50 and eta: 0.1  batchsize = 50   performance is nan\n",
      "---------------------------\n",
      "Sigmoid for nr of epochs 50 and eta: 1.0  batchsize = 1   performance is nan\n",
      "Sigmoid for nr of epochs 50 and eta: 1.0  batchsize = 10   performance is nan\n",
      "Sigmoid for nr of epochs 50 and eta: 1.0  batchsize = 50   performance is nan\n",
      "---------------------------\n",
      "Sigmoid for nr of epochs 100 and eta: 0.0001  batchsize = 1   performance is 72.052653505\n",
      "Sigmoid for nr of epochs 100 and eta: 0.0001  batchsize = 10   performance is 72.1819078785\n",
      "Sigmoid for nr of epochs 100 and eta: 0.0001  batchsize = 50   performance is 71.7982333338\n",
      "---------------------------\n",
      "Sigmoid for nr of epochs 100 and eta: 0.001  batchsize = 1   performance is 77.34567465\n",
      "Sigmoid for nr of epochs 100 and eta: 0.001  batchsize = 10   performance is 76.7273364697\n",
      "Sigmoid for nr of epochs 100 and eta: 0.001  batchsize = 50   performance is 77.3797683424\n",
      "---------------------------\n"
     ]
    }
   ],
   "source": [
    "# Experimental setup\n",
    "metric = []\n",
    "\n",
    "eta = [0.0001, 0.001, 0.01, 0.1, 1.0]\n",
    "#lmd = [0.0001, 0.001, 0.01, 0.1, 1.0, 10]\n",
    "epochs = [1, 10, 50, 100]\n",
    "batchsize = [1, 10, 50]\n",
    "\n",
    "\n",
    "for epoch in epochs:\n",
    "    for e in eta:\n",
    "        for batch in batchsize:\n",
    "            ann = NeuralNetMLP(n_hidden=30, \n",
    "                               epochs=epoch, \n",
    "                               eta=e, \n",
    "                               shuffle=True,\n",
    "                               batch_size=batch, \n",
    "                               activation='sigmoid', \n",
    "                               tpe = \"regression\")\n",
    "\n",
    "            ann.fit(X_train, y_train, X_valid, y_valid)\n",
    "            ann.predict(X_valid)\n",
    "            # returns a list of the mean mse score for different epochs or batches\n",
    "            metric.append(ann.eval_[\"valid_preform\"])\n",
    "            print(\"Sigmoid for nr of epochs \"+str(epoch) + \" and eta: \" + str(e) + \"  batchsize = \" + str(batch) +\"   performance is \" + str(np.mean(ann.eval_[\"valid_preform\"])))\n",
    "        print(\"---------------------------\")"
   ]
  },
  {
   "cell_type": "code",
   "execution_count": 8,
   "metadata": {},
   "outputs": [],
   "source": [
    "#av = np.average(metric, axis = 1)"
   ]
  },
  {
   "cell_type": "code",
   "execution_count": null,
   "metadata": {},
   "outputs": [],
   "source": [
    "#av"
   ]
  },
  {
   "cell_type": "code",
   "execution_count": null,
   "metadata": {
    "scrolled": false
   },
   "outputs": [],
   "source": [
    "\"\"\"\n",
    "m = np.array(av).reshape((len(eta), len(lmd)))\n",
    "\n",
    "plt.figure(figsize=(12,6))\n",
    "ax = sns.heatmap(m, annot = True, xticklabels=lmd, yticklabels=eta)\n",
    "ax.set_title(\"Regression using sigmoid function\", fontsize = 20)\n",
    "ax.set_xlabel(\"Lambda value\", fontsize = 15)\n",
    "ax.set_ylabel(\"Eta value\", fontsize = 15) #\n",
    "plt.savefig(\"./results/figures/regression_ridge_nn_sigmoid_epochs_1.png\")\"\"\""
   ]
  },
  {
   "cell_type": "code",
   "execution_count": 11,
   "metadata": {},
   "outputs": [
    {
     "name": "stdout",
     "output_type": "stream",
     "text": [
      " for lmd 0.0001 and eta: 0.0001   performance is 82.4471593789\n",
      " for lmd 0.001 and eta: 0.0001   performance is 82.4471593789\n",
      " for lmd 0.01 and eta: 0.0001   performance is 82.4471593789\n",
      " for lmd 0.1 and eta: 0.0001   performance is 82.4471593789\n",
      " for lmd 1.0 and eta: 0.0001   performance is 82.4471593789\n",
      " for lmd 10 and eta: 0.0001   performance is 82.4471593789\n",
      " for lmd 0.0001 and eta: 0.001   performance is 82.4471593789\n",
      " for lmd 0.001 and eta: 0.001   performance is 82.4471593789\n",
      " for lmd 0.01 and eta: 0.001   performance is 82.4471593789\n",
      " for lmd 0.1 and eta: 0.001   performance is 82.4471593789\n",
      " for lmd 1.0 and eta: 0.001   performance is 82.4471593789\n",
      " for lmd 10 and eta: 0.001   performance is 82.4471593789\n",
      " for lmd 0.0001 and eta: 0.01   performance is 82.4471593789\n",
      " for lmd 0.001 and eta: 0.01   performance is 82.4471593789\n",
      " for lmd 0.01 and eta: 0.01   performance is 82.4471593789\n",
      " for lmd 0.1 and eta: 0.01   performance is 82.4471593789\n",
      " for lmd 1.0 and eta: 0.01   performance is 82.4471593789\n",
      " for lmd 10 and eta: 0.01   performance is 82.4471593789\n",
      " for lmd 0.0001 and eta: 0.1   performance is 82.4471593789\n",
      " for lmd 0.001 and eta: 0.1   performance is 82.4471593789\n",
      " for lmd 0.01 and eta: 0.1   performance is 82.4471593789\n",
      " for lmd 0.1 and eta: 0.1   performance is 82.4471593789\n",
      " for lmd 1.0 and eta: 0.1   performance is 82.4471593789\n",
      " for lmd 10 and eta: 0.1   performance is 82.4471593789\n"
     ]
    }
   ],
   "source": [
    "# Experimental setup\n",
    "metric = []\n",
    "\n",
    "eta = [0.0001, 0.001, 0.01, 0.1, 1.0]\n",
    "#lmd = [0.0001, 0.001, 0.01, 0.1, 1.0, 10]\n",
    "epochs = [1, 10, 50, 100]\n",
    "batchsize = [1, 10, 50]\n",
    "\n",
    "# Om vi skal bruke elu så må vi tweeke alpha i tilegg.\n",
    "\n",
    "\n",
    "for epoch in epochs:\n",
    "    for e in eta:\n",
    "        for batch in batchsize:\n",
    "            ann = NeuralNetMLP(n_hidden=30, \n",
    "                               epochs=epoch, \n",
    "                               eta=e, \n",
    "                               alpha = 0.0001,\n",
    "                               shuffle=True,\n",
    "                               batch_size=batch, \n",
    "                               activation='elu', \n",
    "                               tpe = \"regression\")\n",
    "\n",
    "            ann.fit(X_train, y_train, X_valid, y_valid)\n",
    "            ann.predict(X_valid)\n",
    "            # returns a list of the mean mse score for different epochs or batches\n",
    "            metric.append(ann.eval_[\"valid_preform\"])\n",
    "            print(\"ELU for nr of epochs \"+str(epoch) + \" and eta: \" + str(e) + \"  batchsize = \" + str(batch) +\"   performance is \" + str(np.mean(ann.eval_[\"valid_preform\"])))\n",
    "        print(\"---------------------------\")"
   ]
  },
  {
   "cell_type": "code",
   "execution_count": 12,
   "metadata": {},
   "outputs": [
    {
     "data": {
      "image/png": "[encoded data removed]",
      "text/plain": [
       "<matplotlib.figure.Figure at 0x7f377c21d320>"
      ]
     },
     "metadata": {},
     "output_type": "display_data"
    }
   ],
   "source": [
    "m = np.array(av).reshape((len(eta), len(lmd)))\n",
    "\n",
    "plt.figure(figsize=(12,6))\n",
    "ax = sns.heatmap(m, annot = True, xticklabels=lmd, yticklabels=eta)\n",
    "ax.set_title(\"Average MSE for alle epochs using elu activation function\", fontsize = 20)\n",
    "ax.set_xlabel(\"Lambda value\", fontsize = 15)\n",
    "ax.set_ylabel(\"Eta value\", fontsize = 15) #\n",
    "plt.savefig(\"./results/figures/regression_ridge_nn_elu_epochs_1.png\")"
   ]
  },
  {
   "cell_type": "code",
   "execution_count": 13,
   "metadata": {
    "scrolled": false
   },
   "outputs": [
    {
     "name": "stdout",
     "output_type": "stream",
     "text": [
      "Testedata: for lmd 0.0001 and eta: 0.0001   performance is 46.7489880102\n",
      "Training data: for lmd 0.0001 and eta: 0.0001   performance is 49.2251915525\n",
      "Testedata: for lmd 0.001 and eta: 0.0001   performance is 44.4529238569\n",
      "Training data: for lmd 0.001 and eta: 0.0001   performance is 46.3873784137\n",
      "Testedata: for lmd 0.01 and eta: 0.0001   performance is 46.6931755891\n",
      "Training data: for lmd 0.01 and eta: 0.0001   performance is 49.2337357113\n",
      "Testedata: for lmd 0.1 and eta: 0.0001   performance is 45.6688210147\n",
      "Training data: for lmd 0.1 and eta: 0.0001   performance is 47.9663883771\n",
      "Testedata: for lmd 1.0 and eta: 0.0001   performance is 46.3661955649\n",
      "Training data: for lmd 1.0 and eta: 0.0001   performance is 48.8107801221\n",
      "Testedata: for lmd 10 and eta: 0.0001   performance is 45.1327414315\n",
      "Training data: for lmd 10 and eta: 0.0001   performance is 47.1574561948\n",
      "Testedata: for lmd 0.0001 and eta: 0.001   performance is 74.5665441144\n",
      "Training data: for lmd 0.0001 and eta: 0.001   performance is 78.3904385897\n",
      "Testedata: for lmd 0.001 and eta: 0.001   performance is 74.1936201712\n",
      "Training data: for lmd 0.001 and eta: 0.001   performance is 78.4817135082\n",
      "Testedata: for lmd 0.01 and eta: 0.001   performance is 74.6966100366\n",
      "Training data: for lmd 0.01 and eta: 0.001   performance is 78.418224998\n",
      "Testedata: for lmd 0.1 and eta: 0.001   performance is 74.2560032445\n",
      "Training data: for lmd 0.1 and eta: 0.001   performance is 78.3617670466\n",
      "Testedata: for lmd 1.0 and eta: 0.001   performance is 74.2528877005\n",
      "Training data: for lmd 1.0 and eta: 0.001   performance is 78.8717182465\n",
      "Testedata: for lmd 10 and eta: 0.001   performance is 74.2811641904\n",
      "Training data: for lmd 10 and eta: 0.001   performance is 78.8044839728\n",
      "Testedata: for lmd 0.0001 and eta: 0.01   performance is 78.2982959372\n",
      "Training data: for lmd 0.0001 and eta: 0.01   performance is 79.6354033442\n",
      "Testedata: for lmd 0.001 and eta: 0.01   performance is 78.1151749794\n",
      "Training data: for lmd 0.001 and eta: 0.01   performance is 79.6437246313\n",
      "Testedata: for lmd 0.01 and eta: 0.01   performance is 77.4832066431\n",
      "Training data: for lmd 0.01 and eta: 0.01   performance is 78.962034007\n",
      "Testedata: for lmd 0.1 and eta: 0.01   performance is 78.5985693897\n",
      "Training data: for lmd 0.1 and eta: 0.01   performance is 79.884988357\n",
      "Testedata: for lmd 1.0 and eta: 0.01   performance is 78.4279426959\n",
      "Training data: for lmd 1.0 and eta: 0.01   performance is 79.6538804496\n",
      "Testedata: for lmd 10 and eta: 0.01   performance is 77.9639221721\n",
      "Training data: for lmd 10 and eta: 0.01   performance is 79.6685200829\n",
      "Testedata: for lmd 0.0001 and eta: 0.1   performance is 45.4730874872\n",
      "Training data: for lmd 0.0001 and eta: 0.1   performance is 46.2779522575\n",
      "Testedata: for lmd 0.001 and eta: 0.1   performance is nan\n",
      "Training data: for lmd 0.001 and eta: 0.1   performance is nan\n",
      "Testedata: for lmd 0.01 and eta: 0.1   performance is 53.2009300343\n",
      "Training data: for lmd 0.01 and eta: 0.1   performance is 54.4707536726\n",
      "Testedata: for lmd 0.1 and eta: 0.1   performance is nan\n",
      "Training data: for lmd 0.1 and eta: 0.1   performance is nan\n",
      "Testedata: for lmd 1.0 and eta: 0.1   performance is 65.1018296385\n",
      "Training data: for lmd 1.0 and eta: 0.1   performance is 66.1605881801\n",
      "Testedata: for lmd 10 and eta: 0.1   performance is 57.6583247313\n",
      "Training data: for lmd 10 and eta: 0.1   performance is 58.5931608449\n"
     ]
    }
   ],
   "source": [
    "# Experimental setup\n",
    "metric = []\n",
    "\n",
    "eta = [0.0001, 0.001, 0.01, 0.1]\n",
    "lmd = [0.0001, 0.001, 0.01, 0.1, 1.0, 10]\n",
    "\n",
    "for e in eta:\n",
    "    for l in lmd:\n",
    "        ann = NeuralNetMLP(l2 = l, \n",
    "                           batch_size=10, \n",
    "                           epochs=10, \n",
    "                           n_hidden=30,\n",
    "                           eta = e,\n",
    "                           activation = \"sigmoid\",\n",
    "                           tpe = \"regression\")\n",
    "\n",
    "        ann.fit(X_train, y_train, X_valid, y_valid)\n",
    "        ann.predict(X_valid)\n",
    "        # returns a list of the mean mse score for different epochs or batches\n",
    "        metric.append(np.average(ann.eval_[\"valid_preform\"]))\n",
    "        print(\"Testedata: for lmd \"+str(l) + \" and eta: \" + str(e) + \"   performance is \" + str(np.mean(ann.eval_[\"valid_preform\"])))\n",
    "        print(\"Training data: for lmd \"+str(l) + \" and eta: \" + str(e) + \"   performance is \" + str(np.mean(ann.eval_[\"train_preform\"])))"
   ]
  },
  {
   "cell_type": "code",
   "execution_count": 14,
   "metadata": {},
   "outputs": [
    {
     "data": {
      "text/plain": [
       "[46.748988010229624,\n",
       " 44.45292385686966,\n",
       " 46.693175589108549,\n",
       " 45.668821014668595,\n",
       " 46.366195564908551,\n",
       " 45.132741431470031,\n",
       " 74.566544114441982,\n",
       " 74.193620171166145,\n",
       " 74.696610036624165,\n",
       " 74.256003244501429,\n",
       " 74.252887700486326,\n",
       " 74.281164190358126,\n",
       " 78.298295937222946,\n",
       " 78.115174979399995,\n",
       " 77.483206643099351,\n",
       " 78.598569389657342,\n",
       " 78.427942695921985,\n",
       " 77.963922172135852,\n",
       " 45.473087487215622,\n",
       " nan,\n",
       " 53.200930034337432,\n",
       " nan,\n",
       " 65.101829638525075,\n",
       " 57.658324731297739]"
      ]
     },
     "execution_count": 14,
     "metadata": {},
     "output_type": "execute_result"
    }
   ],
   "source": [
    "metric"
   ]
  },
  {
   "cell_type": "code",
   "execution_count": 15,
   "metadata": {},
   "outputs": [
    {
     "data": {
      "image/png": "[encoded data removed]",
      "text/plain": [
       "<matplotlib.figure.Figure at 0x7f37749afdd8>"
      ]
     },
     "metadata": {},
     "output_type": "display_data"
    }
   ],
   "source": [
    "m = np.array(metric).reshape((len(eta), len(lmd)))\n",
    "\n",
    "plt.figure(figsize=(12,6))\n",
    "ax = sns.heatmap(m, annot = True, xticklabels=lmd, yticklabels=eta)\n",
    "ax.set_title(\"Regression using elu function\", fontsize = 20)\n",
    "ax.set_xlabel(\"Lambda value\", fontsize = 15)\n",
    "ax.set_ylabel(\"Eta value\", fontsize = 15) #\n",
    "plt.savefig(\"./results/figures/regression_ridge_nn_ELU_epochs_10.png\")"
   ]
  },
  {
   "cell_type": "code",
   "execution_count": 16,
   "metadata": {},
   "outputs": [
    {
     "name": "stdout",
     "output_type": "stream",
     "text": [
      "Testedata: for lmd 0.001 and eta: 0.001   performance is 77.9127944988\n"
     ]
    }
   ],
   "source": [
    "ann = NeuralNetMLP(l2 = 0.001, \n",
    "                   batch_size=1, \n",
    "                   epochs=10, \n",
    "                   n_hidden=30,\n",
    "                   eta = 0.01,\n",
    "                   activation=\"sigmoid\",\n",
    "                   tpe = \"regression\")\n",
    "\n",
    "ann.fit(X_train, y_train, X_valid, y_valid)\n",
    "ann.predict(X_valid)\n",
    "# returns a list of the mean mse score for different epochs or batches\n",
    "metric.append(np.average(ann.eval_[\"valid_preform\"]))\n",
    "print(\"Testedata: for lmd \"+str(0.001) + \" and eta: \" + str(0.001) + \"   performance is \" + str(np.mean(ann.eval_[\"valid_preform\"])))\n",
    "       "
   ]
  },
  {
   "cell_type": "markdown",
   "metadata": {},
   "source": [
    "# Sigmoid for batchsize = 10, epochs = 50, eta = 0.1"
   ]
  },
  {
   "cell_type": "markdown",
   "metadata": {
    "collapsed": true
   },
   "source": [
    "# Comparing to scikitlearn MLPregression"
   ]
  },
  {
   "cell_type": "code",
   "execution_count": 17,
   "metadata": {
    "collapsed": true
   },
   "outputs": [],
   "source": [
    "from sklearn.neural_network import MLPRegressor\n",
    "from utils import mean_squared_error"
   ]
  },
  {
   "cell_type": "code",
   "execution_count": 18,
   "metadata": {},
   "outputs": [
    {
     "data": {
      "text/plain": [
       "3.0365765090196466"
      ]
     },
     "execution_count": 18,
     "metadata": {},
     "output_type": "execute_result"
    }
   ],
   "source": [
    "mlp = MLPRegressor(hidden_layer_sizes=(30, ), activation = 'logistic', solver = \"sgd\", alpha = 0.0001, batch_size =10, learning_rate_init=0.01)\n",
    "mlp.fit(X_train, y_train)\n",
    "y_pred = mlp.predict(X_valid)\n",
    "#logistic activation uses the sigmoid function \n",
    "mean_squared_error(y_pred, y_valid)"
   ]
  },
  {
   "cell_type": "code",
   "execution_count": 19,
   "metadata": {
    "collapsed": true
   },
   "outputs": [],
   "source": [
    "mlp = MLPRegressor(hidden_layer_sizes=(30, ), activation = 'relu', solver = \"sgd\", alpha = 0.0001, batch_size =10, learning_rate_init=0.01)\n",
    "mlp.fit(X_train, y_train)\n",
    "y_pred = mlp.predict(X_valid)"
   ]
  },
  {
   "cell_type": "code",
   "execution_count": 20,
   "metadata": {},
   "outputs": [
    {
     "data": {
      "text/plain": [
       "nan"
      ]
     },
     "execution_count": 20,
     "metadata": {},
     "output_type": "execute_result"
    }
   ],
   "source": [
    "mean_squared_error(y_pred, y_valid)"
   ]
  }
 ],
 "metadata": {
  "kernelspec": {
   "display_name": "Python 3",
   "language": "python",
   "name": "python3"
  },
  "language_info": {
   "codemirror_mode": {
    "name": "ipython",
    "version": 3
   },
   "file_extension": ".py",
   "mimetype": "text/x-python",
   "name": "python",
   "nbconvert_exporter": "python",
   "pygments_lexer": "ipython3",
   "version": "3.6.6"
  }
 },
 "nbformat": 4,
 "nbformat_minor": 2
}
