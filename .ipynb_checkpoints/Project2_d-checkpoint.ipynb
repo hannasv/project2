{
 "cells": [
  {
   "cell_type": "markdown",
   "metadata": {},
   "source": [
    "# Part d: regression on 1Dim ising modellusing a multilayer perceptron (neural network)"
   ]
  },
  {
   "cell_type": "code",
   "execution_count": 2,
   "metadata": {
    "collapsed": true
   },
   "outputs": [],
   "source": [
    "import numpy as np\n",
    "import scipy.sparse as sp\n",
    "np.random.seed(12)\n",
    "\n",
    "import warnings\n",
    "#Comment this to turn on warnings\n",
    "warnings.filterwarnings('ignore')\n",
    "\n",
    "from model_comparison import model_comparison\n",
    "from resample import resample\n",
    "import algorithms\n",
    "import matplotlib.pyplot as plt\n",
    "\n",
    "from sklearn.linear_model import LinearRegression\n",
    "\n",
    "from mpl_toolkits.axes_grid1 import make_axes_locatable\n",
    "import seaborn as sns\n",
    "\n",
    "\n",
    "from annCopy import NeuralNetMLP\n",
    "from ann import NeuralNetMLPdeep\n",
    "from utils import train_test_split\n",
    "%matplotlib inline"
   ]
  },
  {
   "cell_type": "code",
   "execution_count": 3,
   "metadata": {},
   "outputs": [
    {
     "data": {
      "text/plain": [
       "'\\nComparing to project 1 - x = states, z = energies... \\nCurrently no y since we are in one dimension. \\n\\n'"
      ]
     },
     "execution_count": 3,
     "metadata": {},
     "output_type": "execute_result"
    }
   ],
   "source": [
    "### define Ising model aprams\n",
    "# system size\n",
    "L=40\n",
    "\n",
    "# create 10000 random Ising states\n",
    "states=np.random.choice([-1, 1], size=(10000,L))\n",
    "\n",
    "def ising_energies(states,L):\n",
    "    \"\"\"\n",
    "    This function calculates the energies of the states in the nn Ising Hamiltonian\n",
    "    \"\"\"\n",
    "    J=np.zeros((L,L),)\n",
    "    for i in range(L):\n",
    "        J[i,(i+1)%L]-=1.0\n",
    "    # compute energies\n",
    "    E = np.einsum('...i,ij,...j->...',states,J,states)\n",
    "\n",
    "    return E\n",
    "# calculate Ising energies\n",
    "energies=ising_energies(states,L)\n",
    "\n",
    "\"\"\"\n",
    "Comparing to project 1 - x = states, z = energies... \n",
    "Currently no y since we are in one dimension. \n",
    "\n",
    "\"\"\""
   ]
  },
  {
   "cell_type": "code",
   "execution_count": 4,
   "metadata": {
    "collapsed": true
   },
   "outputs": [],
   "source": [
    "# reshape Ising states into RL samples: S_iS_j --> X_p\n",
    "states=np.einsum('...i,...j->...ij', states, states)\n",
    "shape=states.shape\n",
    "states=states.reshape((shape[0],shape[1]*shape[2])) \n",
    "# build final data set\n",
    "Data=[states,energies]\n",
    "\n",
    "# define number of samples\n",
    "n_samples=600\n",
    "# define train and test data sets\n"
   ]
  },
  {
   "cell_type": "code",
   "execution_count": 5,
   "metadata": {
    "collapsed": true
   },
   "outputs": [],
   "source": [
    "X=Data[0]\n",
    "Y=Data[1]"
   ]
  },
  {
   "cell_type": "code",
   "execution_count": 6,
   "metadata": {},
   "outputs": [
    {
     "data": {
      "text/plain": [
       "((5000, 1600), (5000,), (5000, 1600), (5000,))"
      ]
     },
     "execution_count": 6,
     "metadata": {},
     "output_type": "execute_result"
    }
   ],
   "source": [
    "X_train, X_valid, y_train, y_valid = train_test_split(X, Y, split_size=0.5)\n",
    "X_train.shape, y_train.shape, X_valid.shape, y_valid.shape"
   ]
  },
  {
   "cell_type": "code",
   "execution_count": 7,
   "metadata": {},
   "outputs": [
    {
     "data": {
      "text/plain": [
       "'\\nann = NeuralNetMLPdeep(l2 = 0.0001, \\n                   batch_size=10, \\n                   epochs=50, \\n                   n_hidden=30,\\n                   eta = 0.01,\\n                    tpe = \"regression\")\\n\\nann.fit(X_train, y_train, X_valid, y_valid)\\nann.predict(X_valid)\\n# returns a list of the mean mse score for different epochs or batches\\nmetric.append(ann.eval_[\"valid_preform\"])\\nprint(\" for lmd \"+str(l) + \" and eta: \" + str(e) + \"   performance is \" + str(np.mean(ann.eval_[\"valid_preform\"])))\\n'"
      ]
     },
     "execution_count": 7,
     "metadata": {},
     "output_type": "execute_result"
    }
   ],
   "source": [
    "\"\"\"\n",
    "ann = NeuralNetMLPdeep(l2 = 0.0001, \n",
    "                   batch_size=10, \n",
    "                   epochs=50, \n",
    "                   n_hidden=30,\n",
    "                   eta = 0.01,\n",
    "                    tpe = \"regression\")\n",
    "\n",
    "ann.fit(X_train, y_train, X_valid, y_valid)\n",
    "ann.predict(X_valid)\n",
    "# returns a list of the mean mse score for different epochs or batches\n",
    "metric.append(ann.eval_[\"valid_preform\"])\n",
    "print(\" for lmd \"+str(l) + \" and eta: \" + str(e) + \"   performance is \" + str(np.mean(ann.eval_[\"valid_preform\"])))\n",
    "\"\"\""
   ]
  },
  {
   "cell_type": "markdown",
   "metadata": {},
   "source": [
    "# Two layer MLP (Neural network )"
   ]
  },
  {
   "cell_type": "code",
   "execution_count": null,
   "metadata": {
    "scrolled": false
   },
   "outputs": [
    {
     "name": "stdout",
     "output_type": "stream",
     "text": [
      "Sigmoid for nr of epochs 1 and eta: 0.0001  batchsize = 1   performance is 39.5648454623\n",
      "Sigmoid for nr of epochs 1 and eta: 0.0001  batchsize = 10   performance is 39.4842916819\n",
      "Sigmoid for nr of epochs 1 and eta: 0.0001  batchsize = 50   performance is 39.4922761502\n",
      "---------------------------\n",
      "Sigmoid for nr of epochs 1 and eta: 0.001  batchsize = 1   performance is 9.33060354858\n",
      "Sigmoid for nr of epochs 1 and eta: 0.001  batchsize = 10   performance is 7.04695010577\n",
      "Sigmoid for nr of epochs 1 and eta: 0.001  batchsize = 50   performance is 6.57561933123\n",
      "---------------------------\n",
      "Sigmoid for nr of epochs 1 and eta: 0.01  batchsize = 1   performance is 4.2935884305\n",
      "Sigmoid for nr of epochs 1 and eta: 0.01  batchsize = 10   performance is inf\n",
      "Sigmoid for nr of epochs 1 and eta: 0.01  batchsize = 50   performance is 6.8600813969e+229\n",
      "---------------------------\n",
      "Sigmoid for nr of epochs 1 and eta: 0.1  batchsize = 1   performance is nan\n",
      "Sigmoid for nr of epochs 1 and eta: 0.1  batchsize = 10   performance is nan\n",
      "Sigmoid for nr of epochs 1 and eta: 0.1  batchsize = 50   performance is nan\n",
      "---------------------------\n",
      "Sigmoid for nr of epochs 1 and eta: 1.0  batchsize = 1   performance is nan\n",
      "Sigmoid for nr of epochs 1 and eta: 1.0  batchsize = 10   performance is nan\n",
      "Sigmoid for nr of epochs 1 and eta: 1.0  batchsize = 50   performance is nan\n",
      "---------------------------\n",
      "Sigmoid for nr of epochs 10 and eta: 0.0001  batchsize = 1   performance is 26.2216818993\n",
      "Sigmoid for nr of epochs 10 and eta: 0.0001  batchsize = 10   performance is 25.9062395154\n",
      "Sigmoid for nr of epochs 10 and eta: 0.0001  batchsize = 50   performance is 24.1165431172\n",
      "---------------------------\n",
      "Sigmoid for nr of epochs 10 and eta: 0.001  batchsize = 1   performance is 3.13606212476\n",
      "Sigmoid for nr of epochs 10 and eta: 0.001  batchsize = 10   performance is 2.93004145947\n",
      "Sigmoid for nr of epochs 10 and eta: 0.001  batchsize = 50   performance is 2.71169163963\n",
      "---------------------------\n",
      "Sigmoid for nr of epochs 10 and eta: 0.01  batchsize = 1   performance is 3.19834267795\n",
      "Sigmoid for nr of epochs 10 and eta: 0.01  batchsize = 10   performance is nan\n",
      "Sigmoid for nr of epochs 10 and eta: 0.01  batchsize = 50   performance is 2.0540383611e+231\n",
      "---------------------------\n",
      "Sigmoid for nr of epochs 10 and eta: 0.1  batchsize = 1   performance is nan\n",
      "Sigmoid for nr of epochs 10 and eta: 0.1  batchsize = 10   performance is nan\n",
      "Sigmoid for nr of epochs 10 and eta: 0.1  batchsize = 50   performance is nan\n",
      "---------------------------\n",
      "Sigmoid for nr of epochs 10 and eta: 1.0  batchsize = 1   performance is nan\n",
      "Sigmoid for nr of epochs 10 and eta: 1.0  batchsize = 10   performance is nan\n",
      "Sigmoid for nr of epochs 10 and eta: 1.0  batchsize = 50   performance is nan\n",
      "---------------------------\n",
      "Sigmoid for nr of epochs 50 and eta: 0.0001  batchsize = 1   performance is 7.02518202653\n",
      "Sigmoid for nr of epochs 50 and eta: 0.0001  batchsize = 10   performance is 7.19894235456\n",
      "Sigmoid for nr of epochs 50 and eta: 0.0001  batchsize = 50   performance is 7.47918784426\n",
      "---------------------------\n",
      "Sigmoid for nr of epochs 50 and eta: 0.001  batchsize = 1   performance is 2.57888955433\n",
      "Sigmoid for nr of epochs 50 and eta: 0.001  batchsize = 10   performance is 2.37139379215\n",
      "Sigmoid for nr of epochs 50 and eta: 0.001  batchsize = 50   performance is 2.5432067355\n",
      "---------------------------\n",
      "Sigmoid for nr of epochs 50 and eta: 0.01  batchsize = 1   performance is 3.23925953899\n",
      "Sigmoid for nr of epochs 50 and eta: 0.01  batchsize = 10   performance is 2.04783551504e+295\n",
      "Sigmoid for nr of epochs 50 and eta: 0.01  batchsize = 50   performance is 9.16911013828e+230\n",
      "---------------------------\n",
      "Sigmoid for nr of epochs 50 and eta: 0.1  batchsize = 1   performance is nan\n",
      "Sigmoid for nr of epochs 50 and eta: 0.1  batchsize = 10   performance is nan\n",
      "Sigmoid for nr of epochs 50 and eta: 0.1  batchsize = 50   performance is nan\n",
      "---------------------------\n",
      "Sigmoid for nr of epochs 50 and eta: 1.0  batchsize = 1   performance is nan\n",
      "Sigmoid for nr of epochs 50 and eta: 1.0  batchsize = 10   performance is nan\n",
      "Sigmoid for nr of epochs 50 and eta: 1.0  batchsize = 50   performance is nan\n",
      "---------------------------\n",
      "Sigmoid for nr of epochs 100 and eta: 0.0001  batchsize = 1   performance is 4.75247917411\n",
      "Sigmoid for nr of epochs 100 and eta: 0.0001  batchsize = 10   performance is 4.85355952057\n",
      "Sigmoid for nr of epochs 100 and eta: 0.0001  batchsize = 50   performance is 4.81937375059\n",
      "---------------------------\n",
      "Sigmoid for nr of epochs 100 and eta: 0.001  batchsize = 1   performance is 2.54572217228\n",
      "Sigmoid for nr of epochs 100 and eta: 0.001  batchsize = 10   performance is 2.522804739\n",
      "Sigmoid for nr of epochs 100 and eta: 0.001  batchsize = 50   performance is 2.52585262776\n",
      "---------------------------\n",
      "Sigmoid for nr of epochs 100 and eta: 0.01  batchsize = 1   performance is 3.49807606824\n",
      "Sigmoid for nr of epochs 100 and eta: 0.01  batchsize = 10   performance is inf\n",
      "Sigmoid for nr of epochs 100 and eta: 0.01  batchsize = 50   performance is 3.48021488077e+232\n",
      "---------------------------\n",
      "Sigmoid for nr of epochs 100 and eta: 0.1  batchsize = 1   performance is nan\n",
      "Sigmoid for nr of epochs 100 and eta: 0.1  batchsize = 10   performance is nan\n",
      "Sigmoid for nr of epochs 100 and eta: 0.1  batchsize = 50   performance is nan\n",
      "---------------------------\n",
      "Sigmoid for nr of epochs 100 and eta: 1.0  batchsize = 1   performance is nan\n",
      "Sigmoid for nr of epochs 100 and eta: 1.0  batchsize = 10   performance is nan\n",
      "Sigmoid for nr of epochs 100 and eta: 1.0  batchsize = 50   performance is nan\n",
      "---------------------------\n"
     ]
    }
   ],
   "source": [
    "# Experimental setup\n",
    "metric = []\n",
    "\n",
    "eta = [0.0001, 0.001, 0.01, 0.1, 1.0]\n",
    "#lmd = [0.0001, 0.001, 0.01, 0.1, 1.0, 10]\n",
    "epochs = [1, 10, 50, 100]\n",
    "batchsize = [1, 10, 50]\n",
    "\n",
    "\n",
    "for epoch in epochs:\n",
    "    for e in eta:\n",
    "        for batch in batchsize:\n",
    "            ann = NeuralNetMLP(n_hidden=30, \n",
    "                               epochs=epoch, \n",
    "                               eta=e, \n",
    "                               shuffle=True,\n",
    "                               batch_size=batch, \n",
    "                               activation='sigmoid', \n",
    "                               tpe = \"regression\")\n",
    "\n",
    "            ann.fit(X_train, y_train, X_valid, y_valid)\n",
    "            ann.predict(X_valid)\n",
    "            # returns a list of the mean mse score for different epochs or batches\n",
    "            metric.append(ann.eval_[\"valid_preform\"])\n",
    "            print(\"Sigmoid for nr of epochs \"+str(epoch) + \" and eta: \" + str(e) + \"  batchsize = \" + str(batch) +\"   performance is \" + str(np.nanmean(ann.eval_[\"valid_preform\"])))\n",
    "        print(\"---------------------------\")"
   ]
  },
  {
   "cell_type": "code",
   "execution_count": null,
   "metadata": {
    "collapsed": true,
    "scrolled": false
   },
   "outputs": [],
   "source": [
    "\"\"\"\n",
    "m = np.array(av).reshape((len(eta), len(lmd)))\n",
    "\n",
    "plt.figure(figsize=(12,6))\n",
    "ax = sns.heatmap(m, annot = True, xticklabels=lmd, yticklabels=eta)\n",
    "ax.set_title(\"Regression using sigmoid function\", fontsize = 20)\n",
    "ax.set_xlabel(\"Lambda value\", fontsize = 15)\n",
    "ax.set_ylabel(\"Eta value\", fontsize = 15) #\n",
    "plt.savefig(\"./results/figures/regression_ridge_nn_sigmoid_epochs_1.png\")\"\"\""
   ]
  },
  {
   "cell_type": "code",
   "execution_count": null,
   "metadata": {},
   "outputs": [
    {
     "name": "stdout",
     "output_type": "stream",
     "text": [
      "ELU for nr of epochs 1 and eta: 0.0001  batchsize = 1   performance is 26.8140355305\n",
      "ELU for nr of epochs 1 and eta: 0.0001  batchsize = 10   performance is 27.7354392255\n",
      "ELU for nr of epochs 1 and eta: 0.0001  batchsize = 50   performance is 23.1962262793\n",
      "---------------------------\n",
      "ELU for nr of epochs 1 and eta: 0.001  batchsize = 1   performance is nan\n",
      "ELU for nr of epochs 1 and eta: 0.001  batchsize = 10   performance is nan\n",
      "ELU for nr of epochs 1 and eta: 0.001  batchsize = 50   performance is nan\n",
      "---------------------------\n",
      "ELU for nr of epochs 1 and eta: 0.01  batchsize = 1   performance is nan\n",
      "ELU for nr of epochs 1 and eta: 0.01  batchsize = 10   performance is nan\n",
      "ELU for nr of epochs 1 and eta: 0.01  batchsize = 50   performance is nan\n",
      "---------------------------\n",
      "ELU for nr of epochs 1 and eta: 0.1  batchsize = 1   performance is nan\n",
      "ELU for nr of epochs 1 and eta: 0.1  batchsize = 10   performance is nan\n",
      "ELU for nr of epochs 1 and eta: 0.1  batchsize = 50   performance is nan\n",
      "---------------------------\n",
      "ELU for nr of epochs 1 and eta: 1.0  batchsize = 1   performance is nan\n",
      "ELU for nr of epochs 1 and eta: 1.0  batchsize = 10   performance is nan\n",
      "ELU for nr of epochs 1 and eta: 1.0  batchsize = 50   performance is nan\n",
      "---------------------------\n",
      "ELU for nr of epochs 10 and eta: 0.0001  batchsize = 1   performance is 4.5046273845\n",
      "ELU for nr of epochs 10 and eta: 0.0001  batchsize = 10   performance is 5.11707167424\n",
      "ELU for nr of epochs 10 and eta: 0.0001  batchsize = 50   performance is 1.09727427836e+12\n",
      "---------------------------\n",
      "ELU for nr of epochs 10 and eta: 0.001  batchsize = 1   performance is nan\n",
      "ELU for nr of epochs 10 and eta: 0.001  batchsize = 10   performance is nan\n",
      "ELU for nr of epochs 10 and eta: 0.001  batchsize = 50   performance is nan\n",
      "---------------------------\n",
      "ELU for nr of epochs 10 and eta: 0.01  batchsize = 1   performance is nan\n",
      "ELU for nr of epochs 10 and eta: 0.01  batchsize = 10   performance is nan\n",
      "ELU for nr of epochs 10 and eta: 0.01  batchsize = 50   performance is nan\n",
      "---------------------------\n",
      "ELU for nr of epochs 10 and eta: 0.1  batchsize = 1   performance is nan\n",
      "ELU for nr of epochs 10 and eta: 0.1  batchsize = 10   performance is nan\n",
      "ELU for nr of epochs 10 and eta: 0.1  batchsize = 50   performance is nan\n",
      "---------------------------\n",
      "ELU for nr of epochs 10 and eta: 1.0  batchsize = 1   performance is nan\n",
      "ELU for nr of epochs 10 and eta: 1.0  batchsize = 10   performance is nan\n",
      "ELU for nr of epochs 10 and eta: 1.0  batchsize = 50   performance is nan\n",
      "---------------------------\n"
     ]
    }
   ],
   "source": [
    "# Experimental setup\n",
    "metric = []\n",
    "\n",
    "eta = [0.0001, 0.001, 0.01, 0.1, 1.0]\n",
    "#lmd = [0.0001, 0.001, 0.01, 0.1, 1.0, 10]\n",
    "epochs = [1, 10, 50, 100]\n",
    "batchsize = [1, 10, 50]\n",
    "\n",
    "# Om vi skal bruke elu så må vi tweeke alpha i tilegg.\n",
    "\n",
    "\n",
    "for epoch in epochs:\n",
    "    for e in eta:\n",
    "        for batch in batchsize:\n",
    "            ann = NeuralNetMLP(n_hidden=30, \n",
    "                               epochs=epoch, \n",
    "                               eta=e, \n",
    "                               alpha = 0.0001,\n",
    "                               shuffle=True,\n",
    "                               batch_size=batch, \n",
    "                               activation='elu', \n",
    "                               tpe = \"regression\")\n",
    "\n",
    "            ann.fit(X_train, y_train, X_valid, y_valid)\n",
    "            ann.predict(X_valid)\n",
    "            # returns a list of the mean mse score for different epochs or batches\n",
    "            metric.append(ann.eval_[\"valid_preform\"])\n",
    "            print(\"ELU for nr of epochs \"+str(epoch) + \" and eta: \" + str(e) + \"  batchsize = \" + str(batch) +\"   performance is \" + str(np.nanmean(ann.eval_[\"valid_preform\"])))\n",
    "        print(\"---------------------------\")"
   ]
  },
  {
   "cell_type": "code",
   "execution_count": 11,
   "metadata": {},
   "outputs": [
    {
     "data": {
      "text/plain": [
       "'m = np.array(av).reshape((len(eta), len(lmd)))\\n\\nplt.figure(figsize=(12,6))\\nax = sns.heatmap(m, annot = True, xticklabels=lmd, yticklabels=eta)\\nax.set_title(\"Average MSE for alle epochs using elu activation function\", fontsize = 20)\\nax.set_xlabel(\"Lambda value\", fontsize = 15)\\nax.set_ylabel(\"Eta value\", fontsize = 15) #\\nplt.savefig(\"./results/figures/regression_ridge_nn_elu_epochs_1.png\")'"
      ]
     },
     "execution_count": 11,
     "metadata": {},
     "output_type": "execute_result"
    }
   ],
   "source": [
    "\"\"\"m = np.array(av).reshape((len(eta), len(lmd)))\n",
    "\n",
    "plt.figure(figsize=(12,6))\n",
    "ax = sns.heatmap(m, annot = True, xticklabels=lmd, yticklabels=eta)\n",
    "ax.set_title(\"Average MSE for alle epochs using elu activation function\", fontsize = 20)\n",
    "ax.set_xlabel(\"Lambda value\", fontsize = 15)\n",
    "ax.set_ylabel(\"Eta value\", fontsize = 15) #\n",
    "plt.savefig(\"./results/figures/regression_ridge_nn_elu_epochs_1.png\")\"\"\""
   ]
  },
  {
   "cell_type": "code",
   "execution_count": 16,
   "metadata": {},
   "outputs": [
    {
     "name": "stdout",
     "output_type": "stream",
     "text": [
      "Testedata: for lmd 0.001 and eta: 0.001   performance is 77.9127944988\n"
     ]
    }
   ],
   "source": [
    "ann = NeuralNetMLP(l2 = 0.001, \n",
    "                   batch_size=1, \n",
    "                   epochs=10, \n",
    "                   n_hidden=30,\n",
    "                   eta = 0.01,\n",
    "                   activation=\"sigmoid\",\n",
    "                   tpe = \"regression\")\n",
    "\n",
    "ann.fit(X_train, y_train, X_valid, y_valid)\n",
    "ann.predict(X_valid)\n",
    "# returns a list of the mean mse score for different epochs or batches\n",
    "metric.append(np.average(ann.eval_[\"valid_preform\"]))\n",
    "print(\"Testedata: for lmd \"+str(0.001) + \" and eta: \" + str(0.001) + \"   performance is \" + str(np.mean(ann.eval_[\"valid_preform\"])))\n",
    "       "
   ]
  },
  {
   "cell_type": "markdown",
   "metadata": {
    "collapsed": true
   },
   "source": [
    "# Comparing to scikitlearn MLPregression"
   ]
  },
  {
   "cell_type": "code",
   "execution_count": 13,
   "metadata": {
    "collapsed": true
   },
   "outputs": [],
   "source": [
    "from sklearn.neural_network import MLPRegressor\n",
    "from utils import mean_squared_error"
   ]
  },
  {
   "cell_type": "code",
   "execution_count": 14,
   "metadata": {},
   "outputs": [
    {
     "data": {
      "text/plain": [
       "2.7991333169242338"
      ]
     },
     "execution_count": 14,
     "metadata": {},
     "output_type": "execute_result"
    }
   ],
   "source": [
    "mlp = MLPRegressor(hidden_layer_sizes=(30, ), \n",
    "                   activation = 'logistic', # this is the sigmoid activation function\n",
    "                   solver = \"sgd\", \n",
    "                   alpha = 0.0001, \n",
    "                   batch_size =10, \n",
    "                   learning_rate_init=0.01)\n",
    "\n",
    "mlp.fit(X_train, y_train)\n",
    "y_pred = mlp.predict(X_valid)\n",
    "#logistic activation uses the sigmoid function \n",
    "mean_squared_error(y_pred, y_valid)"
   ]
  },
  {
   "cell_type": "code",
   "execution_count": 17,
   "metadata": {
    "collapsed": true
   },
   "outputs": [],
   "source": [
    "mlp = MLPRegressor(hidden_layer_sizes=(30, ), \n",
    "                   activation = 'relu', \n",
    "                   solver = \"sgd\", \n",
    "                   alpha = 0.0001, \n",
    "                   batch_size =10, \n",
    "                   learning_rate_init=0.01)\n",
    "\n",
    "mlp.fit(X_train, y_train)\n",
    "y_pred = mlp.predict(X_valid)"
   ]
  },
  {
   "cell_type": "code",
   "execution_count": 16,
   "metadata": {},
   "outputs": [
    {
     "data": {
      "text/plain": [
       "116.62759046688441"
      ]
     },
     "execution_count": 16,
     "metadata": {},
     "output_type": "execute_result"
    }
   ],
   "source": [
    "mean_squared_error(y_pred, y_valid)"
   ]
  },
  {
   "cell_type": "code",
   "execution_count": null,
   "metadata": {
    "collapsed": true
   },
   "outputs": [],
   "source": []
  }
 ],
 "metadata": {
  "kernelspec": {
   "display_name": "Python 3",
   "language": "python",
   "name": "python3"
  },
  "language_info": {
   "codemirror_mode": {
    "name": "ipython",
    "version": 3
   },
   "file_extension": ".py",
   "mimetype": "text/x-python",
   "name": "python",
   "nbconvert_exporter": "python",
   "pygments_lexer": "ipython3",
   "version": "3.6.6"
  }
 },
 "nbformat": 4,
 "nbformat_minor": 2
}
