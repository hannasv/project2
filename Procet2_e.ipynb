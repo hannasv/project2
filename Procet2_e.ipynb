{
 "cells": [
  {
   "cell_type": "markdown",
   "metadata": {},
   "source": [
    "# Logitic regression using a MLP"
   ]
  },
  {
   "cell_type": "code",
   "execution_count": 1,
   "metadata": {
    "collapsed": true
   },
   "outputs": [],
   "source": [
    "import pickle\n",
    "import os\n",
    "import glob\n",
    "import numpy as np\n",
    "import pandas as pd\n",
    "import matplotlib.pyplot as plt\n",
    "import seaborn as sns\n",
    "import sklearn.model_selection as skms\n",
    "import sklearn.linear_model as skl\n",
    "import sklearn.metrics as skm\n",
    "import tqdm\n",
    "import copy\n",
    "import time\n",
    "from IPython.display import display\n",
    "\n",
    "%matplotlib inline\n",
    "\n",
    "from ann import NeuralNetMLP"
   ]
  },
  {
   "cell_type": "code",
   "execution_count": 2,
   "metadata": {
    "collapsed": true
   },
   "outputs": [],
   "source": [
    "cwd = os.getcwd()\n",
    "filenames = glob.glob(os.path.join(cwd, 'files*'))"
   ]
  },
  {
   "cell_type": "code",
   "execution_count": 3,
   "metadata": {
    "collapsed": true
   },
   "outputs": [],
   "source": [
    "label_filename = \"/home/hanna/project2/files/Ising2DFM_reSample_L40_T=All_labels.pkl\"\n",
    "\n",
    "# Read in the labels\n",
    "with open(label_filename, \"rb\") as f:\n",
    "    labels = pickle.load(f)\n",
    "\n",
    "dat_filename = \"/home/hanna/project2/files/Ising2DFM_reSample_L40_T=All.pkl\"\n",
    "    \n",
    "# Read in the corresponding configurations\n",
    "with open(dat_filename, \"rb\") as f:\n",
    "    data = np.unpackbits(pickle.load(f)).reshape(-1, 1600).astype(\"int\")\n",
    "\n",
    "# Set spin-down to -1\n",
    "data[data == 0] = -1"
   ]
  },
  {
   "cell_type": "code",
   "execution_count": 4,
   "metadata": {
    "collapsed": true
   },
   "outputs": [],
   "source": [
    "# Set up slices of the dataset\n",
    "ordered = slice(0, 70000)\n",
    "critical = slice(70000, 100000)\n",
    "disordered = slice(100000, 160000)\n",
    "\n",
    "X = np.concatenate((data[ordered], data[disordered]))\n",
    "Y = np.concatenate((labels[ordered], labels[disordered]))"
   ]
  },
  {
   "cell_type": "code",
   "execution_count": 5,
   "metadata": {
    "collapsed": true
   },
   "outputs": [],
   "source": [
    "from utils import train_test_split\n",
    "X_train, X_test, y_train, y_test = train_test_split(X, Y, split_size=0.5, random_state=0)"
   ]
  },
  {
   "cell_type": "markdown",
   "metadata": {},
   "source": [
    "# Neural net MLP"
   ]
  },
  {
   "cell_type": "code",
   "execution_count": 6,
   "metadata": {},
   "outputs": [
    {
     "name": "stdout",
     "output_type": "stream",
     "text": [
      "Sigmoid for nr of epochs 1 and eta: 0.0001  batchsize = 1   performance is 0.736846153846\n",
      "Sigmoid for nr of epochs 1 and eta: 0.0001  batchsize = 10   performance is 0.7222\n",
      "Sigmoid for nr of epochs 1 and eta: 0.0001  batchsize = 50   performance is 0.712215384615\n",
      "---------------------------\n",
      "Sigmoid for nr of epochs 1 and eta: 0.001  batchsize = 1   performance is 0.885415384615\n",
      "Sigmoid for nr of epochs 1 and eta: 0.001  batchsize = 10   performance is 0.871353846154\n",
      "Sigmoid for nr of epochs 1 and eta: 0.001  batchsize = 50   performance is 0.872061538462\n",
      "---------------------------\n",
      "Sigmoid for nr of epochs 1 and eta: 0.01  batchsize = 1   performance is 0.993953846154\n",
      "Sigmoid for nr of epochs 1 and eta: 0.01  batchsize = 10   performance is 0.991430769231\n",
      "Sigmoid for nr of epochs 1 and eta: 0.01  batchsize = 50   performance is 0.719030769231\n",
      "---------------------------\n",
      "Sigmoid for nr of epochs 1 and eta: 0.1  batchsize = 1   performance is 0.999523076923\n",
      "Sigmoid for nr of epochs 1 and eta: 0.1  batchsize = 10   performance is 0.999784615385\n",
      "Sigmoid for nr of epochs 1 and eta: 0.1  batchsize = 50   performance is 0.999815384615\n",
      "---------------------------\n",
      "Sigmoid for nr of epochs 10 and eta: 0.0001  batchsize = 1   performance is 0.846826153846\n",
      "Sigmoid for nr of epochs 10 and eta: 0.0001  batchsize = 10   performance is 0.847313846154\n",
      "Sigmoid for nr of epochs 10 and eta: 0.0001  batchsize = 50   performance is 0.838918461538\n",
      "---------------------------\n",
      "Sigmoid for nr of epochs 10 and eta: 0.001  batchsize = 1   performance is 0.962116923077\n",
      "Sigmoid for nr of epochs 10 and eta: 0.001  batchsize = 10   performance is 0.961506153846\n",
      "Sigmoid for nr of epochs 10 and eta: 0.001  batchsize = 50   performance is 0.962369230769\n",
      "---------------------------\n",
      "Sigmoid for nr of epochs 10 and eta: 0.01  batchsize = 1   performance is 0.998730769231\n",
      "Sigmoid for nr of epochs 10 and eta: 0.01  batchsize = 10   performance is 0.9984\n",
      "Sigmoid for nr of epochs 10 and eta: 0.01  batchsize = 50   performance is 0.972226153846\n",
      "---------------------------\n",
      "Sigmoid for nr of epochs 10 and eta: 0.1  batchsize = 1   performance is 0.999612307692\n",
      "Sigmoid for nr of epochs 10 and eta: 0.1  batchsize = 10   performance is 0.999941538462\n",
      "Sigmoid for nr of epochs 10 and eta: 0.1  batchsize = 50   performance is 0.999878461538\n",
      "---------------------------\n",
      "Sigmoid for nr of epochs 50 and eta: 0.0001  batchsize = 1   performance is 0.907127384615\n",
      "Sigmoid for nr of epochs 50 and eta: 0.0001  batchsize = 10   performance is 0.921081846154\n",
      "Sigmoid for nr of epochs 50 and eta: 0.0001  batchsize = 50   performance is 0.909448923077\n",
      "---------------------------\n",
      "Sigmoid for nr of epochs 50 and eta: 0.001  batchsize = 1   performance is 0.989633846154\n",
      "Sigmoid for nr of epochs 50 and eta: 0.001  batchsize = 10   performance is 0.989326153846\n",
      "Sigmoid for nr of epochs 50 and eta: 0.001  batchsize = 50   performance is 0.988751076923\n",
      "---------------------------\n",
      "Sigmoid for nr of epochs 50 and eta: 0.01  batchsize = 1   performance is 0.998800307692\n",
      "Sigmoid for nr of epochs 50 and eta: 0.01  batchsize = 10   performance is 0.999293230769\n",
      "Sigmoid for nr of epochs 50 and eta: 0.01  batchsize = 50   performance is 0.999250461538\n",
      "---------------------------\n",
      "Sigmoid for nr of epochs 50 and eta: 0.1  batchsize = 1   performance is 0.999797846154\n",
      "Sigmoid for nr of epochs 50 and eta: 0.1  batchsize = 10   performance is 0.999884615385\n",
      "Sigmoid for nr of epochs 50 and eta: 0.1  batchsize = 50   performance is 0.999945230769\n",
      "---------------------------\n",
      "Sigmoid for nr of epochs 100 and eta: 0.0001  batchsize = 1   performance is 0.949187538462\n",
      "Sigmoid for nr of epochs 100 and eta: 0.0001  batchsize = 10   performance is 0.952693692308\n",
      "Sigmoid for nr of epochs 100 and eta: 0.0001  batchsize = 50   performance is 0.949569230769\n",
      "---------------------------\n",
      "Sigmoid for nr of epochs 100 and eta: 0.001  batchsize = 1   performance is 0.994035692308\n",
      "Sigmoid for nr of epochs 100 and eta: 0.001  batchsize = 10   performance is 0.994258153846\n",
      "Sigmoid for nr of epochs 100 and eta: 0.001  batchsize = 50   performance is 0.993829230769\n",
      "---------------------------\n",
      "Sigmoid for nr of epochs 100 and eta: 0.01  batchsize = 1   performance is 0.99922\n",
      "Sigmoid for nr of epochs 100 and eta: 0.01  batchsize = 10   performance is 0.999230153846\n",
      "Sigmoid for nr of epochs 100 and eta: 0.01  batchsize = 50   performance is 0.999463076923\n",
      "---------------------------\n",
      "Sigmoid for nr of epochs 100 and eta: 0.1  batchsize = 1   performance is 0.999783230769\n",
      "Sigmoid for nr of epochs 100 and eta: 0.1  batchsize = 10   performance is 0.999978153846\n",
      "Sigmoid for nr of epochs 100 and eta: 0.1  batchsize = 50   performance is 0.728691076923\n",
      "---------------------------\n"
     ]
    }
   ],
   "source": [
    "# Experimental setup\n",
    "metric = []\n",
    "\n",
    "eta = [0.0001, 0.001, 0.01, 0.1]\n",
    "#lmd = [0.0001, 0.001, 0.01, 0.1, 1.0, 10]\n",
    "epochs = [1, 10, 50, 100]\n",
    "batchsize = [1, 10, 50]\n",
    "\n",
    "\n",
    "for epoch in epochs:\n",
    "    for e in eta:\n",
    "        for batch in batchsize:\n",
    "            ann = NeuralNetMLP(n_hidden=30, \n",
    "                               epochs=epoch, \n",
    "                               eta=e, \n",
    "                               shuffle=True,\n",
    "                               batch_size=batch, \n",
    "                               activation='sigmoid', \n",
    "                               tpe = \"logistic\")\n",
    "\n",
    "            ann.fit(X_train, y_train, X_test, y_test)\n",
    "            ann.predict(X_test)\n",
    "            # returns a list of the mean mse score for different epochs or batches\n",
    "            metric.append(ann.eval_[\"valid_preform\"])\n",
    "            print(\"Sigmoid for nr of epochs \"+str(epoch) + \" and eta: \" + str(e) + \"  batchsize = \" + str(batch) +\"   performance is \" + str(np.mean(ann.eval_[\"valid_preform\"])))\n",
    "        print(\"---------------------------\")"
   ]
  },
  {
   "cell_type": "code",
   "execution_count": 7,
   "metadata": {},
   "outputs": [
    {
     "data": {
      "text/plain": [
       "array([[1],\n",
       "       [1],\n",
       "       [1],\n",
       "       ..., \n",
       "       [0],\n",
       "       [0],\n",
       "       [1]])"
      ]
     },
     "execution_count": 7,
     "metadata": {},
     "output_type": "execute_result"
    }
   ],
   "source": [
    "ann = NeuralNetMLP(batch_size=10,\n",
    "                   epochs=50,\n",
    "                   n_hidden=30,\n",
    "                   eta = 0.0001,\n",
    "                   activation=\"sigmoid\",\n",
    "                   tpe = \"logistic\")\n",
    "\n",
    "ann.fit(X_train, y_train, X_test, y_test)\n",
    "ann.predict(X_test)"
   ]
  },
  {
   "cell_type": "code",
   "execution_count": 8,
   "metadata": {},
   "outputs": [
    {
     "data": {
      "image/png": "[encoded data removed]",
      "text/plain": [
       "<matplotlib.figure.Figure at 0x7fcde2fe1f28>"
      ]
     },
     "metadata": {},
     "output_type": "display_data"
    }
   ],
   "source": [
    "plt.figure(figsize=(12,6))\n",
    "x = np.arange(50)\n",
    "plt.plot(x, ann.eval_[\"valid_preform\"], label = \"test\")\n",
    "plt.plot(x, ann.eval_[\"train_preform\"], label = \"train\")\n",
    "    \n",
    "plt.title(\" Performance of MLPClassifier, sigmoid  \", fontsize = 20)\n",
    "plt.xlabel(\" Epoch \", fontsize=15)\n",
    "plt.ylabel(\"  Accuracy  \", fontsize=15)\n",
    "plt.legend()\n",
    "plt.savefig(\"./results/figures/MLPClassifier_MSE_50_epochs.png\")"
   ]
  },
  {
   "cell_type": "markdown",
   "metadata": {
    "collapsed": true
   },
   "source": [
    "# Comparing to Scikitlearn MLPClassifier"
   ]
  },
  {
   "cell_type": "code",
   "execution_count": 9,
   "metadata": {},
   "outputs": [
    {
     "data": {
      "text/plain": [
       "MLPClassifier(activation='logistic', alpha=0.0001, batch_size=10, beta_1=0.9,\n",
       "       beta_2=0.999, early_stopping=False, epsilon=1e-08,\n",
       "       hidden_layer_sizes=(30,), learning_rate='constant',\n",
       "       learning_rate_init=0.0001, max_iter=200, momentum=0.9,\n",
       "       nesterovs_momentum=True, power_t=0.5, random_state=1, shuffle=True,\n",
       "       solver='sgd', tol=0.0001, validation_fraction=0.1, verbose=False,\n",
       "       warm_start=False)"
      ]
     },
     "execution_count": 9,
     "metadata": {},
     "output_type": "execute_result"
    }
   ],
   "source": [
    "from sklearn.neural_network import MLPClassifier\n",
    "\n",
    "nn = MLPClassifier(hidden_layer_sizes=(30, ), \n",
    "                                 activation='logistic', \n",
    "                                 solver='sgd', \n",
    "                                 alpha=0.0001, \n",
    "                                 batch_size=10, \n",
    "                                 learning_rate='constant', \n",
    "                                 learning_rate_init=0.0001,\n",
    "                                 shuffle=True, \n",
    "                                 random_state=1)\n",
    "\n",
    "nn.fit(X_train, y_train)"
   ]
  },
  {
   "cell_type": "code",
   "execution_count": 10,
   "metadata": {},
   "outputs": [],
   "source": [
    "y_pred = nn.predict(X_test)"
   ]
  },
  {
   "cell_type": "code",
   "execution_count": 11,
   "metadata": {},
   "outputs": [
    {
     "data": {
      "text/plain": [
       "0.99998461538461536"
      ]
     },
     "execution_count": 11,
     "metadata": {},
     "output_type": "execute_result"
    }
   ],
   "source": [
    "np.sum(y_pred==y_test)/len(y_test)"
   ]
  },
  {
   "cell_type": "code",
   "execution_count": null,
   "metadata": {
    "collapsed": true
   },
   "outputs": [],
   "source": []
  }
 ],
 "metadata": {
  "kernelspec": {
   "display_name": "Python 3",
   "language": "python",
   "name": "python3"
  },
  "language_info": {
   "codemirror_mode": {
    "name": "ipython",
    "version": 3
   },
   "file_extension": ".py",
   "mimetype": "text/x-python",
   "name": "python",
   "nbconvert_exporter": "python",
   "pygments_lexer": "ipython3",
   "version": "3.6.6"
  }
 },
 "nbformat": 4,
 "nbformat_minor": 2
}
