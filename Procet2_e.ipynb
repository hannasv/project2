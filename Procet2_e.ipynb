{
 "cells": [
  {
   "cell_type": "markdown",
   "metadata": {},
   "source": [
    "# Logitic regression using a MLP"
   ]
  },
  {
   "cell_type": "code",
   "execution_count": 1,
   "metadata": {
    "collapsed": true
   },
   "outputs": [],
   "source": [
    "import pickle\n",
    "import os\n",
    "import glob\n",
    "import numpy as np\n",
    "import pandas as pd\n",
    "import matplotlib.pyplot as plt\n",
    "import seaborn as sns\n",
    "import sklearn.model_selection as skms\n",
    "import sklearn.linear_model as skl\n",
    "import sklearn.metrics as skm\n",
    "import tqdm\n",
    "import copy\n",
    "import time\n",
    "from IPython.display import display\n",
    "\n",
    "%matplotlib inline\n",
    "\n",
    "from annCopy import NeuralNetMLP"
   ]
  },
  {
   "cell_type": "code",
   "execution_count": 2,
   "metadata": {
    "collapsed": true
   },
   "outputs": [],
   "source": [
    "cwd = os.getcwd()\n",
    "filenames = glob.glob(os.path.join(cwd, 'files*'))"
   ]
  },
  {
   "cell_type": "code",
   "execution_count": 3,
   "metadata": {
    "collapsed": true
   },
   "outputs": [],
   "source": [
    "label_filename = \"/home/hanna/project2/files/Ising2DFM_reSample_L40_T=All_labels.pkl\"\n",
    "\n",
    "# Read in the labels\n",
    "with open(label_filename, \"rb\") as f:\n",
    "    labels = pickle.load(f)\n",
    "\n",
    "dat_filename = \"/home/hanna/project2/files/Ising2DFM_reSample_L40_T=All.pkl\"\n",
    "    \n",
    "# Read in the corresponding configurations\n",
    "with open(dat_filename, \"rb\") as f:\n",
    "    data = np.unpackbits(pickle.load(f)).reshape(-1, 1600).astype(\"int\")\n",
    "\n",
    "# Set spin-down to -1\n",
    "data[data == 0] = -1"
   ]
  },
  {
   "cell_type": "code",
   "execution_count": 4,
   "metadata": {
    "collapsed": true
   },
   "outputs": [],
   "source": [
    "# Set up slices of the dataset\n",
    "ordered = slice(0, 70000)\n",
    "critical = slice(70000, 100000)\n",
    "disordered = slice(100000, 160000)\n",
    "\n",
    "X = np.concatenate((data[ordered], data[disordered]))\n",
    "Y = np.concatenate((labels[ordered], labels[disordered]))"
   ]
  },
  {
   "cell_type": "code",
   "execution_count": 5,
   "metadata": {
    "collapsed": true
   },
   "outputs": [],
   "source": [
    "#X_train, X_test, y_train, y_test = skms.train_test_split(X,Y, test_size = 0.333)"
   ]
  },
  {
   "cell_type": "code",
   "execution_count": 6,
   "metadata": {
    "collapsed": true
   },
   "outputs": [],
   "source": [
    "from utils import train_test_split\n",
    "X_train, X_test, y_train, y_test = train_test_split(X, Y, split_size=0.5, random_state=0)"
   ]
  },
  {
   "cell_type": "markdown",
   "metadata": {},
   "source": [
    "# Neural net MLP"
   ]
  },
  {
   "cell_type": "code",
   "execution_count": 8,
   "metadata": {},
   "outputs": [
    {
     "name": "stdout",
     "output_type": "stream",
     "text": [
      "Sigmoid for nr of epochs 1 and eta: 0.0001  batchsize = 1   performance is 0.730092307692\n",
      "Sigmoid for nr of epochs 1 and eta: 0.0001  batchsize = 10   performance is 0.729461538462\n",
      "Sigmoid for nr of epochs 1 and eta: 0.0001  batchsize = 50   performance is 0.763861538462\n",
      "---------------------------\n",
      "Sigmoid for nr of epochs 1 and eta: 0.001  batchsize = 1   performance is 0.883276923077\n",
      "Sigmoid for nr of epochs 1 and eta: 0.001  batchsize = 10   performance is 0.862507692308\n",
      "Sigmoid for nr of epochs 1 and eta: 0.001  batchsize = 50   performance is 0.876076923077\n",
      "---------------------------\n",
      "Sigmoid for nr of epochs 1 and eta: 0.01  batchsize = 1   performance is 0.994276923077\n",
      "Sigmoid for nr of epochs 1 and eta: 0.01  batchsize = 10   performance is 0.994907692308\n",
      "Sigmoid for nr of epochs 1 and eta: 0.01  batchsize = 50   performance is 0.992476923077\n",
      "---------------------------\n",
      "Sigmoid for nr of epochs 1 and eta: 0.1  batchsize = 1   performance is 0.998892307692\n",
      "Sigmoid for nr of epochs 1 and eta: 0.1  batchsize = 10   performance is 0.999584615385\n",
      "Sigmoid for nr of epochs 1 and eta: 0.1  batchsize = 50   performance is 0.999769230769\n",
      "---------------------------\n",
      "Sigmoid for nr of epochs 10 and eta: 0.0001  batchsize = 1   performance is 0.841089230769\n",
      "Sigmoid for nr of epochs 10 and eta: 0.0001  batchsize = 10   performance is 0.840047692308\n",
      "Sigmoid for nr of epochs 10 and eta: 0.0001  batchsize = 50   performance is 0.840843076923\n",
      "---------------------------\n",
      "Sigmoid for nr of epochs 10 and eta: 0.001  batchsize = 1   performance is 0.959486153846\n",
      "Sigmoid for nr of epochs 10 and eta: 0.001  batchsize = 10   performance is 0.958290769231\n",
      "Sigmoid for nr of epochs 10 and eta: 0.001  batchsize = 50   performance is 0.959281538462\n",
      "---------------------------\n",
      "Sigmoid for nr of epochs 10 and eta: 0.01  batchsize = 1   performance is 0.998278461538\n",
      "Sigmoid for nr of epochs 10 and eta: 0.01  batchsize = 10   performance is 0.998\n",
      "Sigmoid for nr of epochs 10 and eta: 0.01  batchsize = 50   performance is 0.997873846154\n",
      "---------------------------\n",
      "Sigmoid for nr of epochs 10 and eta: 0.1  batchsize = 1   performance is 0.99952\n",
      "Sigmoid for nr of epochs 10 and eta: 0.1  batchsize = 10   performance is 0.999910769231\n",
      "Sigmoid for nr of epochs 10 and eta: 0.1  batchsize = 50   performance is 0.999787692308\n",
      "---------------------------\n",
      "Sigmoid for nr of epochs 50 and eta: 0.0001  batchsize = 1   performance is 0.915344923077\n",
      "Sigmoid for nr of epochs 50 and eta: 0.0001  batchsize = 10   performance is 0.918572615385\n",
      "Sigmoid for nr of epochs 50 and eta: 0.0001  batchsize = 50   performance is 0.913090769231\n",
      "---------------------------\n",
      "Sigmoid for nr of epochs 50 and eta: 0.001  batchsize = 1   performance is 0.988562769231\n",
      "Sigmoid for nr of epochs 50 and eta: 0.001  batchsize = 10   performance is 0.989561538462\n",
      "Sigmoid for nr of epochs 50 and eta: 0.001  batchsize = 50   performance is 0.987947692308\n",
      "---------------------------\n",
      "Sigmoid for nr of epochs 50 and eta: 0.01  batchsize = 1   performance is 0.998879384615\n",
      "Sigmoid for nr of epochs 50 and eta: 0.01  batchsize = 10   performance is 0.999216615385\n",
      "Sigmoid for nr of epochs 50 and eta: 0.01  batchsize = 50   performance is 0.993891076923\n",
      "---------------------------\n",
      "Sigmoid for nr of epochs 50 and eta: 0.1  batchsize = 1   performance is 0.999765230769\n",
      "Sigmoid for nr of epochs 50 and eta: 0.1  batchsize = 10   performance is 0.999987692308\n",
      "Sigmoid for nr of epochs 50 and eta: 0.1  batchsize = 50   performance is 0.999915076923\n",
      "---------------------------\n",
      "Sigmoid for nr of epochs 100 and eta: 0.0001  batchsize = 1   performance is 0.948594769231\n",
      "Sigmoid for nr of epochs 100 and eta: 0.0001  batchsize = 10   performance is 0.952547384615\n",
      "Sigmoid for nr of epochs 100 and eta: 0.0001  batchsize = 50   performance is 0.950984769231\n",
      "---------------------------\n",
      "Sigmoid for nr of epochs 100 and eta: 0.001  batchsize = 1   performance is 0.994178307692\n",
      "Sigmoid for nr of epochs 100 and eta: 0.001  batchsize = 10   performance is 0.993921846154\n",
      "Sigmoid for nr of epochs 100 and eta: 0.001  batchsize = 50   performance is 0.994608461538\n",
      "---------------------------\n",
      "Sigmoid for nr of epochs 100 and eta: 0.01  batchsize = 1   performance is 0.999444769231\n",
      "Sigmoid for nr of epochs 100 and eta: 0.01  batchsize = 10   performance is 0.999426153846\n",
      "Sigmoid for nr of epochs 100 and eta: 0.01  batchsize = 50   performance is 0.999531846154\n",
      "---------------------------\n",
      "Sigmoid for nr of epochs 100 and eta: 0.1  batchsize = 1   performance is 0.999786153846\n",
      "Sigmoid for nr of epochs 100 and eta: 0.1  batchsize = 10   performance is 0.999857384615\n",
      "Sigmoid for nr of epochs 100 and eta: 0.1  batchsize = 50   performance is 0.999942923077\n",
      "---------------------------\n"
     ]
    }
   ],
   "source": [
    "# Experimental setup\n",
    "metric = []\n",
    "\n",
    "eta = [0.0001, 0.001, 0.01, 0.1]\n",
    "#lmd = [0.0001, 0.001, 0.01, 0.1, 1.0, 10]\n",
    "epochs = [1, 10, 50, 100]\n",
    "batchsize = [1, 10, 50]\n",
    "\n",
    "\n",
    "for epoch in epochs:\n",
    "    for e in eta:\n",
    "        for batch in batchsize:\n",
    "            ann = NeuralNetMLP(n_hidden=30, \n",
    "                               epochs=epoch, \n",
    "                               eta=e, \n",
    "                               shuffle=True,\n",
    "                               batch_size=batch, \n",
    "                               activation='sigmoid', \n",
    "                               tpe = \"logistic\")\n",
    "\n",
    "            ann.fit(X_train, y_train, X_test, y_test)\n",
    "            ann.predict(X_test)\n",
    "            # returns a list of the mean mse score for different epochs or batches\n",
    "            metric.append(ann.eval_[\"valid_preform\"])\n",
    "            print(\"Sigmoid for nr of epochs \"+str(epoch) + \" and eta: \" + str(e) + \"  batchsize = \" + str(batch) +\"   performance is \" + str(np.mean(ann.eval_[\"valid_preform\"])))\n",
    "        print(\"---------------------------\")"
   ]
  },
  {
   "cell_type": "code",
   "execution_count": null,
   "metadata": {
    "collapsed": true
   },
   "outputs": [],
   "source": []
  },
  {
   "cell_type": "code",
   "execution_count": null,
   "metadata": {
    "collapsed": true
   },
   "outputs": [],
   "source": []
  }
 ],
 "metadata": {
  "kernelspec": {
   "display_name": "Python 3",
   "language": "python",
   "name": "python3"
  },
  "language_info": {
   "codemirror_mode": {
    "name": "ipython",
    "version": 3
   },
   "file_extension": ".py",
   "mimetype": "text/x-python",
   "name": "python",
   "nbconvert_exporter": "python",
   "pygments_lexer": "ipython3",
   "version": "3.6.6"
  }
 },
 "nbformat": 4,
 "nbformat_minor": 2
}
