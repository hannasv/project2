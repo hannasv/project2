{
 "cells": [
  {
   "cell_type": "markdown",
   "metadata": {},
   "source": [
    "# Part d: regression on 1Dim ising modellusing a multilayer perceptron (neural network)"
   ]
  },
  {
   "cell_type": "code",
   "execution_count": 23,
   "metadata": {
    "collapsed": true
   },
   "outputs": [],
   "source": [
    "import numpy as np\n",
    "import scipy.sparse as sp\n",
    "np.random.seed(12)\n",
    "\n",
    "import warnings\n",
    "#Comment this to turn on warnings\n",
    "warnings.filterwarnings('ignore')\n",
    "\n",
    "from model_comparison import model_comparison\n",
    "from resample import resample\n",
    "import algorithms\n",
    "import matplotlib.pyplot as plt\n",
    "\n",
    "from sklearn.linear_model import LinearRegression\n",
    "\n",
    "from mpl_toolkits.axes_grid1 import make_axes_locatable\n",
    "import seaborn as sns\n",
    "\n",
    "\n",
    "from annCopy import NeuralNetMLP\n",
    "from utils import train_test_split\n",
    "%matplotlib inline"
   ]
  },
  {
   "cell_type": "code",
   "execution_count": 2,
   "metadata": {},
   "outputs": [
    {
     "data": {
      "text/plain": [
       "'\\nComparing to project 1 - x = states, z = energies... \\nCurrently no y since we are in one dimension. \\n\\n'"
      ]
     },
     "execution_count": 2,
     "metadata": {},
     "output_type": "execute_result"
    }
   ],
   "source": [
    "### define Ising model aprams\n",
    "# system size\n",
    "L=40\n",
    "\n",
    "# create 10000 random Ising states\n",
    "states=np.random.choice([-1, 1], size=(10000,L))\n",
    "\n",
    "def ising_energies(states,L):\n",
    "    \"\"\"\n",
    "    This function calculates the energies of the states in the nn Ising Hamiltonian\n",
    "    \"\"\"\n",
    "    J=np.zeros((L,L),)\n",
    "    for i in range(L):\n",
    "        J[i,(i+1)%L]-=1.0\n",
    "    # compute energies\n",
    "    E = np.einsum('...i,ij,...j->...',states,J,states)\n",
    "\n",
    "    return E\n",
    "# calculate Ising energies\n",
    "energies=ising_energies(states,L)\n",
    "\n",
    "\"\"\"\n",
    "Comparing to project 1 - x = states, z = energies... \n",
    "Currently no y since we are in one dimension. \n",
    "\n",
    "\"\"\""
   ]
  },
  {
   "cell_type": "code",
   "execution_count": 3,
   "metadata": {
    "collapsed": true
   },
   "outputs": [],
   "source": [
    "# reshape Ising states into RL samples: S_iS_j --> X_p\n",
    "states=np.einsum('...i,...j->...ij', states, states)\n",
    "shape=states.shape\n",
    "states=states.reshape((shape[0],shape[1]*shape[2])) \n",
    "# build final data set\n",
    "Data=[states,energies]\n",
    "\n",
    "# define number of samples\n",
    "n_samples=600\n",
    "# define train and test data sets\n"
   ]
  },
  {
   "cell_type": "code",
   "execution_count": 4,
   "metadata": {
    "collapsed": true
   },
   "outputs": [],
   "source": [
    "X=Data[0]\n",
    "Y=Data[1]"
   ]
  },
  {
   "cell_type": "code",
   "execution_count": 5,
   "metadata": {},
   "outputs": [
    {
     "data": {
      "text/plain": [
       "((5000, 1600), (5000,), (5000, 1600), (5000,))"
      ]
     },
     "execution_count": 5,
     "metadata": {},
     "output_type": "execute_result"
    }
   ],
   "source": [
    "X_train, X_valid, y_train, y_valid = train_test_split(X, Y, split_size=0.5)\n",
    "X_train.shape, y_train.shape, X_valid.shape, y_valid.shape"
   ]
  },
  {
   "cell_type": "markdown",
   "metadata": {},
   "source": [
    "# Two layer MLP (Neural network )"
   ]
  },
  {
   "cell_type": "code",
   "execution_count": 6,
   "metadata": {
    "scrolled": false
   },
   "outputs": [
    {
     "name": "stdout",
     "output_type": "stream",
     "text": [
      " for lmd 0.0001 and eta: 0.0001   performance is 76.8301900296\n",
      " for lmd 0.001 and eta: 0.0001   performance is 76.5607998985\n",
      " for lmd 0.01 and eta: 0.0001   performance is 77.2798124\n",
      " for lmd 0.1 and eta: 0.0001   performance is 76.0171951938\n",
      " for lmd 1.0 and eta: 0.0001   performance is 76.2432306143\n",
      " for lmd 10 and eta: 0.0001   performance is 75.4886313438\n",
      " for lmd 0.0001 and eta: 0.001   performance is 77.3805135534\n",
      " for lmd 0.001 and eta: 0.001   performance is 76.7718141797\n",
      " for lmd 0.01 and eta: 0.001   performance is 76.7237673755\n",
      " for lmd 0.1 and eta: 0.001   performance is 76.8132912768\n",
      " for lmd 1.0 and eta: 0.001   performance is 77.1245094291\n",
      " for lmd 10 and eta: 0.001   performance is 75.7161091732\n",
      " for lmd 0.0001 and eta: 0.01   performance is 39.9645709405\n",
      " for lmd 0.001 and eta: 0.01   performance is 40.7106466034\n",
      " for lmd 0.01 and eta: 0.01   performance is 69.7773884351\n",
      " for lmd 0.1 and eta: 0.01   performance is 40.1673801311\n",
      " for lmd 1.0 and eta: 0.01   performance is 39.9898687317\n",
      " for lmd 10 and eta: 0.01   performance is 39.9582046511\n",
      " for lmd 0.0001 and eta: 0.1   performance is 3.8148318396e+12\n",
      " for lmd 0.001 and eta: 0.1   performance is 3.36899489779e+13\n",
      " for lmd 0.01 and eta: 0.1   performance is 2.37928792487e+14\n",
      " for lmd 0.1 and eta: 0.1   performance is 7.83869724461e+15\n",
      " for lmd 1.0 and eta: 0.1   performance is 44.07788711\n",
      " for lmd 10 and eta: 0.1   performance is 42.9838236964\n"
     ]
    }
   ],
   "source": [
    "# Experimental setup\n",
    "metric = []\n",
    "\n",
    "eta = [0.0001, 0.001, 0.01, 0.1]\n",
    "lmd = [0.0001, 0.001, 0.01, 0.1, 1.0, 10]\n",
    "\n",
    "for e in eta:\n",
    "    for l in lmd:\n",
    "        ann = NeuralNetMLP(l2 = l, \n",
    "                           batch_size=10, \n",
    "                           epochs=50, \n",
    "                           n_hidden=30,\n",
    "                           eta = e)\n",
    "\n",
    "        ann.fit(X_train, y_train, X_valid, y_valid)\n",
    "        ann.predict(X_valid)\n",
    "        # returns a list of the mean mse score for different epochs or batches\n",
    "        metric.append(ann.eval_[\"valid_preform\"])\n",
    "        print(\" for lmd \"+str(l) + \" and eta: \" + str(e) + \"   performance is \" + str(np.mean(ann.eval_[\"valid_preform\"])))"
   ]
  },
  {
   "cell_type": "code",
   "execution_count": 28,
   "metadata": {},
   "outputs": [],
   "source": [
    "av = np.average(metric, axis = 1)"
   ]
  },
  {
   "cell_type": "code",
   "execution_count": 29,
   "metadata": {},
   "outputs": [
    {
     "data": {
      "text/plain": [
       "array([  7.68301900e+01,   7.65607999e+01,   7.72798124e+01,\n",
       "         7.60171952e+01,   7.62432306e+01,   7.54886313e+01,\n",
       "         7.73805136e+01,   7.67718142e+01,   7.67237674e+01,\n",
       "         7.68132913e+01,   7.71245094e+01,   7.57161092e+01,\n",
       "         3.99645709e+01,   4.07106466e+01,   6.97773884e+01,\n",
       "         4.01673801e+01,   3.99898687e+01,   3.99582047e+01,\n",
       "         3.81483184e+12,   3.36899490e+13,   2.37928792e+14,\n",
       "         7.83869724e+15,   4.40778871e+01,   4.29838237e+01])"
      ]
     },
     "execution_count": 29,
     "metadata": {},
     "output_type": "execute_result"
    }
   ],
   "source": [
    "av"
   ]
  },
  {
   "cell_type": "code",
   "execution_count": 31,
   "metadata": {
    "scrolled": false
   },
   "outputs": [
    {
     "data": {
      "image/png": "[encoded data removed]",
      "text/plain": [
       "<matplotlib.figure.Figure at 0x7f9e78035978>"
      ]
     },
     "metadata": {},
     "output_type": "display_data"
    }
   ],
   "source": [
    "m = np.array(av).reshape((len(eta), len(lmd)))\n",
    "\n",
    "plt.figure(figsize=(12,6))\n",
    "ax = sns.heatmap(m, annot = True, xticklabels=lmd, yticklabels=eta)\n",
    "ax.set_title(\"Regression using sigmoid function\", fontsize = 20)\n",
    "ax.set_xlabel(\"Lambda value\", fontsize = 15)\n",
    "ax.set_ylabel(\"Eta value\", fontsize = 15) #\n",
    "plt.savefig(\"./results/figures/regression_ridge_nn_sigmoid.png\")"
   ]
  },
  {
   "cell_type": "code",
   "execution_count": 30,
   "metadata": {},
   "outputs": [
    {
     "name": "stdout",
     "output_type": "stream",
     "text": [
      " for lmd 0.0001 and eta: 0.0001   performance is 77.2777936113\n",
      " for lmd 0.001 and eta: 0.0001   performance is 77.1485752647\n",
      " for lmd 0.01 and eta: 0.0001   performance is 77.9733257154\n",
      " for lmd 0.1 and eta: 0.0001   performance is 77.2403558132\n",
      " for lmd 1.0 and eta: 0.0001   performance is 77.0638973195\n",
      " for lmd 10 and eta: 0.0001   performance is 76.2823203525\n",
      " for lmd 0.0001 and eta: 0.001   performance is 77.5262170763\n",
      " for lmd 0.001 and eta: 0.001   performance is 77.1906368502\n",
      " for lmd 0.01 and eta: 0.001   performance is 76.6808972353\n",
      " for lmd 0.1 and eta: 0.001   performance is 77.3126474715\n",
      " for lmd 1.0 and eta: 0.001   performance is 76.7301287224\n",
      " for lmd 10 and eta: 0.001   performance is 76.3749417083\n",
      " for lmd 0.0001 and eta: 0.01   performance is 39.9792998052\n",
      " for lmd 0.001 and eta: 0.01   performance is 40.4406054686\n",
      " for lmd 0.01 and eta: 0.01   performance is 40.0362678835\n",
      " for lmd 0.1 and eta: 0.01   performance is 40.0551421053\n",
      " for lmd 1.0 and eta: 0.01   performance is 2.78844998428e+36\n",
      " for lmd 10 and eta: 0.01   performance is 7.05138149106e+36\n",
      " for lmd 0.0001 and eta: 0.1   performance is 1.71306195415e+57\n",
      " for lmd 0.001 and eta: 0.1   performance is nan\n",
      " for lmd 0.01 and eta: 0.1   performance is 5.2479684827e+38\n",
      " for lmd 0.1 and eta: 0.1   performance is nan\n",
      " for lmd 1.0 and eta: 0.1   performance is 2.42319542422e+15\n",
      " for lmd 10 and eta: 0.1   performance is 44.2304123201\n"
     ]
    }
   ],
   "source": [
    "# Experimental setup\n",
    "metric = []\n",
    "\n",
    "eta = [0.0001, 0.001, 0.01, 0.1]\n",
    "lmd = [0.0001, 0.001, 0.01, 0.1, 1.0, 10]\n",
    "\n",
    "for e in eta:\n",
    "    for l in lmd:\n",
    "        ann = NeuralNetMLP(l2 = l, \n",
    "                           batch_size=10, \n",
    "                           epochs=100, \n",
    "                           n_hidden=30,\n",
    "                           eta = e)\n",
    "\n",
    "        ann.fit(X_train, y_train, X_valid, y_valid)\n",
    "        ann.predict(X_valid)\n",
    "        # returns a list of the mean mse score for different epochs or batches\n",
    "        metric.append(ann.eval_[\"valid_preform\"])\n",
    "        print(\" for lmd \"+str(l) + \" and eta: \" + str(e) + \"   performance is \" + str(np.mean(ann.eval_[\"valid_preform\"])))"
   ]
  },
  {
   "cell_type": "markdown",
   "metadata": {
    "collapsed": true
   },
   "source": [
    "# Comparing to scikitlearn MLPregression"
   ]
  },
  {
   "cell_type": "code",
   "execution_count": 32,
   "metadata": {
    "collapsed": true
   },
   "outputs": [],
   "source": [
    "from sklearn.neural_network import MLPRegressor"
   ]
  },
  {
   "cell_type": "code",
   "execution_count": 35,
   "metadata": {},
   "outputs": [
    {
     "data": {
      "text/plain": [
       "0.77051466685090109"
      ]
     },
     "execution_count": 35,
     "metadata": {},
     "output_type": "execute_result"
    }
   ],
   "source": [
    "mlp = MLPRegressor(max_iter=1000)\n",
    "mlp.fit(X_train, y_train)\n",
    "y_pred = mlp.predict(X_valid)\n",
    "\n",
    "np.sum(np.square(y_pred - y_valid))/len(y_pred)"
   ]
  },
  {
   "cell_type": "code",
   "execution_count": 34,
   "metadata": {},
   "outputs": [
    {
     "data": {
      "text/plain": [
       "array([ -3.28140201,   3.64353631,  11.10142951, ...,  -5.66985956,\n",
       "         0.46970918,   8.02716027])"
      ]
     },
     "execution_count": 34,
     "metadata": {},
     "output_type": "execute_result"
    }
   ],
   "source": [
    "y_pred"
   ]
  },
  {
   "cell_type": "code",
   "execution_count": null,
   "metadata": {
    "collapsed": true
   },
   "outputs": [],
   "source": []
  }
 ],
 "metadata": {
  "kernelspec": {
   "display_name": "Python 3",
   "language": "python",
   "name": "python3"
  },
  "language_info": {
   "codemirror_mode": {
    "name": "ipython",
    "version": 3
   },
   "file_extension": ".py",
   "mimetype": "text/x-python",
   "name": "python",
   "nbconvert_exporter": "python",
   "pygments_lexer": "ipython3",
   "version": "3.6.6"
  }
 },
 "nbformat": 4,
 "nbformat_minor": 2
}
