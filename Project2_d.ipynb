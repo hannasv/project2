{
 "cells": [
  {
   "cell_type": "markdown",
   "metadata": {},
   "source": [
    "# Part d: regression on 1Dim ising modellusing a multilayer perceptron (neural network)"
   ]
  },
  {
   "cell_type": "code",
   "execution_count": 1,
   "metadata": {},
   "outputs": [],
   "source": [
    "import numpy as np\n",
    "import scipy.sparse as sp\n",
    "np.random.seed(12)\n",
    "\n",
    "import warnings\n",
    "#Comment this to turn on warnings\n",
    "warnings.filterwarnings('ignore')\n",
    "\n",
    "from model_comparison import model_comparison\n",
    "from resample import resample\n",
    "import algorithms\n",
    "import matplotlib.pyplot as plt\n",
    "\n",
    "from sklearn.linear_model import LinearRegression\n",
    "\n",
    "from mpl_toolkits.axes_grid1 import make_axes_locatable\n",
    "import seaborn as sns\n",
    "\n",
    "\n",
    "from ann import NeuralNetMLP\n",
    "from utils import train_test_split\n",
    "%matplotlib inline"
   ]
  },
  {
   "cell_type": "code",
   "execution_count": 2,
   "metadata": {},
   "outputs": [
    {
     "data": {
      "text/plain": [
       "'\\nComparing to project 1 - x = states, z = energies... \\nCurrently no y since we are in one dimension. \\n\\n'"
      ]
     },
     "execution_count": 2,
     "metadata": {},
     "output_type": "execute_result"
    }
   ],
   "source": [
    "### define Ising model aprams\n",
    "# system size\n",
    "L=40\n",
    "\n",
    "# create 10000 random Ising states\n",
    "states=np.random.choice([-1, 1], size=(10000,L))\n",
    "\n",
    "def ising_energies(states,L):\n",
    "    \"\"\"\n",
    "    This function calculates the energies of the states in the nn Ising Hamiltonian\n",
    "    \"\"\"\n",
    "    J=np.zeros((L,L),)\n",
    "    for i in range(L):\n",
    "        J[i,(i+1)%L]-=1.0\n",
    "    # compute energies\n",
    "    E = np.einsum('...i,ij,...j->...',states,J,states)\n",
    "\n",
    "    return E\n",
    "# calculate Ising energies\n",
    "energies=ising_energies(states,L)\n",
    "\n",
    "\"\"\"\n",
    "Comparing to project 1 - x = states, z = energies... \n",
    "Currently no y since we are in one dimension. \n",
    "\n",
    "\"\"\""
   ]
  },
  {
   "cell_type": "code",
   "execution_count": 3,
   "metadata": {
    "collapsed": true
   },
   "outputs": [],
   "source": [
    "# reshape Ising states into RL samples: S_iS_j --> X_p\n",
    "states=np.einsum('...i,...j->...ij', states, states)\n",
    "shape=states.shape\n",
    "states=states.reshape((shape[0],shape[1]*shape[2])) \n",
    "# build final data set\n",
    "Data=[states,energies]\n",
    "\n",
    "# define number of samples\n",
    "n_samples=600\n",
    "# define train and test data sets\n"
   ]
  },
  {
   "cell_type": "code",
   "execution_count": 4,
   "metadata": {},
   "outputs": [],
   "source": [
    "X=Data[0]\n",
    "Y=Data[1]"
   ]
  },
  {
   "cell_type": "code",
   "execution_count": 5,
   "metadata": {},
   "outputs": [
    {
     "data": {
      "text/plain": [
       "((5000, 1600), (5000,), (5000, 1600), (5000,))"
      ]
     },
     "execution_count": 5,
     "metadata": {},
     "output_type": "execute_result"
    }
   ],
   "source": [
    "X_train, X_valid, y_train, y_valid = train_test_split(X, Y, split_size=0.5)\n",
    "X_train.shape, y_train.shape, X_valid.shape, y_valid.shape"
   ]
  },
  {
   "cell_type": "markdown",
   "metadata": {},
   "source": [
    "# Two layer MLP (Neural network )"
   ]
  },
  {
   "cell_type": "markdown",
   "metadata": {},
   "source": [
    "## Used to make table in report. "
   ]
  },
  {
   "cell_type": "code",
   "execution_count": 6,
   "metadata": {
    "scrolled": false
   },
   "outputs": [
    {
     "name": "stdout",
     "output_type": "stream",
     "text": [
      "Sigmoid for nr of epochs 1 and eta: 0.0001  batchsize = 1   performance is 40.406128131\n",
      "Sigmoid for nr of epochs 1 and eta: 0.0001  batchsize = 10   performance is 40.3172034721\n",
      "Sigmoid for nr of epochs 1 and eta: 0.0001  batchsize = 50   performance is 40.3057134088\n",
      "---------------------------\n",
      "Sigmoid for nr of epochs 1 and eta: 0.001  batchsize = 1   performance is 9.6543517805\n",
      "Sigmoid for nr of epochs 1 and eta: 0.001  batchsize = 10   performance is 8.09956264252\n",
      "Sigmoid for nr of epochs 1 and eta: 0.001  batchsize = 50   performance is 8.11674719364\n",
      "---------------------------\n",
      "Sigmoid for nr of epochs 1 and eta: 0.01  batchsize = 1   performance is 4.11025454061\n",
      "Sigmoid for nr of epochs 1 and eta: 0.01  batchsize = 10   performance is nan\n",
      "Sigmoid for nr of epochs 1 and eta: 0.01  batchsize = 50   performance is 5.97649975956e+231\n",
      "---------------------------\n",
      "Sigmoid for nr of epochs 1 and eta: 0.1  batchsize = 1   performance is nan\n",
      "Sigmoid for nr of epochs 1 and eta: 0.1  batchsize = 10   performance is nan\n",
      "Sigmoid for nr of epochs 1 and eta: 0.1  batchsize = 50   performance is nan\n",
      "---------------------------\n",
      "Sigmoid for nr of epochs 1 and eta: 1.0  batchsize = 1   performance is nan\n",
      "Sigmoid for nr of epochs 1 and eta: 1.0  batchsize = 10   performance is nan\n",
      "Sigmoid for nr of epochs 1 and eta: 1.0  batchsize = 50   performance is nan\n",
      "---------------------------\n",
      "Sigmoid for nr of epochs 10 and eta: 0.0001  batchsize = 1   performance is 25.8870792848\n",
      "Sigmoid for nr of epochs 10 and eta: 0.0001  batchsize = 10   performance is 26.5652155607\n",
      "Sigmoid for nr of epochs 10 and eta: 0.0001  batchsize = 50   performance is 26.7267152896\n",
      "---------------------------\n",
      "Sigmoid for nr of epochs 10 and eta: 0.001  batchsize = 1   performance is 3.13169112269\n",
      "Sigmoid for nr of epochs 10 and eta: 0.001  batchsize = 10   performance is 3.3914200669\n",
      "Sigmoid for nr of epochs 10 and eta: 0.001  batchsize = 50   performance is 3.05788653138\n",
      "---------------------------\n",
      "Sigmoid for nr of epochs 10 and eta: 0.01  batchsize = 1   performance is 3.23673008355\n",
      "Sigmoid for nr of epochs 10 and eta: 0.01  batchsize = 10   performance is nan\n",
      "Sigmoid for nr of epochs 10 and eta: 0.01  batchsize = 50   performance is 1.63712615899e+231\n",
      "---------------------------\n",
      "Sigmoid for nr of epochs 10 and eta: 0.1  batchsize = 1   performance is nan\n",
      "Sigmoid for nr of epochs 10 and eta: 0.1  batchsize = 10   performance is nan\n",
      "Sigmoid for nr of epochs 10 and eta: 0.1  batchsize = 50   performance is nan\n",
      "---------------------------\n",
      "Sigmoid for nr of epochs 10 and eta: 1.0  batchsize = 1   performance is nan\n",
      "Sigmoid for nr of epochs 10 and eta: 1.0  batchsize = 10   performance is nan\n",
      "Sigmoid for nr of epochs 10 and eta: 1.0  batchsize = 50   performance is nan\n",
      "---------------------------\n",
      "Sigmoid for nr of epochs 50 and eta: 0.0001  batchsize = 1   performance is 7.93767953585\n",
      "Sigmoid for nr of epochs 50 and eta: 0.0001  batchsize = 10   performance is 7.16613701434\n",
      "Sigmoid for nr of epochs 50 and eta: 0.0001  batchsize = 50   performance is 6.83522323087\n",
      "---------------------------\n",
      "Sigmoid for nr of epochs 50 and eta: 0.001  batchsize = 1   performance is 2.45996676751\n",
      "Sigmoid for nr of epochs 50 and eta: 0.001  batchsize = 10   performance is 2.28424206779\n",
      "Sigmoid for nr of epochs 50 and eta: 0.001  batchsize = 50   performance is 2.50602529599\n",
      "---------------------------\n",
      "Sigmoid for nr of epochs 50 and eta: 0.01  batchsize = 1   performance is 3.15959645838\n",
      "Sigmoid for nr of epochs 50 and eta: 0.01  batchsize = 10   performance is 8.65400711324e+303\n",
      "Sigmoid for nr of epochs 50 and eta: 0.01  batchsize = 50   performance is 6.52885213585e+225\n",
      "---------------------------\n",
      "Sigmoid for nr of epochs 50 and eta: 0.1  batchsize = 1   performance is nan\n",
      "Sigmoid for nr of epochs 50 and eta: 0.1  batchsize = 10   performance is nan\n",
      "Sigmoid for nr of epochs 50 and eta: 0.1  batchsize = 50   performance is nan\n",
      "---------------------------\n",
      "Sigmoid for nr of epochs 50 and eta: 1.0  batchsize = 1   performance is nan\n",
      "Sigmoid for nr of epochs 50 and eta: 1.0  batchsize = 10   performance is nan\n",
      "Sigmoid for nr of epochs 50 and eta: 1.0  batchsize = 50   performance is nan\n",
      "---------------------------\n",
      "Sigmoid for nr of epochs 100 and eta: 0.0001  batchsize = 1   performance is 5.04657910215\n",
      "Sigmoid for nr of epochs 100 and eta: 0.0001  batchsize = 10   performance is 4.75565926555\n",
      "Sigmoid for nr of epochs 100 and eta: 0.0001  batchsize = 50   performance is 4.67718805585\n",
      "---------------------------\n",
      "Sigmoid for nr of epochs 100 and eta: 0.001  batchsize = 1   performance is 2.33756588845\n",
      "Sigmoid for nr of epochs 100 and eta: 0.001  batchsize = 10   performance is 2.36243318243\n",
      "Sigmoid for nr of epochs 100 and eta: 0.001  batchsize = 50   performance is 2.57509354398\n",
      "---------------------------\n",
      "Sigmoid for nr of epochs 100 and eta: 0.01  batchsize = 1   performance is 3.40342589181\n",
      "Sigmoid for nr of epochs 100 and eta: 0.01  batchsize = 10   performance is inf\n",
      "Sigmoid for nr of epochs 100 and eta: 0.01  batchsize = 50   performance is 7.51200812424e+231\n",
      "---------------------------\n",
      "Sigmoid for nr of epochs 100 and eta: 0.1  batchsize = 1   performance is nan\n",
      "Sigmoid for nr of epochs 100 and eta: 0.1  batchsize = 10   performance is nan\n",
      "Sigmoid for nr of epochs 100 and eta: 0.1  batchsize = 50   performance is nan\n",
      "---------------------------\n",
      "Sigmoid for nr of epochs 100 and eta: 1.0  batchsize = 1   performance is nan\n",
      "Sigmoid for nr of epochs 100 and eta: 1.0  batchsize = 10   performance is nan\n",
      "Sigmoid for nr of epochs 100 and eta: 1.0  batchsize = 50   performance is nan\n",
      "---------------------------\n"
     ]
    }
   ],
   "source": [
    "# Experimental setup\n",
    "metric = []\n",
    "\n",
    "eta = [0.0001, 0.001, 0.01, 0.1, 1.0]\n",
    "#lmd = [0.0001, 0.001, 0.01, 0.1, 1.0, 10]\n",
    "epochs = [1, 10, 50, 100]\n",
    "batchsize = [1, 10, 50]\n",
    "\n",
    "\n",
    "for epoch in epochs:\n",
    "    for e in eta:\n",
    "        for batch in batchsize:\n",
    "            ann = NeuralNetMLP(n_hidden=30, \n",
    "                               epochs=epoch, \n",
    "                               eta=e, \n",
    "                               shuffle=True,\n",
    "                               batch_size=batch, \n",
    "                               activation='sigmoid', \n",
    "                               tpe = \"regression\")\n",
    "\n",
    "            ann.fit(X_train, y_train, X_valid, y_valid)\n",
    "            ann.predict(X_valid)\n",
    "            # returns a list of the mean mse score for different epochs or batches\n",
    "            metric.append(ann.eval_[\"valid_preform\"])\n",
    "            print(\"Sigmoid for nr of epochs \"+str(epoch) + \" and eta: \" + str(e) + \"  batchsize = \" + str(batch) +\"   performance is \" + str(np.nanmean(ann.eval_[\"valid_preform\"])))\n",
    "        print(\"---------------------------\")"
   ]
  },
  {
   "cell_type": "code",
   "execution_count": 7,
   "metadata": {},
   "outputs": [
    {
     "name": "stdout",
     "output_type": "stream",
     "text": [
      "ELU for nr of epochs 1 and eta: 0.0001  batchsize = 1   performance is 26.9131786588\n",
      "ELU for nr of epochs 1 and eta: 0.0001  batchsize = 10   performance is 26.3186588729\n",
      "ELU for nr of epochs 1 and eta: 0.0001  batchsize = 50   performance is 30.036346824\n",
      "---------------------------\n",
      "ELU for nr of epochs 1 and eta: 0.001  batchsize = 1   performance is nan\n",
      "ELU for nr of epochs 1 and eta: 0.001  batchsize = 10   performance is nan\n",
      "ELU for nr of epochs 1 and eta: 0.001  batchsize = 50   performance is nan\n",
      "---------------------------\n",
      "ELU for nr of epochs 1 and eta: 0.01  batchsize = 1   performance is nan\n",
      "ELU for nr of epochs 1 and eta: 0.01  batchsize = 10   performance is nan\n",
      "ELU for nr of epochs 1 and eta: 0.01  batchsize = 50   performance is nan\n",
      "---------------------------\n",
      "ELU for nr of epochs 1 and eta: 0.1  batchsize = 1   performance is nan\n",
      "ELU for nr of epochs 1 and eta: 0.1  batchsize = 10   performance is nan\n",
      "ELU for nr of epochs 1 and eta: 0.1  batchsize = 50   performance is nan\n",
      "---------------------------\n",
      "ELU for nr of epochs 1 and eta: 1.0  batchsize = 1   performance is nan\n",
      "ELU for nr of epochs 1 and eta: 1.0  batchsize = 10   performance is nan\n",
      "ELU for nr of epochs 1 and eta: 1.0  batchsize = 50   performance is nan\n",
      "---------------------------\n",
      "ELU for nr of epochs 10 and eta: 0.0001  batchsize = 1   performance is 4.86434499143\n",
      "ELU for nr of epochs 10 and eta: 0.0001  batchsize = 10   performance is 4.38939030687\n",
      "ELU for nr of epochs 10 and eta: 0.0001  batchsize = 50   performance is 6.58296755458\n",
      "---------------------------\n",
      "ELU for nr of epochs 10 and eta: 0.001  batchsize = 1   performance is nan\n",
      "ELU for nr of epochs 10 and eta: 0.001  batchsize = 10   performance is nan\n",
      "ELU for nr of epochs 10 and eta: 0.001  batchsize = 50   performance is nan\n",
      "---------------------------\n",
      "ELU for nr of epochs 10 and eta: 0.01  batchsize = 1   performance is nan\n",
      "ELU for nr of epochs 10 and eta: 0.01  batchsize = 10   performance is nan\n",
      "ELU for nr of epochs 10 and eta: 0.01  batchsize = 50   performance is nan\n",
      "---------------------------\n",
      "ELU for nr of epochs 10 and eta: 0.1  batchsize = 1   performance is nan\n",
      "ELU for nr of epochs 10 and eta: 0.1  batchsize = 10   performance is nan\n",
      "ELU for nr of epochs 10 and eta: 0.1  batchsize = 50   performance is nan\n",
      "---------------------------\n",
      "ELU for nr of epochs 10 and eta: 1.0  batchsize = 1   performance is nan\n",
      "ELU for nr of epochs 10 and eta: 1.0  batchsize = 10   performance is nan\n",
      "ELU for nr of epochs 10 and eta: 1.0  batchsize = 50   performance is nan\n",
      "---------------------------\n",
      "ELU for nr of epochs 50 and eta: 0.0001  batchsize = 1   performance is 1.11449368449\n",
      "ELU for nr of epochs 50 and eta: 0.0001  batchsize = 10   performance is 1.82148372798\n",
      "ELU for nr of epochs 50 and eta: 0.0001  batchsize = 50   performance is 5.71237027527\n",
      "---------------------------\n",
      "ELU for nr of epochs 50 and eta: 0.001  batchsize = 1   performance is nan\n",
      "ELU for nr of epochs 50 and eta: 0.001  batchsize = 10   performance is nan\n",
      "ELU for nr of epochs 50 and eta: 0.001  batchsize = 50   performance is nan\n",
      "---------------------------\n",
      "ELU for nr of epochs 50 and eta: 0.01  batchsize = 1   performance is nan\n",
      "ELU for nr of epochs 50 and eta: 0.01  batchsize = 10   performance is nan\n",
      "ELU for nr of epochs 50 and eta: 0.01  batchsize = 50   performance is nan\n",
      "---------------------------\n",
      "ELU for nr of epochs 50 and eta: 0.1  batchsize = 1   performance is nan\n",
      "ELU for nr of epochs 50 and eta: 0.1  batchsize = 10   performance is nan\n",
      "ELU for nr of epochs 50 and eta: 0.1  batchsize = 50   performance is nan\n",
      "---------------------------\n",
      "ELU for nr of epochs 50 and eta: 1.0  batchsize = 1   performance is nan\n",
      "ELU for nr of epochs 50 and eta: 1.0  batchsize = 10   performance is nan\n",
      "ELU for nr of epochs 50 and eta: 1.0  batchsize = 50   performance is nan\n",
      "---------------------------\n",
      "ELU for nr of epochs 100 and eta: 0.0001  batchsize = 1   performance is 0.833863082671\n",
      "ELU for nr of epochs 100 and eta: 0.0001  batchsize = 10   performance is 0.790418970674\n",
      "ELU for nr of epochs 100 and eta: 0.0001  batchsize = 50   performance is 5.53833179208\n",
      "---------------------------\n",
      "ELU for nr of epochs 100 and eta: 0.001  batchsize = 1   performance is nan\n",
      "ELU for nr of epochs 100 and eta: 0.001  batchsize = 10   performance is nan\n",
      "ELU for nr of epochs 100 and eta: 0.001  batchsize = 50   performance is nan\n",
      "---------------------------\n",
      "ELU for nr of epochs 100 and eta: 0.01  batchsize = 1   performance is nan\n",
      "ELU for nr of epochs 100 and eta: 0.01  batchsize = 10   performance is nan\n",
      "ELU for nr of epochs 100 and eta: 0.01  batchsize = 50   performance is nan\n",
      "---------------------------\n",
      "ELU for nr of epochs 100 and eta: 0.1  batchsize = 1   performance is nan\n",
      "ELU for nr of epochs 100 and eta: 0.1  batchsize = 10   performance is nan\n",
      "ELU for nr of epochs 100 and eta: 0.1  batchsize = 50   performance is nan\n",
      "---------------------------\n",
      "ELU for nr of epochs 100 and eta: 1.0  batchsize = 1   performance is nan\n",
      "ELU for nr of epochs 100 and eta: 1.0  batchsize = 10   performance is nan\n",
      "ELU for nr of epochs 100 and eta: 1.0  batchsize = 50   performance is nan\n",
      "---------------------------\n"
     ]
    }
   ],
   "source": [
    "# Experimental setup\n",
    "metric = []\n",
    "\n",
    "eta = [0.0001, 0.001, 0.01, 0.1, 1.0]\n",
    "#lmd = [0.0001, 0.001, 0.01, 0.1, 1.0, 10]\n",
    "epochs = [1, 10, 50, 100]\n",
    "batchsize = [1, 10, 50]\n",
    "\n",
    "# Om vi skal bruke elu så må vi tweeke alpha i tilegg.\n",
    "\n",
    "\n",
    "for epoch in epochs:\n",
    "    for e in eta:\n",
    "        for batch in batchsize:\n",
    "            ann = NeuralNetMLP(n_hidden=30, \n",
    "                               epochs=epoch, \n",
    "                               eta=e, \n",
    "                               alpha = 0.0001,\n",
    "                               shuffle=True,\n",
    "                               batch_size=batch, \n",
    "                               activation='elu', \n",
    "                               tpe = \"regression\")\n",
    "\n",
    "            ann.fit(X_train, y_train, X_valid, y_valid)\n",
    "            ann.predict(X_valid)\n",
    "            # returns a list of the mean mse score for different epochs or batches\n",
    "            metric.append(ann.eval_[\"valid_preform\"])\n",
    "            print(\"ELU for nr of epochs \"+str(epoch) + \" and eta: \" + str(e) + \"  batchsize = \" + str(batch) +\"   performance is \" + str(np.nanmean(ann.eval_[\"valid_preform\"])))\n",
    "        print(\"---------------------------\")"
   ]
  },
  {
   "cell_type": "markdown",
   "metadata": {},
   "source": [
    "# Performance pr epoch"
   ]
  },
  {
   "cell_type": "code",
   "execution_count": 8,
   "metadata": {},
   "outputs": [],
   "source": [
    "test_m = []\n",
    "train_m = []\n",
    "\n",
    "eta = [0.0001, 0.001, 0.01, 0.1, 1.0]\n",
    "\n",
    "for e in eta:\n",
    "    ann = NeuralNetMLP(batch_size=10,\n",
    "                       epochs=50,\n",
    "                       n_hidden=30,\n",
    "                       eta = e,\n",
    "                       activation=\"sigmoid\",\n",
    "                       tpe = \"regression\")\n",
    "\n",
    "    ann.fit(X_train, y_train, X_valid, y_valid)\n",
    "    ann.predict(X_valid)\n",
    "    \n",
    "    test_m.append(ann.eval_[\"valid_preform\"])\n",
    "    train_m.append(ann.eval_[\"train_preform\"])"
   ]
  },
  {
   "cell_type": "code",
   "execution_count": 9,
   "metadata": {
    "scrolled": false
   },
   "outputs": [
    {
     "data": {
      "text/plain": [
       "5"
      ]
     },
     "execution_count": 9,
     "metadata": {},
     "output_type": "execute_result"
    }
   ],
   "source": [
    "len(test_m)"
   ]
  },
  {
   "cell_type": "code",
   "execution_count": 10,
   "metadata": {},
   "outputs": [
    {
     "data": {
      "image/png": "[encoded data removed]",
      "text/plain": [
       "<matplotlib.figure.Figure at 0x7fa7438ed668>"
      ]
     },
     "metadata": {},
     "output_type": "display_data"
    }
   ],
   "source": [
    "plt.figure(figsize=(10,6))\n",
    "x = np.arange(len(test_m[0]))\n",
    "\n",
    "for i in range(2):\n",
    "    plt.plot(x, test_m[i], label = \"testdata, eta = %.4f\" %eta[i])\n",
    "    plt.plot(x, train_m[i], label = \"traindata, eta = %.4f\" %eta[i])\n",
    "    \n",
    "plt.title(\" Performance of MLPRegressor, sigmoid  \", fontsize = 20)\n",
    "xmin, xmax, ymin, ymax = plt.axis([0,50,0,50])\n",
    "plt.xlabel(\" Epoch \", fontsize=15)\n",
    "plt.ylabel(\"  MSE  \", fontsize=15)\n",
    "plt.legend()\n",
    "plt.savefig(\"./results/figures/MLPRegressor_sigmoid_MSE_50_epochs.png\")"
   ]
  },
  {
   "cell_type": "code",
   "execution_count": null,
   "metadata": {
    "collapsed": true
   },
   "outputs": [],
   "source": []
  },
  {
   "cell_type": "code",
   "execution_count": null,
   "metadata": {
    "collapsed": true
   },
   "outputs": [],
   "source": []
  },
  {
   "cell_type": "code",
   "execution_count": null,
   "metadata": {
    "collapsed": true
   },
   "outputs": [],
   "source": []
  },
  {
   "cell_type": "markdown",
   "metadata": {
    "collapsed": true
   },
   "source": [
    "# Comparing to scikitlearn MLPregression"
   ]
  },
  {
   "cell_type": "code",
   "execution_count": 15,
   "metadata": {
    "collapsed": true
   },
   "outputs": [],
   "source": [
    "from sklearn.neural_network import MLPRegressor\n",
    "from utils import mean_squared_error"
   ]
  },
  {
   "cell_type": "code",
   "execution_count": 16,
   "metadata": {},
   "outputs": [
    {
     "data": {
      "text/plain": [
       "0.24663779146972911"
      ]
     },
     "execution_count": 16,
     "metadata": {},
     "output_type": "execute_result"
    }
   ],
   "source": [
    "mlp = MLPRegressor(hidden_layer_sizes=(30, ), \n",
    "                   activation = 'logistic', # this is the sigmoid activation function\n",
    "                   solver = \"sgd\", \n",
    "                   alpha = 0.0001, \n",
    "                   batch_size =10, \n",
    "                   learning_rate_init=0.0001)\n",
    "\n",
    "mlp.fit(X_train, y_train)\n",
    "y_pred = mlp.predict(X_valid)\n",
    "#logistic activation uses the sigmoid function \n",
    "mean_squared_error(y_pred, y_valid)"
   ]
  },
  {
   "cell_type": "code",
   "execution_count": 19,
   "metadata": {
    "collapsed": true
   },
   "outputs": [],
   "source": [
    "mlp = MLPRegressor(hidden_layer_sizes=(30, ), \n",
    "                   activation = 'relu', # similar to both elu and lrelu but it is zero for negative values.\n",
    "                   solver = \"sgd\", \n",
    "                   alpha = 0.0001, # out lmd\n",
    "                   batch_size =10, \n",
    "                   learning_rate_init=0.0001)\n",
    "\n",
    "mlp.fit(X_train, y_train)\n",
    "y_pred = mlp.predict(X_valid)"
   ]
  },
  {
   "cell_type": "code",
   "execution_count": 20,
   "metadata": {},
   "outputs": [
    {
     "data": {
      "text/plain": [
       "0.14740433036735676"
      ]
     },
     "execution_count": 20,
     "metadata": {},
     "output_type": "execute_result"
    }
   ],
   "source": [
    "mean_squared_error(y_pred, y_valid)"
   ]
  },
  {
   "cell_type": "code",
   "execution_count": null,
   "metadata": {
    "collapsed": true
   },
   "outputs": [],
   "source": []
  }
 ],
 "metadata": {
  "kernelspec": {
   "display_name": "Python 3",
   "language": "python",
   "name": "python3"
  },
  "language_info": {
   "codemirror_mode": {
    "name": "ipython",
    "version": 3
   },
   "file_extension": ".py",
   "mimetype": "text/x-python",
   "name": "python",
   "nbconvert_exporter": "python",
   "pygments_lexer": "ipython3",
   "version": "3.6.6"
  }
 },
 "nbformat": 4,
 "nbformat_minor": 2
}
