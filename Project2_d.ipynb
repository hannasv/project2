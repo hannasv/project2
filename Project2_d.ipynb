{
 "cells": [
  {
   "cell_type": "markdown",
   "metadata": {},
   "source": [
    "# Part d: regression on 1Dim ising modellusing a multilayer perceptron (neural network)"
   ]
  },
  {
   "cell_type": "code",
   "execution_count": 1,
   "metadata": {
    "collapsed": true
   },
   "outputs": [],
   "source": [
    "import numpy as np\n",
    "import scipy.sparse as sp\n",
    "np.random.seed(12)\n",
    "\n",
    "import warnings\n",
    "#Comment this to turn on warnings\n",
    "warnings.filterwarnings('ignore')\n",
    "\n",
    "from model_comparison import model_comparison\n",
    "from resample import resample\n",
    "import algorithms\n",
    "import matplotlib.pyplot as plt\n",
    "\n",
    "from sklearn.linear_model import LinearRegression\n",
    "\n",
    "from mpl_toolkits.axes_grid1 import make_axes_locatable\n",
    "import seaborn as sns\n",
    "\n",
    "\n",
    "from annCopy import NeuralNetMLP\n",
    "from ann import NeuralNetMLPdeep\n",
    "from utils import train_test_split\n",
    "%matplotlib inline"
   ]
  },
  {
   "cell_type": "code",
   "execution_count": 2,
   "metadata": {},
   "outputs": [
    {
     "data": {
      "text/plain": [
       "'\\nComparing to project 1 - x = states, z = energies... \\nCurrently no y since we are in one dimension. \\n\\n'"
      ]
     },
     "execution_count": 2,
     "metadata": {},
     "output_type": "execute_result"
    }
   ],
   "source": [
    "### define Ising model aprams\n",
    "# system size\n",
    "L=40\n",
    "\n",
    "# create 10000 random Ising states\n",
    "states=np.random.choice([-1, 1], size=(10000,L))\n",
    "\n",
    "def ising_energies(states,L):\n",
    "    \"\"\"\n",
    "    This function calculates the energies of the states in the nn Ising Hamiltonian\n",
    "    \"\"\"\n",
    "    J=np.zeros((L,L),)\n",
    "    for i in range(L):\n",
    "        J[i,(i+1)%L]-=1.0\n",
    "    # compute energies\n",
    "    E = np.einsum('...i,ij,...j->...',states,J,states)\n",
    "\n",
    "    return E\n",
    "# calculate Ising energies\n",
    "energies=ising_energies(states,L)\n",
    "\n",
    "\"\"\"\n",
    "Comparing to project 1 - x = states, z = energies... \n",
    "Currently no y since we are in one dimension. \n",
    "\n",
    "\"\"\""
   ]
  },
  {
   "cell_type": "code",
   "execution_count": 3,
   "metadata": {
    "collapsed": true
   },
   "outputs": [],
   "source": [
    "# reshape Ising states into RL samples: S_iS_j --> X_p\n",
    "states=np.einsum('...i,...j->...ij', states, states)\n",
    "shape=states.shape\n",
    "states=states.reshape((shape[0],shape[1]*shape[2])) \n",
    "# build final data set\n",
    "Data=[states,energies]\n",
    "\n",
    "# define number of samples\n",
    "n_samples=600\n",
    "# define train and test data sets\n"
   ]
  },
  {
   "cell_type": "code",
   "execution_count": 4,
   "metadata": {
    "collapsed": true
   },
   "outputs": [],
   "source": [
    "X=Data[0]\n",
    "Y=Data[1]"
   ]
  },
  {
   "cell_type": "code",
   "execution_count": 5,
   "metadata": {},
   "outputs": [
    {
     "data": {
      "text/plain": [
       "((5000, 1600), (5000,), (5000, 1600), (5000,))"
      ]
     },
     "execution_count": 5,
     "metadata": {},
     "output_type": "execute_result"
    }
   ],
   "source": [
    "X_train, X_valid, y_train, y_valid = train_test_split(X, Y, split_size=0.5)\n",
    "X_train.shape, y_train.shape, X_valid.shape, y_valid.shape"
   ]
  },
  {
   "cell_type": "code",
   "execution_count": 6,
   "metadata": {},
   "outputs": [
    {
     "data": {
      "text/plain": [
       "'\\nann = NeuralNetMLPdeep(l2 = 0.0001, \\n                   batch_size=10, \\n                   epochs=50, \\n                   n_hidden=30,\\n                   eta = 0.01,\\n                    tpe = \"regression\")\\n\\nann.fit(X_train, y_train, X_valid, y_valid)\\nann.predict(X_valid)\\n# returns a list of the mean mse score for different epochs or batches\\nmetric.append(ann.eval_[\"valid_preform\"])\\nprint(\" for lmd \"+str(l) + \" and eta: \" + str(e) + \"   performance is \" + str(np.mean(ann.eval_[\"valid_preform\"])))\\n'"
      ]
     },
     "execution_count": 6,
     "metadata": {},
     "output_type": "execute_result"
    }
   ],
   "source": [
    "\"\"\"\n",
    "ann = NeuralNetMLPdeep(l2 = 0.0001, \n",
    "                   batch_size=10, \n",
    "                   epochs=50, \n",
    "                   n_hidden=30,\n",
    "                   eta = 0.01,\n",
    "                    tpe = \"regression\")\n",
    "\n",
    "ann.fit(X_train, y_train, X_valid, y_valid)\n",
    "ann.predict(X_valid)\n",
    "# returns a list of the mean mse score for different epochs or batches\n",
    "metric.append(ann.eval_[\"valid_preform\"])\n",
    "print(\" for lmd \"+str(l) + \" and eta: \" + str(e) + \"   performance is \" + str(np.mean(ann.eval_[\"valid_preform\"])))\n",
    "\"\"\""
   ]
  },
  {
   "cell_type": "markdown",
   "metadata": {},
   "source": [
    "# Two layer MLP (Neural network )"
   ]
  },
  {
   "cell_type": "code",
   "execution_count": 7,
   "metadata": {
    "scrolled": false
   },
   "outputs": [
    {
     "name": "stdout",
     "output_type": "stream",
     "text": [
      " for lmd 0.0001 and eta: 0.0001   performance is 41.9994017394\n",
      " for lmd 0.001 and eta: 0.0001   performance is 41.9991336304\n",
      " for lmd 0.01 and eta: 0.0001   performance is 41.99646124\n",
      " for lmd 0.1 and eta: 0.0001   performance is 41.9705862651\n",
      " for lmd 1.0 and eta: 0.0001   performance is 41.7794205246\n",
      " for lmd 10 and eta: 0.0001   performance is 41.5002825241\n",
      " for lmd 0.0001 and eta: 0.001   performance is 41.9994017394\n",
      " for lmd 0.001 and eta: 0.001   performance is 41.9991336304\n",
      " for lmd 0.01 and eta: 0.001   performance is 41.99646124\n",
      " for lmd 0.1 and eta: 0.001   performance is 41.9705862651\n",
      " for lmd 1.0 and eta: 0.001   performance is 41.7794205246\n",
      " for lmd 10 and eta: 0.001   performance is 41.5002825241\n",
      " for lmd 0.0001 and eta: 0.01   performance is 41.9994017394\n",
      " for lmd 0.001 and eta: 0.01   performance is 41.9991336304\n",
      " for lmd 0.01 and eta: 0.01   performance is 41.99646124\n",
      " for lmd 0.1 and eta: 0.01   performance is 41.9705862651\n",
      " for lmd 1.0 and eta: 0.01   performance is 41.7794205246\n",
      " for lmd 10 and eta: 0.01   performance is 41.5002825241\n",
      " for lmd 0.0001 and eta: 0.1   performance is 41.9994017394\n",
      " for lmd 0.001 and eta: 0.1   performance is 41.9991336304\n",
      " for lmd 0.01 and eta: 0.1   performance is 41.99646124\n",
      " for lmd 0.1 and eta: 0.1   performance is 41.9705862651\n",
      " for lmd 1.0 and eta: 0.1   performance is 41.7794205246\n",
      " for lmd 10 and eta: 0.1   performance is 41.5002825241\n"
     ]
    }
   ],
   "source": [
    "# Experimental setup\n",
    "metric = []\n",
    "\n",
    "eta = [0.0001, 0.001, 0.01, 0.1]\n",
    "lmd = [0.0001, 0.001, 0.01, 0.1, 1.0, 10]\n",
    "\n",
    "for e in eta:\n",
    "    for l in lmd:\n",
    "        ann = NeuralNetMLP(n_hidden=30, \n",
    "                           l2=l,\n",
    "                           epochs=1, \n",
    "                           eta=0.001, \n",
    "                           shuffle=True,\n",
    "                           batch_size=10, \n",
    "                           seed=1, \n",
    "                           alpha=0.0001, \n",
    "                           activation='sigmoid', \n",
    "                           tpe = \"regression\")\n",
    "            \n",
    "        ann.fit(X_train, y_train, X_valid, y_valid)\n",
    "        ann.predict(X_valid)\n",
    "        # returns a list of the mean mse score for different epochs or batches\n",
    "        metric.append(ann.eval_[\"valid_preform\"])\n",
    "        print(\" for lmd \"+str(l) + \" and eta: \" + str(e) + \"   performance is \" + str(np.mean(ann.eval_[\"valid_preform\"])))"
   ]
  },
  {
   "cell_type": "code",
   "execution_count": 8,
   "metadata": {
    "collapsed": true
   },
   "outputs": [],
   "source": [
    "av = np.average(metric, axis = 1)"
   ]
  },
  {
   "cell_type": "code",
   "execution_count": 9,
   "metadata": {},
   "outputs": [
    {
     "data": {
      "text/plain": [
       "array([ 41.99940174,  41.99913363,  41.99646124,  41.97058627,\n",
       "        41.77942052,  41.50028252,  41.99940174,  41.99913363,\n",
       "        41.99646124,  41.97058627,  41.77942052,  41.50028252,\n",
       "        41.99940174,  41.99913363,  41.99646124,  41.97058627,\n",
       "        41.77942052,  41.50028252,  41.99940174,  41.99913363,\n",
       "        41.99646124,  41.97058627,  41.77942052,  41.50028252])"
      ]
     },
     "execution_count": 9,
     "metadata": {},
     "output_type": "execute_result"
    }
   ],
   "source": [
    "av"
   ]
  },
  {
   "cell_type": "code",
   "execution_count": 17,
   "metadata": {
    "scrolled": false
   },
   "outputs": [
    {
     "data": {
      "image/png": "[encoded data removed]",
      "text/plain": [
       "<matplotlib.figure.Figure at 0x7f0b1012a780>"
      ]
     },
     "metadata": {},
     "output_type": "display_data"
    }
   ],
   "source": [
    "m = np.array(av).reshape((len(eta), len(lmd)))\n",
    "\n",
    "plt.figure(figsize=(12,6))\n",
    "ax = sns.heatmap(m, annot = True, xticklabels=lmd, yticklabels=eta)\n",
    "ax.set_title(\"Regression using sigmoid function\", fontsize = 20)\n",
    "ax.set_xlabel(\"Lambda value\", fontsize = 15)\n",
    "ax.set_ylabel(\"Eta value\", fontsize = 15) #\n",
    "plt.savefig(\"./results/figures/regression_ridge_nn_sigmoid_epochs_1.png\")"
   ]
  },
  {
   "cell_type": "code",
   "execution_count": 25,
   "metadata": {},
   "outputs": [
    {
     "name": "stdout",
     "output_type": "stream",
     "text": [
      " for lmd 0.0001 and eta: 0.0001   performance is 46.6433763801\n",
      " for lmd 0.001 and eta: 0.0001   performance is 46.6395888134\n",
      " for lmd 0.01 and eta: 0.0001   performance is 46.6018791162\n",
      " for lmd 0.1 and eta: 0.0001   performance is 46.2408739081\n",
      " for lmd 1.0 and eta: 0.0001   performance is 43.8365220415\n",
      " for lmd 10 and eta: 0.0001   performance is 41.5100378292\n",
      " for lmd 0.0001 and eta: 0.001   performance is 46.6433763801\n",
      " for lmd 0.001 and eta: 0.001   performance is 46.6395888134\n",
      " for lmd 0.01 and eta: 0.001   performance is 46.6018791162\n",
      " for lmd 0.1 and eta: 0.001   performance is 46.2408739081\n",
      " for lmd 1.0 and eta: 0.001   performance is 43.8365220415\n",
      " for lmd 10 and eta: 0.001   performance is 41.5100378292\n",
      " for lmd 0.0001 and eta: 0.01   performance is 46.6433763801\n",
      " for lmd 0.001 and eta: 0.01   performance is 46.6395888134\n",
      " for lmd 0.01 and eta: 0.01   performance is 46.6018791162\n",
      " for lmd 0.1 and eta: 0.01   performance is 46.2408739081\n",
      " for lmd 1.0 and eta: 0.01   performance is 43.8365220415\n",
      " for lmd 10 and eta: 0.01   performance is 41.5100378292\n",
      " for lmd 0.0001 and eta: 0.1   performance is 46.6433763801\n",
      " for lmd 0.001 and eta: 0.1   performance is 46.6395888134\n",
      " for lmd 0.01 and eta: 0.1   performance is 46.6018791162\n",
      " for lmd 0.1 and eta: 0.1   performance is 46.2408739081\n",
      " for lmd 1.0 and eta: 0.1   performance is 43.8365220415\n",
      " for lmd 10 and eta: 0.1   performance is 41.5100378292\n"
     ]
    }
   ],
   "source": [
    "# Experimental setup\n",
    "metric = []\n",
    "\n",
    "eta = [0.0001, 0.001, 0.01, 0.1]\n",
    "lmd = [0.0001, 0.001, 0.01, 0.1, 1.0, 10]\n",
    "\n",
    "for e in eta:\n",
    "    for l in lmd:\n",
    "        ann = NeuralNetMLP(n_hidden=30, \n",
    "                           l2=l,\n",
    "                           epochs=1, \n",
    "                           eta=0.001, \n",
    "                           shuffle=True,\n",
    "                           batch_size=10, \n",
    "                           seed=1, \n",
    "                           alpha=0.0001, \n",
    "                           activation='elu', \n",
    "                           tpe = \"regression\")\n",
    "            \n",
    "        ann.fit(X_train, y_train, X_valid, y_valid)\n",
    "        ann.predict(X_valid)\n",
    "        # returns a list of the mean mse score for different epochs or batches\n",
    "        metric.append(ann.eval_[\"valid_preform\"])\n",
    "        print(\" for lmd \"+str(l) + \" and eta: \" + str(e) + \"   performance is \" + str(np.mean(ann.eval_[\"valid_preform\"])))"
   ]
  },
  {
   "cell_type": "code",
   "execution_count": 28,
   "metadata": {},
   "outputs": [
    {
     "data": {
      "image/png": "[encoded data removed]",
      "text/plain": [
       "<matplotlib.figure.Figure at 0x7f0b0a588c88>"
      ]
     },
     "metadata": {},
     "output_type": "display_data"
    }
   ],
   "source": [
    "m = np.array(av).reshape((len(eta), len(lmd)))\n",
    "\n",
    "plt.figure(figsize=(12,6))\n",
    "ax = sns.heatmap(m, annot = True, xticklabels=lmd, yticklabels=eta)\n",
    "ax.set_title(\"Average MSE for alle epochs using elu activation function\", fontsize = 20)\n",
    "ax.set_xlabel(\"Lambda value\", fontsize = 15)\n",
    "ax.set_ylabel(\"Eta value\", fontsize = 15) #\n",
    "plt.savefig(\"./results/figures/regression_ridge_nn_elu_epochs_1.png\")"
   ]
  },
  {
   "cell_type": "code",
   "execution_count": 16,
   "metadata": {
    "scrolled": false
   },
   "outputs": [
    {
     "name": "stdout",
     "output_type": "stream",
     "text": [
      "Testedata: for lmd 0.0001 and eta: 0.0001   performance is 43.0992489893\n",
      "Training data: for lmd 0.0001 and eta: 0.0001   performance is 42.2011362779\n",
      "Testedata: for lmd 0.001 and eta: 0.0001   performance is 41.9251197638\n",
      "Training data: for lmd 0.001 and eta: 0.0001   performance is 40.8825341282\n",
      "Testedata: for lmd 0.01 and eta: 0.0001   performance is 43.5299584664\n",
      "Training data: for lmd 0.01 and eta: 0.0001   performance is 42.4501437801\n",
      "Testedata: for lmd 0.1 and eta: 0.0001   performance is 54.6632352575\n",
      "Training data: for lmd 0.1 and eta: 0.0001   performance is 53.8360620039\n",
      "Testedata: for lmd 1.0 and eta: 0.0001   performance is 47.8936115566\n",
      "Training data: for lmd 1.0 and eta: 0.0001   performance is 47.0759961168\n",
      "Testedata: for lmd 10 and eta: 0.0001   performance is 42.0359309864\n",
      "Training data: for lmd 10 and eta: 0.0001   performance is 41.1017322576\n",
      "Testedata: for lmd 0.0001 and eta: 0.001   performance is 45.5841047798\n",
      "Training data: for lmd 0.0001 and eta: 0.001   performance is 44.8354153763\n",
      "Testedata: for lmd 0.001 and eta: 0.001   performance is 43.3476255461\n",
      "Training data: for lmd 0.001 and eta: 0.001   performance is 42.3397509401\n",
      "Testedata: for lmd 0.01 and eta: 0.001   performance is 57.7293198266\n",
      "Training data: for lmd 0.01 and eta: 0.001   performance is 56.6467756403\n",
      "Testedata: for lmd 0.1 and eta: 0.001   performance is 45.5169846115\n",
      "Training data: for lmd 0.1 and eta: 0.001   performance is 44.6340942085\n",
      "Testedata: for lmd 1.0 and eta: 0.001   performance is 41.6295414389\n",
      "Training data: for lmd 1.0 and eta: 0.001   performance is 40.6882982523\n",
      "Testedata: for lmd 10 and eta: 0.001   performance is 41.4961246786\n",
      "Training data: for lmd 10 and eta: 0.001   performance is 40.5552158671\n",
      "Testedata: for lmd 0.0001 and eta: 0.01   performance is 44.8422000064\n",
      "Training data: for lmd 0.0001 and eta: 0.01   performance is 43.8731699335\n",
      "Testedata: for lmd 0.001 and eta: 0.01   performance is 42.872529986\n",
      "Training data: for lmd 0.001 and eta: 0.01   performance is 41.9438746521\n",
      "Testedata: for lmd 0.01 and eta: 0.01   performance is 41.9550055408\n",
      "Training data: for lmd 0.01 and eta: 0.01   performance is 40.9740803567\n",
      "Testedata: for lmd 0.1 and eta: 0.01   performance is 42.2474686456\n",
      "Training data: for lmd 0.1 and eta: 0.01   performance is 41.3383092168\n",
      "Testedata: for lmd 1.0 and eta: 0.01   performance is 41.4967623442\n",
      "Training data: for lmd 1.0 and eta: 0.01   performance is 40.5559875675\n",
      "Testedata: for lmd 10 and eta: 0.01   performance is 41.4976\n",
      "Training data: for lmd 10 and eta: 0.01   performance is 40.5568\n",
      "Testedata: for lmd 0.0001 and eta: 0.1   performance is 43.1178522251\n",
      "Training data: for lmd 0.0001 and eta: 0.1   performance is 42.1196275388\n",
      "Testedata: for lmd 0.001 and eta: 0.1   performance is 42.1112464547\n",
      "Training data: for lmd 0.001 and eta: 0.1   performance is 41.0538725325\n",
      "Testedata: for lmd 0.01 and eta: 0.1   performance is 41.328354504\n",
      "Training data: for lmd 0.01 and eta: 0.1   performance is 40.3634814402\n",
      "Testedata: for lmd 0.1 and eta: 0.1   performance is 41.4988828608\n",
      "Training data: for lmd 0.1 and eta: 0.1   performance is 40.5580988591\n",
      "Testedata: for lmd 1.0 and eta: 0.1   performance is 41.4976\n",
      "Training data: for lmd 1.0 and eta: 0.1   performance is 40.5568\n",
      "Testedata: for lmd 10 and eta: 0.1   performance is 41.4976\n",
      "Training data: for lmd 10 and eta: 0.1   performance is 40.5568\n"
     ]
    }
   ],
   "source": [
    "# Experimental setup\n",
    "metric = []\n",
    "\n",
    "eta = [0.0001, 0.001, 0.01, 0.1]\n",
    "lmd = [0.0001, 0.001, 0.01, 0.1, 1.0, 10]\n",
    "\n",
    "for e in eta:\n",
    "    for l in lmd:\n",
    "        ann = NeuralNetMLP(l2 = l, \n",
    "                           batch_size=10, \n",
    "                           epochs=10, \n",
    "                           n_hidden=30,\n",
    "                           eta = e,\n",
    "                           tpe = \"regression\")\n",
    "\n",
    "        ann.fit(X_train, y_train, X_valid, y_valid)\n",
    "        ann.predict(X_valid)\n",
    "        # returns a list of the mean mse score for different epochs or batches\n",
    "        metric.append(np.average(ann.eval_[\"valid_preform\"]))\n",
    "        print(\"Testedata: for lmd \"+str(l) + \" and eta: \" + str(e) + \"   performance is \" + str(np.mean(ann.eval_[\"valid_preform\"])))\n",
    "        print(\"Training data: for lmd \"+str(l) + \" and eta: \" + str(e) + \"   performance is \" + str(np.mean(ann.eval_[\"train_preform\"])))"
   ]
  },
  {
   "cell_type": "code",
   "execution_count": 24,
   "metadata": {},
   "outputs": [
    {
     "data": {
      "image/png": "[encoded data removed]",
      "text/plain": [
       "<matplotlib.figure.Figure at 0x7f0b0a65fc88>"
      ]
     },
     "metadata": {},
     "output_type": "display_data"
    }
   ],
   "source": [
    "av = np.average(metric, axis = 1)\n",
    "m = np.array(av).reshape((len(eta), len(lmd)))\n",
    "\n",
    "plt.figure(figsize=(12,6))\n",
    "ax = sns.heatmap(m, annot = True, xticklabels=lmd, yticklabels=eta)\n",
    "ax.set_title(\"Regression using sigmoid function\", fontsize = 20)\n",
    "ax.set_xlabel(\"Lambda value\", fontsize = 15)\n",
    "ax.set_ylabel(\"Eta value\", fontsize = 15) #\n",
    "plt.savefig(\"./results/figures/regression_ridge_nn_sigmoid_epochs_10.png\")"
   ]
  },
  {
   "cell_type": "code",
   "execution_count": 36,
   "metadata": {},
   "outputs": [
    {
     "name": "stdout",
     "output_type": "stream",
     "text": [
      "Testedata: for lmd 0.001 and eta: 0.001   performance is 46.8044869225\n"
     ]
    }
   ],
   "source": [
    "ann = NeuralNetMLP(l2 = 0.001, \n",
    "                   batch_size=10, \n",
    "                   epochs=10, \n",
    "                   n_hidden=100,\n",
    "                   eta = 0.001,\n",
    "                   activation=\"elu\",\n",
    "                   tpe = \"regression\")\n",
    "\n",
    "ann.fit(X_train, y_train, X_valid, y_valid)\n",
    "ann.predict(X_valid)\n",
    "# returns a list of the mean mse score for different epochs or batches\n",
    "metric.append(np.average(ann.eval_[\"valid_preform\"]))\n",
    "print(\"Testedata: for lmd \"+str(0.001) + \" and eta: \" + str(0.001) + \"   performance is \" + str(np.mean(ann.eval_[\"valid_preform\"])))\n",
    "       "
   ]
  },
  {
   "cell_type": "markdown",
   "metadata": {
    "collapsed": true
   },
   "source": [
    "# Comparing to scikitlearn MLPregression"
   ]
  },
  {
   "cell_type": "code",
   "execution_count": 19,
   "metadata": {
    "collapsed": true
   },
   "outputs": [],
   "source": [
    "from sklearn.neural_network import MLPRegressor\n",
    "from utils import mean_squared_error"
   ]
  },
  {
   "cell_type": "code",
   "execution_count": 22,
   "metadata": {},
   "outputs": [
    {
     "data": {
      "text/plain": [
       "2.7296874848552193"
      ]
     },
     "execution_count": 22,
     "metadata": {},
     "output_type": "execute_result"
    }
   ],
   "source": [
    "mlp = MLPRegressor(hidden_layer_sizes=(30, ), activation = 'logistic', solver = \"sgd\", alpha = 0.0001, batch_size =10, learning_rate_init=0.01)\n",
    "mlp.fit(X_train, y_train)\n",
    "y_pred = mlp.predict(X_valid)\n",
    "#logistic activation uses the sigmoid function \n",
    "mean_squared_error(y_pred, y_valid)"
   ]
  },
  {
   "cell_type": "code",
   "execution_count": 18,
   "metadata": {
    "collapsed": true
   },
   "outputs": [],
   "source": [
    "mlp = MLPRegressor(hidden_layer_sizes=(30, ), activation = 'relu', solver = \"sgd\", alpha = 0.0001, batch_size =10, learning_rate_init=0.01)\n",
    "mlp.fit(X_train, y_train)\n",
    "y_pred = mlp.predict(X_valid)"
   ]
  },
  {
   "cell_type": "code",
   "execution_count": 21,
   "metadata": {},
   "outputs": [
    {
     "data": {
      "text/plain": [
       "9450745.3713655714"
      ]
     },
     "execution_count": 21,
     "metadata": {},
     "output_type": "execute_result"
    }
   ],
   "source": [
    "mean_squared_error(y_pred, y_valid)"
   ]
  }
 ],
 "metadata": {
  "kernelspec": {
   "display_name": "Python 3",
   "language": "python",
   "name": "python3"
  },
  "language_info": {
   "codemirror_mode": {
    "name": "ipython",
    "version": 3
   },
   "file_extension": ".py",
   "mimetype": "text/x-python",
   "name": "python",
   "nbconvert_exporter": "python",
   "pygments_lexer": "ipython3",
   "version": "3.6.6"
  }
 },
 "nbformat": 4,
 "nbformat_minor": 2
}
