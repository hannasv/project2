{
 "cells": [
  {
   "cell_type": "markdown",
   "metadata": {},
   "source": [
    "# Project 2"
   ]
  },
  {
   "cell_type": "code",
   "execution_count": 22,
   "metadata": {},
   "outputs": [],
   "source": [
    "import numpy as np\n",
    "import scipy.sparse as sp\n",
    "np.random.seed(12)\n",
    "\n",
    "\n",
    "import warnings\n",
    "#Comment this to turn on warnings\n",
    "warnings.filterwarnings('ignore')\n",
    "\n",
    "from utils import generateDesignmatrix\n",
    "from model_comparison import model_comparison\n",
    "import algorithms\n",
    "import matplotlib.pyplot as plt\n",
    "\n",
    "from sklearn.linear_model import LinearRegression"
   ]
  },
  {
   "cell_type": "markdown",
   "metadata": {},
   "source": [
    "Calculating the coupeling coefficient J. \n",
    "\n",
    "Want to predict the energy with E = X*J"
   ]
  },
  {
   "cell_type": "code",
   "execution_count": 2,
   "metadata": {},
   "outputs": [
    {
     "data": {
      "text/plain": [
       "'\\nComparing to project 1 - x = states, z = energies... \\nCurrently no y since we are in one dimension. \\n\\n'"
      ]
     },
     "execution_count": 2,
     "metadata": {},
     "output_type": "execute_result"
    }
   ],
   "source": [
    "### define Ising model aprams\n",
    "# system size\n",
    "L=40\n",
    "\n",
    "# create 10000 random Ising states\n",
    "states=np.random.choice([-1, 1], size=(10000,L))\n",
    "\n",
    "def ising_energies(states,L):\n",
    "    \"\"\"\n",
    "    This function calculates the energies of the states in the nn Ising Hamiltonian\n",
    "    \"\"\"\n",
    "    J=np.zeros((L,L),)\n",
    "    for i in range(L):\n",
    "        J[i,(i+1)%L]-=1.0\n",
    "    # compute energies\n",
    "    E = np.einsum('...i,ij,...j->...',states,J,states)\n",
    "\n",
    "    return E\n",
    "# calculate Ising energies\n",
    "energies=ising_energies(states,L)\n",
    "\n",
    "\"\"\"\n",
    "Comparing to project 1 - x = states, z = energies... \n",
    "Currently no y since we are in one dimension. \n",
    "\n",
    "\"\"\""
   ]
  },
  {
   "cell_type": "code",
   "execution_count": 3,
   "metadata": {},
   "outputs": [
    {
     "data": {
      "text/plain": [
       "(10000, 40)"
      ]
     },
     "execution_count": 3,
     "metadata": {},
     "output_type": "execute_result"
    }
   ],
   "source": [
    "states.shape"
   ]
  },
  {
   "cell_type": "code",
   "execution_count": 4,
   "metadata": {
    "scrolled": true
   },
   "outputs": [
    {
     "data": {
      "text/plain": [
       "(10000,)"
      ]
     },
     "execution_count": 4,
     "metadata": {},
     "output_type": "execute_result"
    }
   ],
   "source": [
    "energies.shape"
   ]
  },
  {
   "cell_type": "markdown",
   "metadata": {},
   "source": [
    "## OBS OBS copy -- forklare hva som skjer her -- gir singular matrix i OLS"
   ]
  },
  {
   "cell_type": "code",
   "execution_count": 5,
   "metadata": {
    "collapsed": true
   },
   "outputs": [],
   "source": [
    "# reshape Ising states into RL samples: S_iS_j --> X_p\n",
    "states=np.einsum('...i,...j->...ij', states, states)\n",
    "shape=states.shape\n",
    "states=states.reshape((shape[0],shape[1]*shape[2])) \n",
    "# build final data set\n",
    "Data=[states,energies]\n",
    "\n",
    "# define number of samples\n",
    "n_samples=400\n",
    "# define train and test data sets\n",
    "X_train=Data[0][:n_samples]\n",
    "Y_train=Data[1][:n_samples] #+ np.random.normal(0,4.0,size=X_train.shape[0])\n",
    "X_test=Data[0][n_samples:3*n_samples//2]\n",
    "Y_test=Data[1][n_samples:3*n_samples//2] #+ np.random.normal(0,4.0,size=X_test.shape[0])"
   ]
  },
  {
   "cell_type": "code",
   "execution_count": 6,
   "metadata": {},
   "outputs": [
    {
     "data": {
      "text/plain": [
       "array([ 0.01943949, -0.18352612, -0.04226814, ...,  0.0465506 ,\n",
       "       -0.28527046,  0.        ])"
      ]
     },
     "execution_count": 6,
     "metadata": {},
     "output_type": "execute_result"
    }
   ],
   "source": [
    "ols = LinearRegression().fit(X_train, Y_train)\n",
    "ols.coef_"
   ]
  },
  {
   "cell_type": "code",
   "execution_count": 7,
   "metadata": {},
   "outputs": [
    {
     "data": {
      "text/plain": [
       "((400, 400), (400,), (400, 1600))"
      ]
     },
     "execution_count": 7,
     "metadata": {},
     "output_type": "execute_result"
    }
   ],
   "source": [
    "X_train\n",
    "X = X_train\n",
    "y = Y_train\n",
    "lmd = 0.1\n",
    "u,s,vh = np.linalg.svd(X_train, full_matrices = False)\n",
    "u.shape, s.shape, vh.shape"
   ]
  },
  {
   "cell_type": "code",
   "execution_count": 8,
   "metadata": {},
   "outputs": [
    {
     "data": {
      "text/plain": [
       "array([ 0.00290659, -0.1728435 , -0.05089638, ...,  0.04637133,\n",
       "       -0.28561005,  0.00290659])"
      ]
     },
     "execution_count": 8,
     "metadata": {},
     "output_type": "execute_result"
    }
   ],
   "source": [
    "coef_ = X.T@y@np.linalg.inv(X.T@X + lmd*np.identity(X.shape[1]))\n",
    "coef_\n"
   ]
  },
  {
   "cell_type": "code",
   "execution_count": 9,
   "metadata": {},
   "outputs": [
    {
     "data": {
      "text/plain": [
       "(1600,)"
      ]
     },
     "execution_count": 9,
     "metadata": {},
     "output_type": "execute_result"
    }
   ],
   "source": [
    "(X.T@y).shape"
   ]
  },
  {
   "cell_type": "code",
   "execution_count": 10,
   "metadata": {},
   "outputs": [
    {
     "data": {
      "text/plain": [
       "array([[400.1, -10. , -14. , ...,  -2. ,  14. , 400. ],\n",
       "       [-10. , 400.1,  20. , ...,  24. ,  -8. , -10. ],\n",
       "       [-14. ,  20. , 400.1, ...,   0. ,   8. , -14. ],\n",
       "       ...,\n",
       "       [ -2. ,  24. ,   0. , ..., 400.1,  28. ,  -2. ],\n",
       "       [ 14. ,  -8. ,   8. , ...,  28. , 400.1,  14. ],\n",
       "       [400. , -10. , -14. , ...,  -2. ,  14. , 400.1]])"
      ]
     },
     "execution_count": 10,
     "metadata": {},
     "output_type": "execute_result"
    }
   ],
   "source": [
    "X.T@X + lmd*np.identity(X.shape[1])"
   ]
  },
  {
   "cell_type": "code",
   "execution_count": 11,
   "metadata": {},
   "outputs": [
    {
     "data": {
      "text/plain": [
       "(400,)"
      ]
     },
     "execution_count": 11,
     "metadata": {},
     "output_type": "execute_result"
    }
   ],
   "source": [
    "Y_train.shape"
   ]
  },
  {
   "cell_type": "code",
   "execution_count": 38,
   "metadata": {},
   "outputs": [
    {
     "name": "stdout",
     "output_type": "stream",
     "text": [
      "Testing model: ols\n",
      "0\n",
      "Testing model: ridge\n",
      "5\n",
      "Testing model: lasso\n",
      "1\n"
     ]
    }
   ],
   "source": [
    "# Experimental setup\n",
    "models = {\n",
    "    \"ols\": algorithms.OLS,\n",
    "    #\"ols\": LinearRegression,\n",
    "    'ridge': algorithms.Ridge, \n",
    "    \"lasso\": algorithms.Lasso\n",
    "}\n",
    "param_grid = {\n",
    "    'ols': [0],\n",
    "    'ridge': [0.0001, 0.001, 0.01, 0.1, 1.0, 10.0, 100.0, 1000.0, 10000, 100000],  \n",
    "    'lasso': [0.0001, 0.001, 0.01, 0.1, 1.0, 10.0, 100.0, 1000.0, 10000, 100000]\n",
    "}\n",
    "\n",
    "\n",
    "results, z_pred_best = model_comparison(\n",
    "    models, param_grid, X_train, Y_train, split_size=0.2\n",
    "    )"
   ]
  },
  {
   "cell_type": "code",
   "execution_count": 39,
   "metadata": {
    "scrolled": false
   },
   "outputs": [
    {
     "data": {
      "text/plain": [
       "{'mse_test': {'lasso': [[35.09644393888305,\n",
       "    8.008633987846418e-05,\n",
       "    0.007866144137519942,\n",
       "    0.7855027735851123,\n",
       "    35.61811597790815,\n",
       "    39.802499999999995,\n",
       "    39.802499999999995,\n",
       "    39.802499999999995,\n",
       "    39.802499999999995,\n",
       "    39.802499999999995]],\n",
       "  'ols': [[25.050701595433132]],\n",
       "  'ridge': [[25.050701207066673,\n",
       "    25.050698194310748,\n",
       "    25.050667603419292,\n",
       "    25.050362129014424,\n",
       "    25.04735252743228,\n",
       "    25.02153122787039,\n",
       "    25.033704349269904,\n",
       "    28.009083493976114,\n",
       "    36.08085331255271,\n",
       "    39.15513012916411]]},\n",
       " 'mse_train': {'lasso': [[3.879828784476512e-06,\n",
       "    5.163746668419624e-05,\n",
       "    0.005112350046471278,\n",
       "    0.510846005093575,\n",
       "    29.262654619926877,\n",
       "    35.7975,\n",
       "    35.7975,\n",
       "    35.7975,\n",
       "    35.7975,\n",
       "    35.7975]],\n",
       "  'ols': [[2.389001340680336e-28]],\n",
       "  'ridge': [[3.0658664535005684e-13,\n",
       "    3.097466218865518e-11,\n",
       "    3.0971217631193057e-09,\n",
       "    3.0960032980163547e-07,\n",
       "    3.0849270857198624e-05,\n",
       "    0.002978381915960594,\n",
       "    0.22112967509351944,\n",
       "    5.539975538111692,\n",
       "    25.086152177174817,\n",
       "    34.51625446149727]]},\n",
       " 'r2_test': {'lasso': [[0.11372616315951889,\n",
       "    0.9999979776176798,\n",
       "    0.9998013599965273,\n",
       "    0.9801640713741133,\n",
       "    0.10055262682050137,\n",
       "    -0.005113636363636376,\n",
       "    -0.005113636363636376,\n",
       "    -0.005113636363636376,\n",
       "    -0.005113636363636376,\n",
       "    -0.005113636363636376]],\n",
       "  'ols': [[0.3674065253678501]],\n",
       "  'ridge': [[0.3674065351750839,\n",
       "    0.36740661125477914,\n",
       "    0.3674073837520381,\n",
       "    0.36741509775216097,\n",
       "    0.3674910977921141,\n",
       "    0.36814315081135385,\n",
       "    0.3678357487558106,\n",
       "    0.29269991176828003,\n",
       "    0.08886734059210322,\n",
       "    0.011234087647371105]]},\n",
       " 'r2_train': {'lasso': [[0.9999998916173257,\n",
       "    0.99999855751193,\n",
       "    0.9998571869530981,\n",
       "    0.9857295619779712,\n",
       "    0.18255032837692908,\n",
       "    0.0,\n",
       "    0.0,\n",
       "    0.0,\n",
       "    0.0,\n",
       "    0.0]],\n",
       "  'ols': [[1.0]],\n",
       "  'ridge': [[0.9999999999999915,\n",
       "    0.9999999999991347,\n",
       "    0.9999999999134822,\n",
       "    0.9999999913513421,\n",
       "    0.999999138228344,\n",
       "    0.9999167991643003,\n",
       "    0.9938227620617776,\n",
       "    0.8452412727673247,\n",
       "    0.29922055514561574,\n",
       "    0.03579148092751516]]}}"
      ]
     },
     "execution_count": 39,
     "metadata": {},
     "output_type": "execute_result"
    }
   ],
   "source": [
    "results"
   ]
  },
  {
   "cell_type": "code",
   "execution_count": 46,
   "metadata": {},
   "outputs": [
    {
     "data": {
      "image/png": "[encoded data removed]",
      "text/plain": [
       "<matplotlib.figure.Figure at 0x7f9dbfb31c50>"
      ]
     },
     "metadata": {},
     "output_type": "display_data"
    }
   ],
   "source": [
    "# Generate figure\n",
    "\n",
    "# MSE\n",
    "plt.figure(1, figsize = (13,7))\n",
    "plt.subplot(1,2,1)\n",
    "xlogr = np.log10(param_grid['ridge'])  # log x-axis\n",
    "plt.plot(xlogr, (results[\"mse_train\"][\"ols\"]*np.ones(len(xlogr))).T, 'r', label='OLS (train)', linewidth=3.0) \n",
    "plt.plot(xlogr, (results[\"mse_test\"][\"ols\"]*np.ones(len(xlogr))).T, 'r--', label='OLS (test)',  linewidth=3.0) \n",
    "plt.plot(xlogr, np.asarray(results[\"mse_train\"][\"ridge\"]).T, 'b', label='Ridge (train)', linewidth=3.0) \n",
    "plt.plot(xlogr, np.asarray(results[\"mse_test\"][\"ridge\"]).T, 'b--', label='Ridge (test)', linewidth=3.0) \n",
    "plt.plot(xlogr, np.asarray(results[\"mse_train\"][\"lasso\"]).T, 'g', label='LASSO (train)', linewidth=3.0) \n",
    "plt.plot(xlogr, np.asarray(results[\"mse_test\"][\"lasso\"]).T, 'g--', label='LASSO (test)', linewidth=3.0) \n",
    "ax = plt.gca()\n",
    "plt.xticks(np.asarray(xlogr))\n",
    "ax.set_xticklabels(param_grid['ridge'])\n",
    "plt.xlabel('λ', fontsize=14)\n",
    "plt.ylabel('MSE', fontsize=14)\n",
    "plt.legend()\n",
    "\n",
    "# R-squared\n",
    "plt.subplot(1,2,2)\n",
    "plt.plot(xlogr, (results[\"r2_train\"][\"ols\"]*np.ones(len(xlogr))).T, 'r', label='OLS (train)', linewidth=3.0) \n",
    "plt.plot(xlogr, (results[\"r2_test\"][\"ols\"]*np.ones(len(xlogr))).T, 'r--', label='OLS (test)', linewidth=3.0) \n",
    "plt.plot(xlogr, np.asarray(results[\"r2_train\"][\"ridge\"]).T, 'b', label='Ridge (train)', linewidth=3.0) \n",
    "plt.plot(xlogr, np.asarray(results[\"r2_test\"][\"ridge\"]).T, 'b--', label='Ridge (test)', linewidth=3.0) \n",
    "plt.plot(xlogr, np.asarray(results[\"r2_train\"][\"lasso\"]).T, 'g', label='LASSO (train)', linewidth=3.0) \n",
    "plt.plot(xlogr, np.asarray(results[\"r2_test\"][\"lasso\"]).T, 'g--', label='LASSO (test)', linewidth=3.0) \n",
    "ax = plt.gca()\n",
    "plt.xticks(np.asarray(xlogr))\n",
    "ax.set_xticklabels(param_grid['ridge'])\n",
    "plt.xlabel('λ', fontsize=14)\n",
    "plt.ylabel('R2', fontsize=14)\n",
    "plt.legend()\n",
    "plt.suptitle(\"Performance of OLS, Ridge and LASSO regressions\", y=1.05, fontsize=17)\n",
    "\n",
    "#plt.savefig(\"results/figures/franke/performance/performance_p5.png\")\n",
    "plt.tight_layout()    \n",
    "plt.show()"
   ]
  },
  {
   "cell_type": "markdown",
   "metadata": {},
   "source": [
    "The above figure is similar to the one in the notebook from metha et al."
   ]
  },
  {
   "cell_type": "code",
   "execution_count": 45,
   "metadata": {},
   "outputs": [
    {
     "data": {
      "text/plain": [
       "(80,)"
      ]
     },
     "execution_count": 45,
     "metadata": {},
     "output_type": "execute_result"
    }
   ],
   "source": [
    "ols = z_pred_best[\"ols\"]\n",
    "ridge = z_pred_best[\"ridge\"]\n",
    "lasso = z_pred_best[\"lasso\"]\n",
    "ols.shape"
   ]
  },
  {
   "cell_type": "code",
   "execution_count": 48,
   "metadata": {},
   "outputs": [
    {
     "data": {
      "text/plain": [
       "array([ 1.12697774,  2.11722628, -0.9228329 ,  2.50667314, -6.29790192,\n",
       "        1.01035803, -4.3561449 ,  0.31302094, -3.59214428, -0.96840303,\n",
       "        2.55591966,  3.26613398,  4.04635789, -7.5493025 , -4.74046904,\n",
       "        3.49838814,  1.75838804, -4.01998758,  4.71662722, -4.03244548,\n",
       "       -1.74961878,  7.09579448,  2.13310405, -0.19758565,  1.26041863,\n",
       "       -1.75771422,  1.53399575,  3.84308395,  6.05765422,  7.48764148,\n",
       "       -6.13437349,  2.97122146,  4.09169743,  4.65342782,  0.1430361 ,\n",
       "       -2.48472715, -0.37510141, -2.69036551, -0.31076816,  1.43549762,\n",
       "       -6.93919806,  3.8742119 ,  0.7644756 ,  1.41196935, -0.39500569,\n",
       "       -1.1259686 ,  2.76182805,  1.8217726 , -5.09606258,  4.9099753 ,\n",
       "        8.6833006 ,  3.27778455, -2.44981406,  0.18955925, -4.94612782,\n",
       "       -3.34031599,  2.10208899, -5.30026581, -4.77187365,  5.16933595,\n",
       "       -1.35047349,  0.45233927, -1.6867737 , -1.54037591,  1.02108122,\n",
       "        6.19768411, -6.1920932 , -0.75886614, -1.05821202, -7.7253231 ,\n",
       "       -2.10650475,  0.83478482,  9.3339357 , -5.26441535,  1.06087753,\n",
       "        4.99699451,  0.07865487,  0.59485528,  0.30832877, -3.51043268])"
      ]
     },
     "execution_count": 48,
     "metadata": {},
     "output_type": "execute_result"
    }
   ],
   "source": [
    "ols"
   ]
  },
  {
   "cell_type": "code",
   "execution_count": null,
   "metadata": {
    "collapsed": true
   },
   "outputs": [],
   "source": []
  },
  {
   "cell_type": "code",
   "execution_count": null,
   "metadata": {
    "collapsed": true
   },
   "outputs": [],
   "source": []
  },
  {
   "cell_type": "code",
   "execution_count": null,
   "metadata": {
    "collapsed": true
   },
   "outputs": [],
   "source": []
  },
  {
   "cell_type": "markdown",
   "metadata": {
    "collapsed": true
   },
   "source": [
    "# Creating svd -- testing."
   ]
  },
  {
   "cell_type": "code",
   "execution_count": 14,
   "metadata": {
    "collapsed": true
   },
   "outputs": [],
   "source": [
    "A = np.concatenate([[1,2,3], [9,7,2], [6,1,4]]).reshape((3, 3))"
   ]
  },
  {
   "cell_type": "code",
   "execution_count": 15,
   "metadata": {},
   "outputs": [
    {
     "name": "stdout",
     "output_type": "stream",
     "text": [
      "[[180.89394831   0.           0.        ]\n",
      " [  0.           5.56677984   0.        ]\n",
      " [  0.           0.          14.53927185]]\n"
     ]
    },
    {
     "data": {
      "text/plain": [
       "(array([[ 0.20589536, -0.91983107,  0.33394297],\n",
       "        [ 0.8474132 , -0.00306607, -0.5309251 ],\n",
       "        [ 0.4893853 ,  0.39230269,  0.7788457 ]]),\n",
       " array([[13.44968209,  0.        ,  0.        ],\n",
       "        [ 0.        ,  2.35940243,  0.        ],\n",
       "        [ 0.        ,  0.        ,  3.81303971]]),\n",
       " array([[ 0.80068256,  0.5960791 ,  0.0599761 ],\n",
       "        [ 0.50804683, -0.62253979, -0.59525845],\n",
       "        [ 0.31748361, -0.50708373,  0.80129286]]))"
      ]
     },
     "execution_count": 15,
     "metadata": {},
     "output_type": "execute_result"
    }
   ],
   "source": [
    "#def svd(A):\n",
    "\" returns the singular value decomposition of a matrix A = U@D@V.T\"\n",
    "# calculate eigenvalues and eigenvectores.\n",
    "nrows, ncols = np.shape(A)\n",
    "u,V = np.linalg.eig(A.T@A)\n",
    "# u is a vector of eigenvalues\n",
    "# v is a vecort of eigenvectores.\n",
    "s = np.sqrt(u) # singular values is the\n",
    "D = np.identity(ncols)*s\n",
    "\n",
    "print(D*s)\n",
    "\n",
    "# D-1 is equal to 1/dii for all elements in D.\n",
    "U = A@V@np.linalg.inv(D)\n",
    "U, D, V"
   ]
  },
  {
   "cell_type": "code",
   "execution_count": 16,
   "metadata": {},
   "outputs": [
    {
     "data": {
      "text/plain": [
       "array([[ 1.00000000e+00, -1.96158547e-15, -1.17134204e-16],\n",
       "       [-1.96158547e-15,  1.00000000e+00,  2.26946395e-15],\n",
       "       [-1.17134204e-16,  2.26946395e-15,  1.00000000e+00]])"
      ]
     },
     "execution_count": 16,
     "metadata": {},
     "output_type": "execute_result"
    }
   ],
   "source": [
    "U.T@U # identity"
   ]
  },
  {
   "cell_type": "code",
   "execution_count": 17,
   "metadata": {},
   "outputs": [
    {
     "data": {
      "text/plain": [
       "array([[ 1.00000000e+00, -3.05423406e-16, -1.15137686e-16],\n",
       "       [-3.05423406e-16,  1.00000000e+00,  1.47285696e-15],\n",
       "       [-1.15137686e-16,  1.47285696e-15,  1.00000000e+00]])"
      ]
     },
     "execution_count": 17,
     "metadata": {},
     "output_type": "execute_result"
    }
   ],
   "source": [
    "V.T@V # this is close to the identity. "
   ]
  },
  {
   "cell_type": "code",
   "execution_count": 18,
   "metadata": {},
   "outputs": [
    {
     "data": {
      "text/plain": [
       "array([[1, 2, 3],\n",
       "       [9, 7, 2],\n",
       "       [6, 1, 4]])"
      ]
     },
     "execution_count": 18,
     "metadata": {},
     "output_type": "execute_result"
    }
   ],
   "source": [
    "A"
   ]
  },
  {
   "cell_type": "code",
   "execution_count": 19,
   "metadata": {},
   "outputs": [
    {
     "data": {
      "text/plain": [
       "array([[1., 2., 3.],\n",
       "       [9., 7., 2.],\n",
       "       [6., 1., 4.]])"
      ]
     },
     "execution_count": 19,
     "metadata": {},
     "output_type": "execute_result"
    }
   ],
   "source": [
    "U@D@V.T"
   ]
  },
  {
   "cell_type": "code",
   "execution_count": 20,
   "metadata": {},
   "outputs": [
    {
     "data": {
      "text/plain": [
       "True"
      ]
     },
     "execution_count": 20,
     "metadata": {},
     "output_type": "execute_result"
    }
   ],
   "source": [
    "np.allclose(A,  U@D@V.T)"
   ]
  },
  {
   "cell_type": "code",
   "execution_count": null,
   "metadata": {
    "collapsed": true
   },
   "outputs": [],
   "source": []
  },
  {
   "cell_type": "markdown",
   "metadata": {},
   "source": [
    "# Download to dim data"
   ]
  },
  {
   "cell_type": "code",
   "execution_count": 52,
   "metadata": {},
   "outputs": [],
   "source": [
    "import pickle\n",
    "import os\n",
    "import glob\n",
    "import numpy as np\n",
    "import pandas as pd\n",
    "import matplotlib.pyplot as plt\n",
    "import seaborn as sns\n",
    "import sklearn.model_selection as skms\n",
    "import sklearn.linear_model as skl\n",
    "import sklearn.metrics as skm\n",
    "import tqdm\n",
    "import copy\n",
    "import time\n",
    "from IPython.display import display\n",
    "\n",
    "%matplotlib inline\n",
    "\n",
    "sns.set(color_codes=True)\n",
    "\n"
   ]
  },
  {
   "cell_type": "code",
   "execution_count": 53,
   "metadata": {},
   "outputs": [
    {
     "ename": "IndexError",
     "evalue": "list index out of range",
     "output_type": "error",
     "traceback": [
      "\u001b[0;31m---------------------------------------------------------------------------\u001b[0m",
      "\u001b[0;31mIndexError\u001b[0m                                Traceback (most recent call last)",
      "\u001b[0;32m<ipython-input-53-d70cc53501a3>\u001b[0m in \u001b[0;36m<module>\u001b[0;34m()\u001b[0m\n\u001b[1;32m      1\u001b[0m \u001b[0mfilenames\u001b[0m \u001b[0;34m=\u001b[0m \u001b[0mglob\u001b[0m\u001b[0;34m.\u001b[0m\u001b[0mglob\u001b[0m\u001b[0;34m(\u001b[0m\u001b[0mos\u001b[0m\u001b[0;34m.\u001b[0m\u001b[0mpath\u001b[0m\u001b[0;34m.\u001b[0m\u001b[0mjoin\u001b[0m\u001b[0;34m(\u001b[0m\u001b[0;34m\"..\"\u001b[0m\u001b[0;34m,\u001b[0m \u001b[0;34m\"dat\"\u001b[0m\u001b[0;34m,\u001b[0m \u001b[0;34m\"*\"\u001b[0m\u001b[0;34m)\u001b[0m\u001b[0;34m)\u001b[0m\u001b[0;34m\u001b[0m\u001b[0m\n\u001b[0;32m----> 2\u001b[0;31m \u001b[0mlabel_filename\u001b[0m \u001b[0;34m=\u001b[0m \u001b[0mlist\u001b[0m\u001b[0;34m(\u001b[0m\u001b[0mfilter\u001b[0m\u001b[0;34m(\u001b[0m\u001b[0;32mlambda\u001b[0m \u001b[0mx\u001b[0m\u001b[0;34m:\u001b[0m \u001b[0;34m\"label\"\u001b[0m \u001b[0;32min\u001b[0m \u001b[0mx\u001b[0m\u001b[0;34m,\u001b[0m \u001b[0mfilenames\u001b[0m\u001b[0;34m)\u001b[0m\u001b[0;34m)\u001b[0m\u001b[0;34m[\u001b[0m\u001b[0;36m0\u001b[0m\u001b[0;34m]\u001b[0m\u001b[0;34m\u001b[0m\u001b[0m\n\u001b[0m\u001b[1;32m      3\u001b[0m \u001b[0mdat_filename\u001b[0m \u001b[0;34m=\u001b[0m \u001b[0mlist\u001b[0m\u001b[0;34m(\u001b[0m\u001b[0mfilter\u001b[0m\u001b[0;34m(\u001b[0m\u001b[0;32mlambda\u001b[0m \u001b[0mx\u001b[0m\u001b[0;34m:\u001b[0m \u001b[0;34m\"label\"\u001b[0m \u001b[0;32mnot\u001b[0m \u001b[0;32min\u001b[0m \u001b[0mx\u001b[0m\u001b[0;34m,\u001b[0m \u001b[0mfilenames\u001b[0m\u001b[0;34m)\u001b[0m\u001b[0;34m)\u001b[0m\u001b[0;34m[\u001b[0m\u001b[0;36m0\u001b[0m\u001b[0;34m]\u001b[0m\u001b[0;34m\u001b[0m\u001b[0m\n\u001b[1;32m      4\u001b[0m \u001b[0;34m\u001b[0m\u001b[0m\n\u001b[1;32m      5\u001b[0m \u001b[0;31m# Read in the labels\u001b[0m\u001b[0;34m\u001b[0m\u001b[0;34m\u001b[0m\u001b[0m\n",
      "\u001b[0;31mIndexError\u001b[0m: list index out of range"
     ]
    }
   ],
   "source": [
    "filenames = glob.glob(os.path.join(\"..\", \"dat\", \"*\"))\n",
    "label_filename = list(filter(lambda x: \"label\" in x, filenames))[0]\n",
    "dat_filename = list(filter(lambda x: \"label\" not in x, filenames))[0]\n",
    "\n",
    "# Read in the labels\n",
    "with open(label_filename, \"rb\") as f:\n",
    "    labels = pickle.load(f)\n",
    "\n",
    "# Read in the corresponding configurations\n",
    "with open(dat_filename, \"rb\") as f:\n",
    "    data = np.unpackbits(pickle.load(f)).reshape(-1, 1600).astype(\"int\")\n",
    "\n",
    "# Set spin-down to -1\n",
    "data[data == 0] = -1"
   ]
  },
  {
   "cell_type": "code",
   "execution_count": null,
   "metadata": {
    "collapsed": true
   },
   "outputs": [],
   "source": []
  },
  {
   "cell_type": "code",
   "execution_count": null,
   "metadata": {
    "collapsed": true
   },
   "outputs": [],
   "source": []
  },
  {
   "cell_type": "code",
   "execution_count": null,
   "metadata": {
    "collapsed": true
   },
   "outputs": [],
   "source": []
  },
  {
   "cell_type": "code",
   "execution_count": null,
   "metadata": {
    "collapsed": true
   },
   "outputs": [],
   "source": []
  },
  {
   "cell_type": "code",
   "execution_count": null,
   "metadata": {
    "collapsed": true
   },
   "outputs": [],
   "source": []
  },
  {
   "cell_type": "code",
   "execution_count": null,
   "metadata": {
    "collapsed": true
   },
   "outputs": [],
   "source": []
  }
 ],
 "metadata": {
  "kernelspec": {
   "display_name": "Python 3",
   "language": "python",
   "name": "python3"
  },
  "language_info": {
   "codemirror_mode": {
    "name": "ipython",
    "version": 3
   },
   "file_extension": ".py",
   "mimetype": "text/x-python",
   "name": "python",
   "nbconvert_exporter": "python",
   "pygments_lexer": "ipython3",
   "version": "3.6.6"
  }
 },
 "nbformat": 4,
 "nbformat_minor": 2
}
